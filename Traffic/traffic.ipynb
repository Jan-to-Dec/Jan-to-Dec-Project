{
 "cells": [
  {
   "cell_type": "code",
   "execution_count": 3,
   "metadata": {},
   "outputs": [],
   "source": [
    "import pandas as pd \n",
    "import numpy as numpy\n",
    "import matplotlib.pyplot as plt\n",
    "import warnings\n",
    "import os \n",
    "import chardet\n",
    "import seaborn as sns\n",
    "import plotly.express as px\n",
    "plt.rcParams['font.family'] = 'Malgun Gothic'\n",
    "\n",
    "warnings.filterwarnings(\"ignore\")"
   ]
  },
  {
   "cell_type": "code",
   "execution_count": null,
   "metadata": {},
   "outputs": [],
   "source": [
    "from sklearn.cluster import KMeans"
   ]
  },
  {
   "cell_type": "code",
   "execution_count": 5,
   "metadata": {},
   "outputs": [
    {
     "name": "stdout",
     "output_type": "stream",
     "text": [
      "{'encoding': 'EUC-KR', 'confidence': 0.99, 'language': 'Korean'}\n"
     ]
    }
   ],
   "source": [
    "rawdata = open('서울시 지하철 호선별 역별 시간대별 승하차 인원 정보.csv', 'rb').read()\n",
    "result = chardet.detect(rawdata)\n",
    "print(result)\n"
   ]
  },
  {
   "cell_type": "code",
   "execution_count": 6,
   "metadata": {},
   "outputs": [],
   "source": [
    "data = pd.read_csv('서울시 지하철 호선별 역별 시간대별 승하차 인원 정보.csv', encoding=result['encoding'])\n"
   ]
  },
  {
   "cell_type": "code",
   "execution_count": 7,
   "metadata": {},
   "outputs": [
    {
     "data": {
      "text/html": [
       "<div>\n",
       "<style scoped>\n",
       "    .dataframe tbody tr th:only-of-type {\n",
       "        vertical-align: middle;\n",
       "    }\n",
       "\n",
       "    .dataframe tbody tr th {\n",
       "        vertical-align: top;\n",
       "    }\n",
       "\n",
       "    .dataframe thead th {\n",
       "        text-align: right;\n",
       "    }\n",
       "</style>\n",
       "<table border=\"1\" class=\"dataframe\">\n",
       "  <thead>\n",
       "    <tr style=\"text-align: right;\">\n",
       "      <th></th>\n",
       "      <th>사용월</th>\n",
       "      <th>호선명</th>\n",
       "      <th>지하철역</th>\n",
       "      <th>04시-05시 승차인원</th>\n",
       "      <th>04시-05시 하차인원</th>\n",
       "      <th>05시-06시 승차인원</th>\n",
       "      <th>05시-06시 하차인원</th>\n",
       "      <th>06시-07시 승차인원</th>\n",
       "      <th>06시-07시 하차인원</th>\n",
       "      <th>07시-08시 승차인원</th>\n",
       "      <th>...</th>\n",
       "      <th>23시-24시 하차인원</th>\n",
       "      <th>00시-01시 승차인원</th>\n",
       "      <th>00시-01시 하차인원</th>\n",
       "      <th>01시-02시 승차인원</th>\n",
       "      <th>01시-02시 하차인원</th>\n",
       "      <th>02시-03시 승차인원</th>\n",
       "      <th>02시-03시 하차인원</th>\n",
       "      <th>03시-04시 승차인원</th>\n",
       "      <th>03시-04시 하차인원</th>\n",
       "      <th>작업일자</th>\n",
       "    </tr>\n",
       "  </thead>\n",
       "  <tbody>\n",
       "    <tr>\n",
       "      <th>0</th>\n",
       "      <td>202410</td>\n",
       "      <td>1호선</td>\n",
       "      <td>동대문</td>\n",
       "      <td>634</td>\n",
       "      <td>22</td>\n",
       "      <td>12458</td>\n",
       "      <td>1990</td>\n",
       "      <td>10170</td>\n",
       "      <td>7253</td>\n",
       "      <td>16816</td>\n",
       "      <td>...</td>\n",
       "      <td>9969</td>\n",
       "      <td>771</td>\n",
       "      <td>2838</td>\n",
       "      <td>4</td>\n",
       "      <td>231</td>\n",
       "      <td>0</td>\n",
       "      <td>0</td>\n",
       "      <td>0</td>\n",
       "      <td>0</td>\n",
       "      <td>20241103</td>\n",
       "    </tr>\n",
       "    <tr>\n",
       "      <th>1</th>\n",
       "      <td>202410</td>\n",
       "      <td>1호선</td>\n",
       "      <td>동묘앞</td>\n",
       "      <td>223</td>\n",
       "      <td>4</td>\n",
       "      <td>3169</td>\n",
       "      <td>1026</td>\n",
       "      <td>3758</td>\n",
       "      <td>5319</td>\n",
       "      <td>9258</td>\n",
       "      <td>...</td>\n",
       "      <td>4882</td>\n",
       "      <td>106</td>\n",
       "      <td>1831</td>\n",
       "      <td>0</td>\n",
       "      <td>263</td>\n",
       "      <td>0</td>\n",
       "      <td>0</td>\n",
       "      <td>0</td>\n",
       "      <td>0</td>\n",
       "      <td>20241103</td>\n",
       "    </tr>\n",
       "    <tr>\n",
       "      <th>2</th>\n",
       "      <td>202410</td>\n",
       "      <td>1호선</td>\n",
       "      <td>서울역</td>\n",
       "      <td>573</td>\n",
       "      <td>9</td>\n",
       "      <td>8623</td>\n",
       "      <td>9367</td>\n",
       "      <td>14928</td>\n",
       "      <td>61884</td>\n",
       "      <td>42711</td>\n",
       "      <td>...</td>\n",
       "      <td>13969</td>\n",
       "      <td>2848</td>\n",
       "      <td>3802</td>\n",
       "      <td>1</td>\n",
       "      <td>207</td>\n",
       "      <td>0</td>\n",
       "      <td>0</td>\n",
       "      <td>0</td>\n",
       "      <td>0</td>\n",
       "      <td>20241103</td>\n",
       "    </tr>\n",
       "    <tr>\n",
       "      <th>3</th>\n",
       "      <td>202410</td>\n",
       "      <td>1호선</td>\n",
       "      <td>시청</td>\n",
       "      <td>84</td>\n",
       "      <td>1</td>\n",
       "      <td>2078</td>\n",
       "      <td>5753</td>\n",
       "      <td>4249</td>\n",
       "      <td>30299</td>\n",
       "      <td>8265</td>\n",
       "      <td>...</td>\n",
       "      <td>3775</td>\n",
       "      <td>506</td>\n",
       "      <td>979</td>\n",
       "      <td>1</td>\n",
       "      <td>41</td>\n",
       "      <td>0</td>\n",
       "      <td>0</td>\n",
       "      <td>0</td>\n",
       "      <td>0</td>\n",
       "      <td>20241103</td>\n",
       "    </tr>\n",
       "    <tr>\n",
       "      <th>4</th>\n",
       "      <td>202410</td>\n",
       "      <td>1호선</td>\n",
       "      <td>신설동</td>\n",
       "      <td>384</td>\n",
       "      <td>22</td>\n",
       "      <td>9813</td>\n",
       "      <td>2340</td>\n",
       "      <td>10345</td>\n",
       "      <td>10232</td>\n",
       "      <td>22756</td>\n",
       "      <td>...</td>\n",
       "      <td>9779</td>\n",
       "      <td>375</td>\n",
       "      <td>2781</td>\n",
       "      <td>0</td>\n",
       "      <td>1</td>\n",
       "      <td>0</td>\n",
       "      <td>1</td>\n",
       "      <td>0</td>\n",
       "      <td>0</td>\n",
       "      <td>20241103</td>\n",
       "    </tr>\n",
       "  </tbody>\n",
       "</table>\n",
       "<p>5 rows × 52 columns</p>\n",
       "</div>"
      ],
      "text/plain": [
       "      사용월  호선명 지하철역  04시-05시 승차인원  04시-05시 하차인원  05시-06시 승차인원  05시-06시 하차인원  \\\n",
       "0  202410  1호선  동대문           634            22         12458          1990   \n",
       "1  202410  1호선  동묘앞           223             4          3169          1026   \n",
       "2  202410  1호선  서울역           573             9          8623          9367   \n",
       "3  202410  1호선   시청            84             1          2078          5753   \n",
       "4  202410  1호선  신설동           384            22          9813          2340   \n",
       "\n",
       "   06시-07시 승차인원  06시-07시 하차인원  07시-08시 승차인원  ...  23시-24시 하차인원  00시-01시 승차인원  \\\n",
       "0         10170          7253         16816  ...          9969           771   \n",
       "1          3758          5319          9258  ...          4882           106   \n",
       "2         14928         61884         42711  ...         13969          2848   \n",
       "3          4249         30299          8265  ...          3775           506   \n",
       "4         10345         10232         22756  ...          9779           375   \n",
       "\n",
       "   00시-01시 하차인원  01시-02시 승차인원  01시-02시 하차인원  02시-03시 승차인원  02시-03시 하차인원  \\\n",
       "0          2838             4           231             0             0   \n",
       "1          1831             0           263             0             0   \n",
       "2          3802             1           207             0             0   \n",
       "3           979             1            41             0             0   \n",
       "4          2781             0             1             0             1   \n",
       "\n",
       "   03시-04시 승차인원  03시-04시 하차인원      작업일자  \n",
       "0             0             0  20241103  \n",
       "1             0             0  20241103  \n",
       "2             0             0  20241103  \n",
       "3             0             0  20241103  \n",
       "4             0             0  20241103  \n",
       "\n",
       "[5 rows x 52 columns]"
      ]
     },
     "execution_count": 7,
     "metadata": {},
     "output_type": "execute_result"
    }
   ],
   "source": [
    "data.head()"
   ]
  },
  {
   "cell_type": "markdown",
   "metadata": {},
   "source": [
    "# 데이터 전처리"
   ]
  },
  {
   "cell_type": "code",
   "execution_count": 8,
   "metadata": {},
   "outputs": [
    {
     "data": {
      "text/html": [
       "<div>\n",
       "<style scoped>\n",
       "    .dataframe tbody tr th:only-of-type {\n",
       "        vertical-align: middle;\n",
       "    }\n",
       "\n",
       "    .dataframe tbody tr th {\n",
       "        vertical-align: top;\n",
       "    }\n",
       "\n",
       "    .dataframe thead th {\n",
       "        text-align: right;\n",
       "    }\n",
       "</style>\n",
       "<table border=\"1\" class=\"dataframe\">\n",
       "  <thead>\n",
       "    <tr style=\"text-align: right;\">\n",
       "      <th></th>\n",
       "      <th>사용월</th>\n",
       "      <th>호선명</th>\n",
       "      <th>지하철역</th>\n",
       "      <th>04시-05시 승차인원</th>\n",
       "      <th>04시-05시 하차인원</th>\n",
       "      <th>05시-06시 승차인원</th>\n",
       "      <th>05시-06시 하차인원</th>\n",
       "      <th>06시-07시 승차인원</th>\n",
       "      <th>06시-07시 하차인원</th>\n",
       "      <th>07시-08시 승차인원</th>\n",
       "      <th>...</th>\n",
       "      <th>00시-01시 하차인원</th>\n",
       "      <th>01시-02시 승차인원</th>\n",
       "      <th>01시-02시 하차인원</th>\n",
       "      <th>02시-03시 승차인원</th>\n",
       "      <th>02시-03시 하차인원</th>\n",
       "      <th>03시-04시 승차인원</th>\n",
       "      <th>03시-04시 하차인원</th>\n",
       "      <th>작업일자</th>\n",
       "      <th>연도</th>\n",
       "      <th>월</th>\n",
       "    </tr>\n",
       "  </thead>\n",
       "  <tbody>\n",
       "    <tr>\n",
       "      <th>0</th>\n",
       "      <td>202410</td>\n",
       "      <td>1호선</td>\n",
       "      <td>동대문</td>\n",
       "      <td>634</td>\n",
       "      <td>22</td>\n",
       "      <td>12458</td>\n",
       "      <td>1990</td>\n",
       "      <td>10170</td>\n",
       "      <td>7253</td>\n",
       "      <td>16816</td>\n",
       "      <td>...</td>\n",
       "      <td>2838</td>\n",
       "      <td>4</td>\n",
       "      <td>231</td>\n",
       "      <td>0</td>\n",
       "      <td>0</td>\n",
       "      <td>0</td>\n",
       "      <td>0</td>\n",
       "      <td>20241103</td>\n",
       "      <td>2024</td>\n",
       "      <td>10</td>\n",
       "    </tr>\n",
       "    <tr>\n",
       "      <th>1</th>\n",
       "      <td>202410</td>\n",
       "      <td>1호선</td>\n",
       "      <td>동묘앞</td>\n",
       "      <td>223</td>\n",
       "      <td>4</td>\n",
       "      <td>3169</td>\n",
       "      <td>1026</td>\n",
       "      <td>3758</td>\n",
       "      <td>5319</td>\n",
       "      <td>9258</td>\n",
       "      <td>...</td>\n",
       "      <td>1831</td>\n",
       "      <td>0</td>\n",
       "      <td>263</td>\n",
       "      <td>0</td>\n",
       "      <td>0</td>\n",
       "      <td>0</td>\n",
       "      <td>0</td>\n",
       "      <td>20241103</td>\n",
       "      <td>2024</td>\n",
       "      <td>10</td>\n",
       "    </tr>\n",
       "    <tr>\n",
       "      <th>2</th>\n",
       "      <td>202410</td>\n",
       "      <td>1호선</td>\n",
       "      <td>서울역</td>\n",
       "      <td>573</td>\n",
       "      <td>9</td>\n",
       "      <td>8623</td>\n",
       "      <td>9367</td>\n",
       "      <td>14928</td>\n",
       "      <td>61884</td>\n",
       "      <td>42711</td>\n",
       "      <td>...</td>\n",
       "      <td>3802</td>\n",
       "      <td>1</td>\n",
       "      <td>207</td>\n",
       "      <td>0</td>\n",
       "      <td>0</td>\n",
       "      <td>0</td>\n",
       "      <td>0</td>\n",
       "      <td>20241103</td>\n",
       "      <td>2024</td>\n",
       "      <td>10</td>\n",
       "    </tr>\n",
       "    <tr>\n",
       "      <th>3</th>\n",
       "      <td>202410</td>\n",
       "      <td>1호선</td>\n",
       "      <td>시청</td>\n",
       "      <td>84</td>\n",
       "      <td>1</td>\n",
       "      <td>2078</td>\n",
       "      <td>5753</td>\n",
       "      <td>4249</td>\n",
       "      <td>30299</td>\n",
       "      <td>8265</td>\n",
       "      <td>...</td>\n",
       "      <td>979</td>\n",
       "      <td>1</td>\n",
       "      <td>41</td>\n",
       "      <td>0</td>\n",
       "      <td>0</td>\n",
       "      <td>0</td>\n",
       "      <td>0</td>\n",
       "      <td>20241103</td>\n",
       "      <td>2024</td>\n",
       "      <td>10</td>\n",
       "    </tr>\n",
       "    <tr>\n",
       "      <th>4</th>\n",
       "      <td>202410</td>\n",
       "      <td>1호선</td>\n",
       "      <td>신설동</td>\n",
       "      <td>384</td>\n",
       "      <td>22</td>\n",
       "      <td>9813</td>\n",
       "      <td>2340</td>\n",
       "      <td>10345</td>\n",
       "      <td>10232</td>\n",
       "      <td>22756</td>\n",
       "      <td>...</td>\n",
       "      <td>2781</td>\n",
       "      <td>0</td>\n",
       "      <td>1</td>\n",
       "      <td>0</td>\n",
       "      <td>1</td>\n",
       "      <td>0</td>\n",
       "      <td>0</td>\n",
       "      <td>20241103</td>\n",
       "      <td>2024</td>\n",
       "      <td>10</td>\n",
       "    </tr>\n",
       "  </tbody>\n",
       "</table>\n",
       "<p>5 rows × 54 columns</p>\n",
       "</div>"
      ],
      "text/plain": [
       "      사용월  호선명 지하철역  04시-05시 승차인원  04시-05시 하차인원  05시-06시 승차인원  05시-06시 하차인원  \\\n",
       "0  202410  1호선  동대문           634            22         12458          1990   \n",
       "1  202410  1호선  동묘앞           223             4          3169          1026   \n",
       "2  202410  1호선  서울역           573             9          8623          9367   \n",
       "3  202410  1호선   시청            84             1          2078          5753   \n",
       "4  202410  1호선  신설동           384            22          9813          2340   \n",
       "\n",
       "   06시-07시 승차인원  06시-07시 하차인원  07시-08시 승차인원  ...  00시-01시 하차인원  01시-02시 승차인원  \\\n",
       "0         10170          7253         16816  ...          2838             4   \n",
       "1          3758          5319          9258  ...          1831             0   \n",
       "2         14928         61884         42711  ...          3802             1   \n",
       "3          4249         30299          8265  ...           979             1   \n",
       "4         10345         10232         22756  ...          2781             0   \n",
       "\n",
       "   01시-02시 하차인원  02시-03시 승차인원  02시-03시 하차인원  03시-04시 승차인원  03시-04시 하차인원  \\\n",
       "0           231             0             0             0             0   \n",
       "1           263             0             0             0             0   \n",
       "2           207             0             0             0             0   \n",
       "3            41             0             0             0             0   \n",
       "4             1             0             1             0             0   \n",
       "\n",
       "       작업일자    연도   월  \n",
       "0  20241103  2024  10  \n",
       "1  20241103  2024  10  \n",
       "2  20241103  2024  10  \n",
       "3  20241103  2024  10  \n",
       "4  20241103  2024  10  \n",
       "\n",
       "[5 rows x 54 columns]"
      ]
     },
     "execution_count": 8,
     "metadata": {},
     "output_type": "execute_result"
    }
   ],
   "source": [
    "# 날짜 컬럼 추가하기\n",
    "data['연도'] = pd.to_datetime(data['사용월'], format='%Y%m').dt.year\n",
    "data['월'] = pd.to_datetime(data['사용월'], format='%Y%m').dt.month\n",
    "\n",
    "data.head()"
   ]
  },
  {
   "cell_type": "code",
   "execution_count": 9,
   "metadata": {},
   "outputs": [
    {
     "data": {
      "text/plain": [
       "array([2024, 2023, 2022, 2021, 2020, 2019, 2018, 2017, 2016, 2015])"
      ]
     },
     "execution_count": 9,
     "metadata": {},
     "output_type": "execute_result"
    }
   ],
   "source": [
    "data['연도'].unique()"
   ]
  },
  {
   "cell_type": "code",
   "execution_count": 10,
   "metadata": {},
   "outputs": [],
   "source": [
    "data = data.query('호선명 == \"2호선\" and 연도 >= 2010')"
   ]
  },
  {
   "cell_type": "code",
   "execution_count": 11,
   "metadata": {},
   "outputs": [
    {
     "data": {
      "text/plain": [
       "['강남',\n",
       " '강변',\n",
       " '강변(동서울터미널)',\n",
       " '건대입구',\n",
       " '교대',\n",
       " '교대(법원.검찰청)',\n",
       " '구로디지털단지',\n",
       " '구의',\n",
       " '구의(광진구청)',\n",
       " '낙성대',\n",
       " '낙성대(강감찬)',\n",
       " '당산',\n",
       " '대림',\n",
       " '대림(구로구청)',\n",
       " '도림천',\n",
       " '동대문역사문화공원',\n",
       " '동대문역사문화공원(DDP)',\n",
       " '뚝섬',\n",
       " '문래',\n",
       " '방배',\n",
       " '봉천',\n",
       " '사당',\n",
       " '삼성',\n",
       " '삼성(무역센터)',\n",
       " '상왕십리',\n",
       " '서울대입구',\n",
       " '서울대입구(관악구청)',\n",
       " '서초',\n",
       " '선릉',\n",
       " '성수',\n",
       " '시청',\n",
       " '신답',\n",
       " '신당',\n",
       " '신대방',\n",
       " '신도림',\n",
       " '신림',\n",
       " '신설동',\n",
       " '신정네거리',\n",
       " '신천',\n",
       " '신촌',\n",
       " '아현',\n",
       " '양천구청',\n",
       " '역삼',\n",
       " '영등포구청',\n",
       " '왕십리(성동구청)',\n",
       " '용답',\n",
       " '용두',\n",
       " '용두(동대문구청)',\n",
       " '을지로3가',\n",
       " '을지로4가',\n",
       " '을지로입구',\n",
       " '이대',\n",
       " '잠실',\n",
       " '잠실(송파구청)',\n",
       " '잠실나루',\n",
       " '잠실새내',\n",
       " '종합운동장',\n",
       " '충정로',\n",
       " '충정로(경기대입구)',\n",
       " '한양대',\n",
       " '합정',\n",
       " '홍대입구']"
      ]
     },
     "execution_count": 11,
     "metadata": {},
     "output_type": "execute_result"
    }
   ],
   "source": [
    "#지하철역명 통일\n",
    "sorted(data['지하철역'].unique())"
   ]
  },
  {
   "cell_type": "code",
   "execution_count": 12,
   "metadata": {},
   "outputs": [
    {
     "data": {
      "text/plain": [
       "['강남',\n",
       " '강변',\n",
       " '건대입구',\n",
       " '교대',\n",
       " '구로디지털단지',\n",
       " '구의',\n",
       " '낙성대',\n",
       " '당산',\n",
       " '대림',\n",
       " '도림천',\n",
       " '동대문역사문화공원',\n",
       " '뚝섬',\n",
       " '문래',\n",
       " '방배',\n",
       " '봉천',\n",
       " '사당',\n",
       " '삼성',\n",
       " '상왕십리',\n",
       " '서울대입구',\n",
       " '서초',\n",
       " '선릉',\n",
       " '성수',\n",
       " '시청',\n",
       " '신답',\n",
       " '신당',\n",
       " '신대방',\n",
       " '신도림',\n",
       " '신림',\n",
       " '신설동',\n",
       " '신정네거리',\n",
       " '신천',\n",
       " '신촌',\n",
       " '아현',\n",
       " '양천구청',\n",
       " '역삼',\n",
       " '영등포구청',\n",
       " '왕십리',\n",
       " '용답',\n",
       " '용두',\n",
       " '을지로3가',\n",
       " '을지로4가',\n",
       " '을지로입구',\n",
       " '이대',\n",
       " '잠실',\n",
       " '잠실나루',\n",
       " '잠실새내',\n",
       " '종합운동장',\n",
       " '충정로',\n",
       " '한양대',\n",
       " '합정',\n",
       " '홍대입구']"
      ]
     },
     "execution_count": 12,
     "metadata": {},
     "output_type": "execute_result"
    }
   ],
   "source": [
    "data['지하철역'] = [i[0] for i in data['지하철역'].str.split('(')]\n",
    "sorted(data['지하철역'].unique())"
   ]
  },
  {
   "cell_type": "code",
   "execution_count": 13,
   "metadata": {},
   "outputs": [
    {
     "data": {
      "text/html": [
       "<div>\n",
       "<style scoped>\n",
       "    .dataframe tbody tr th:only-of-type {\n",
       "        vertical-align: middle;\n",
       "    }\n",
       "\n",
       "    .dataframe tbody tr th {\n",
       "        vertical-align: top;\n",
       "    }\n",
       "\n",
       "    .dataframe thead th {\n",
       "        text-align: right;\n",
       "    }\n",
       "</style>\n",
       "<table border=\"1\" class=\"dataframe\">\n",
       "  <thead>\n",
       "    <tr style=\"text-align: right;\">\n",
       "      <th></th>\n",
       "      <th>사용월</th>\n",
       "      <th>연도</th>\n",
       "      <th>월</th>\n",
       "      <th>지하철역</th>\n",
       "      <th>04시-05시 승차인원</th>\n",
       "      <th>05시-06시 승차인원</th>\n",
       "      <th>06시-07시 승차인원</th>\n",
       "      <th>07시-08시 승차인원</th>\n",
       "      <th>08시-09시 승차인원</th>\n",
       "      <th>09시-10시 승차인원</th>\n",
       "      <th>...</th>\n",
       "      <th>18시-19시 승차인원</th>\n",
       "      <th>19시-20시 승차인원</th>\n",
       "      <th>20시-21시 승차인원</th>\n",
       "      <th>21시-22시 승차인원</th>\n",
       "      <th>22시-23시 승차인원</th>\n",
       "      <th>23시-24시 승차인원</th>\n",
       "      <th>00시-01시 승차인원</th>\n",
       "      <th>01시-02시 승차인원</th>\n",
       "      <th>02시-03시 승차인원</th>\n",
       "      <th>03시-04시 승차인원</th>\n",
       "    </tr>\n",
       "  </thead>\n",
       "  <tbody>\n",
       "    <tr>\n",
       "      <th>10</th>\n",
       "      <td>202410</td>\n",
       "      <td>2024</td>\n",
       "      <td>10</td>\n",
       "      <td>강남</td>\n",
       "      <td>148</td>\n",
       "      <td>8113</td>\n",
       "      <td>18052</td>\n",
       "      <td>39807</td>\n",
       "      <td>62260</td>\n",
       "      <td>55503</td>\n",
       "      <td>...</td>\n",
       "      <td>310065</td>\n",
       "      <td>209257</td>\n",
       "      <td>162387</td>\n",
       "      <td>176696</td>\n",
       "      <td>152466</td>\n",
       "      <td>68924</td>\n",
       "      <td>11657</td>\n",
       "      <td>6</td>\n",
       "      <td>0</td>\n",
       "      <td>0</td>\n",
       "    </tr>\n",
       "    <tr>\n",
       "      <th>11</th>\n",
       "      <td>202410</td>\n",
       "      <td>2024</td>\n",
       "      <td>10</td>\n",
       "      <td>강변</td>\n",
       "      <td>26</td>\n",
       "      <td>9024</td>\n",
       "      <td>24246</td>\n",
       "      <td>67440</td>\n",
       "      <td>102900</td>\n",
       "      <td>76719</td>\n",
       "      <td>...</td>\n",
       "      <td>58419</td>\n",
       "      <td>42867</td>\n",
       "      <td>34716</td>\n",
       "      <td>29271</td>\n",
       "      <td>17463</td>\n",
       "      <td>6071</td>\n",
       "      <td>782</td>\n",
       "      <td>0</td>\n",
       "      <td>0</td>\n",
       "      <td>0</td>\n",
       "    </tr>\n",
       "    <tr>\n",
       "      <th>12</th>\n",
       "      <td>202410</td>\n",
       "      <td>2024</td>\n",
       "      <td>10</td>\n",
       "      <td>건대입구</td>\n",
       "      <td>363</td>\n",
       "      <td>15774</td>\n",
       "      <td>22857</td>\n",
       "      <td>55025</td>\n",
       "      <td>92401</td>\n",
       "      <td>65147</td>\n",
       "      <td>...</td>\n",
       "      <td>90451</td>\n",
       "      <td>69703</td>\n",
       "      <td>71638</td>\n",
       "      <td>73845</td>\n",
       "      <td>70545</td>\n",
       "      <td>41354</td>\n",
       "      <td>6663</td>\n",
       "      <td>8</td>\n",
       "      <td>2</td>\n",
       "      <td>0</td>\n",
       "    </tr>\n",
       "    <tr>\n",
       "      <th>13</th>\n",
       "      <td>202410</td>\n",
       "      <td>2024</td>\n",
       "      <td>10</td>\n",
       "      <td>교대</td>\n",
       "      <td>19</td>\n",
       "      <td>2952</td>\n",
       "      <td>11484</td>\n",
       "      <td>25562</td>\n",
       "      <td>37053</td>\n",
       "      <td>30507</td>\n",
       "      <td>...</td>\n",
       "      <td>131212</td>\n",
       "      <td>62845</td>\n",
       "      <td>53653</td>\n",
       "      <td>50617</td>\n",
       "      <td>41006</td>\n",
       "      <td>15543</td>\n",
       "      <td>2886</td>\n",
       "      <td>8</td>\n",
       "      <td>0</td>\n",
       "      <td>0</td>\n",
       "    </tr>\n",
       "    <tr>\n",
       "      <th>14</th>\n",
       "      <td>202410</td>\n",
       "      <td>2024</td>\n",
       "      <td>10</td>\n",
       "      <td>구로디지털단지</td>\n",
       "      <td>510</td>\n",
       "      <td>42932</td>\n",
       "      <td>55377</td>\n",
       "      <td>139962</td>\n",
       "      <td>184466</td>\n",
       "      <td>119390</td>\n",
       "      <td>...</td>\n",
       "      <td>197052</td>\n",
       "      <td>98596</td>\n",
       "      <td>62594</td>\n",
       "      <td>50983</td>\n",
       "      <td>39644</td>\n",
       "      <td>18273</td>\n",
       "      <td>3198</td>\n",
       "      <td>3</td>\n",
       "      <td>0</td>\n",
       "      <td>0</td>\n",
       "    </tr>\n",
       "  </tbody>\n",
       "</table>\n",
       "<p>5 rows × 28 columns</p>\n",
       "</div>"
      ],
      "text/plain": [
       "       사용월    연도   월     지하철역  04시-05시 승차인원  05시-06시 승차인원  06시-07시 승차인원  \\\n",
       "10  202410  2024  10       강남           148          8113         18052   \n",
       "11  202410  2024  10       강변            26          9024         24246   \n",
       "12  202410  2024  10     건대입구           363         15774         22857   \n",
       "13  202410  2024  10       교대            19          2952         11484   \n",
       "14  202410  2024  10  구로디지털단지           510         42932         55377   \n",
       "\n",
       "    07시-08시 승차인원  08시-09시 승차인원  09시-10시 승차인원  ...  18시-19시 승차인원  19시-20시 승차인원  \\\n",
       "10         39807         62260         55503  ...        310065        209257   \n",
       "11         67440        102900         76719  ...         58419         42867   \n",
       "12         55025         92401         65147  ...         90451         69703   \n",
       "13         25562         37053         30507  ...        131212         62845   \n",
       "14        139962        184466        119390  ...        197052         98596   \n",
       "\n",
       "    20시-21시 승차인원  21시-22시 승차인원  22시-23시 승차인원  23시-24시 승차인원  00시-01시 승차인원  \\\n",
       "10        162387        176696        152466         68924         11657   \n",
       "11         34716         29271         17463          6071           782   \n",
       "12         71638         73845         70545         41354          6663   \n",
       "13         53653         50617         41006         15543          2886   \n",
       "14         62594         50983         39644         18273          3198   \n",
       "\n",
       "    01시-02시 승차인원  02시-03시 승차인원  03시-04시 승차인원  \n",
       "10             6             0             0  \n",
       "11             0             0             0  \n",
       "12             8             2             0  \n",
       "13             8             0             0  \n",
       "14             3             0             0  \n",
       "\n",
       "[5 rows x 28 columns]"
      ]
     },
     "execution_count": 13,
     "metadata": {},
     "output_type": "execute_result"
    }
   ],
   "source": [
    "# 승차인원은 어느정도 되는지 찾기\n",
    "\n",
    "on_col = [i for i in data.columns if '승차' in i]\n",
    "data = data[['사용월', '연도', '월', '지하철역']+on_col]\n",
    "\n",
    "data.head()"
   ]
  },
  {
   "cell_type": "code",
   "execution_count": 14,
   "metadata": {},
   "outputs": [
    {
     "data": {
      "text/plain": [
       "Index(['사용월', '연도', '월', '지하철역', '04시-05시 승차인원', '05시-06시 승차인원',\n",
       "       '06시-07시 승차인원', '07시-08시 승차인원', '08시-09시 승차인원', '09시-10시 승차인원',\n",
       "       '10시-11시 승차인원', '11시-12시 승차인원', '12시-13시 승차인원', '13시-14시 승차인원',\n",
       "       '14시-15시 승차인원', '15시-16시 승차인원', '16시-17시 승차인원', '17시-18시 승차인원',\n",
       "       '18시-19시 승차인원', '19시-20시 승차인원', '20시-21시 승차인원', '21시-22시 승차인원',\n",
       "       '22시-23시 승차인원', '23시-24시 승차인원', '00시-01시 승차인원', '01시-02시 승차인원',\n",
       "       '02시-03시 승차인원', '03시-04시 승차인원'],\n",
       "      dtype='object')"
      ]
     },
     "execution_count": 14,
     "metadata": {},
     "output_type": "execute_result"
    }
   ],
   "source": [
    "data.columns"
   ]
  },
  {
   "cell_type": "markdown",
   "metadata": {},
   "source": [
    "# 데이터 분석"
   ]
  },
  {
   "cell_type": "markdown",
   "metadata": {},
   "source": [
    "[1] 승하차 인원이 가장 많은 역"
   ]
  },
  {
   "cell_type": "code",
   "execution_count": 15,
   "metadata": {},
   "outputs": [
    {
     "data": {
      "text/html": [
       "<div>\n",
       "<style scoped>\n",
       "    .dataframe tbody tr th:only-of-type {\n",
       "        vertical-align: middle;\n",
       "    }\n",
       "\n",
       "    .dataframe tbody tr th {\n",
       "        vertical-align: top;\n",
       "    }\n",
       "\n",
       "    .dataframe thead th {\n",
       "        text-align: right;\n",
       "    }\n",
       "</style>\n",
       "<table border=\"1\" class=\"dataframe\">\n",
       "  <thead>\n",
       "    <tr style=\"text-align: right;\">\n",
       "      <th></th>\n",
       "      <th>사용월</th>\n",
       "      <th>연도</th>\n",
       "      <th>월</th>\n",
       "      <th>지하철역</th>\n",
       "      <th>04시-05시 승차인원</th>\n",
       "      <th>05시-06시 승차인원</th>\n",
       "      <th>06시-07시 승차인원</th>\n",
       "      <th>07시-08시 승차인원</th>\n",
       "      <th>08시-09시 승차인원</th>\n",
       "      <th>09시-10시 승차인원</th>\n",
       "      <th>...</th>\n",
       "      <th>19시-20시 승차인원</th>\n",
       "      <th>20시-21시 승차인원</th>\n",
       "      <th>21시-22시 승차인원</th>\n",
       "      <th>22시-23시 승차인원</th>\n",
       "      <th>23시-24시 승차인원</th>\n",
       "      <th>00시-01시 승차인원</th>\n",
       "      <th>01시-02시 승차인원</th>\n",
       "      <th>02시-03시 승차인원</th>\n",
       "      <th>03시-04시 승차인원</th>\n",
       "      <th>합계</th>\n",
       "    </tr>\n",
       "  </thead>\n",
       "  <tbody>\n",
       "    <tr>\n",
       "      <th>10</th>\n",
       "      <td>202410</td>\n",
       "      <td>2024</td>\n",
       "      <td>10</td>\n",
       "      <td>강남</td>\n",
       "      <td>148</td>\n",
       "      <td>8113</td>\n",
       "      <td>18052</td>\n",
       "      <td>39807</td>\n",
       "      <td>62260</td>\n",
       "      <td>55503</td>\n",
       "      <td>...</td>\n",
       "      <td>209257</td>\n",
       "      <td>162387</td>\n",
       "      <td>176696</td>\n",
       "      <td>152466</td>\n",
       "      <td>68924</td>\n",
       "      <td>11657</td>\n",
       "      <td>6</td>\n",
       "      <td>0</td>\n",
       "      <td>0</td>\n",
       "      <td>2267800</td>\n",
       "    </tr>\n",
       "    <tr>\n",
       "      <th>11</th>\n",
       "      <td>202410</td>\n",
       "      <td>2024</td>\n",
       "      <td>10</td>\n",
       "      <td>강변</td>\n",
       "      <td>26</td>\n",
       "      <td>9024</td>\n",
       "      <td>24246</td>\n",
       "      <td>67440</td>\n",
       "      <td>102900</td>\n",
       "      <td>76719</td>\n",
       "      <td>...</td>\n",
       "      <td>42867</td>\n",
       "      <td>34716</td>\n",
       "      <td>29271</td>\n",
       "      <td>17463</td>\n",
       "      <td>6071</td>\n",
       "      <td>782</td>\n",
       "      <td>0</td>\n",
       "      <td>0</td>\n",
       "      <td>0</td>\n",
       "      <td>879415</td>\n",
       "    </tr>\n",
       "    <tr>\n",
       "      <th>12</th>\n",
       "      <td>202410</td>\n",
       "      <td>2024</td>\n",
       "      <td>10</td>\n",
       "      <td>건대입구</td>\n",
       "      <td>363</td>\n",
       "      <td>15774</td>\n",
       "      <td>22857</td>\n",
       "      <td>55025</td>\n",
       "      <td>92401</td>\n",
       "      <td>65147</td>\n",
       "      <td>...</td>\n",
       "      <td>69703</td>\n",
       "      <td>71638</td>\n",
       "      <td>73845</td>\n",
       "      <td>70545</td>\n",
       "      <td>41354</td>\n",
       "      <td>6663</td>\n",
       "      <td>8</td>\n",
       "      <td>2</td>\n",
       "      <td>0</td>\n",
       "      <td>1136920</td>\n",
       "    </tr>\n",
       "    <tr>\n",
       "      <th>13</th>\n",
       "      <td>202410</td>\n",
       "      <td>2024</td>\n",
       "      <td>10</td>\n",
       "      <td>교대</td>\n",
       "      <td>19</td>\n",
       "      <td>2952</td>\n",
       "      <td>11484</td>\n",
       "      <td>25562</td>\n",
       "      <td>37053</td>\n",
       "      <td>30507</td>\n",
       "      <td>...</td>\n",
       "      <td>62845</td>\n",
       "      <td>53653</td>\n",
       "      <td>50617</td>\n",
       "      <td>41006</td>\n",
       "      <td>15543</td>\n",
       "      <td>2886</td>\n",
       "      <td>8</td>\n",
       "      <td>0</td>\n",
       "      <td>0</td>\n",
       "      <td>873447</td>\n",
       "    </tr>\n",
       "    <tr>\n",
       "      <th>14</th>\n",
       "      <td>202410</td>\n",
       "      <td>2024</td>\n",
       "      <td>10</td>\n",
       "      <td>구로디지털단지</td>\n",
       "      <td>510</td>\n",
       "      <td>42932</td>\n",
       "      <td>55377</td>\n",
       "      <td>139962</td>\n",
       "      <td>184466</td>\n",
       "      <td>119390</td>\n",
       "      <td>...</td>\n",
       "      <td>98596</td>\n",
       "      <td>62594</td>\n",
       "      <td>50983</td>\n",
       "      <td>39644</td>\n",
       "      <td>18273</td>\n",
       "      <td>3198</td>\n",
       "      <td>3</td>\n",
       "      <td>0</td>\n",
       "      <td>0</td>\n",
       "      <td>1663746</td>\n",
       "    </tr>\n",
       "  </tbody>\n",
       "</table>\n",
       "<p>5 rows × 29 columns</p>\n",
       "</div>"
      ],
      "text/plain": [
       "       사용월    연도   월     지하철역  04시-05시 승차인원  05시-06시 승차인원  06시-07시 승차인원  \\\n",
       "10  202410  2024  10       강남           148          8113         18052   \n",
       "11  202410  2024  10       강변            26          9024         24246   \n",
       "12  202410  2024  10     건대입구           363         15774         22857   \n",
       "13  202410  2024  10       교대            19          2952         11484   \n",
       "14  202410  2024  10  구로디지털단지           510         42932         55377   \n",
       "\n",
       "    07시-08시 승차인원  08시-09시 승차인원  09시-10시 승차인원  ...  19시-20시 승차인원  20시-21시 승차인원  \\\n",
       "10         39807         62260         55503  ...        209257        162387   \n",
       "11         67440        102900         76719  ...         42867         34716   \n",
       "12         55025         92401         65147  ...         69703         71638   \n",
       "13         25562         37053         30507  ...         62845         53653   \n",
       "14        139962        184466        119390  ...         98596         62594   \n",
       "\n",
       "    21시-22시 승차인원  22시-23시 승차인원  23시-24시 승차인원  00시-01시 승차인원  01시-02시 승차인원  \\\n",
       "10        176696        152466         68924         11657             6   \n",
       "11         29271         17463          6071           782             0   \n",
       "12         73845         70545         41354          6663             8   \n",
       "13         50617         41006         15543          2886             8   \n",
       "14         50983         39644         18273          3198             3   \n",
       "\n",
       "    02시-03시 승차인원  03시-04시 승차인원       합계  \n",
       "10             0             0  2267800  \n",
       "11             0             0   879415  \n",
       "12             2             0  1136920  \n",
       "13             0             0   873447  \n",
       "14             0             0  1663746  \n",
       "\n",
       "[5 rows x 29 columns]"
      ]
     },
     "execution_count": 15,
     "metadata": {},
     "output_type": "execute_result"
    }
   ],
   "source": [
    "# 합계 컬럼 추가하기 \n",
    "data['합계'] = data[on_col].sum(axis=1)\n",
    "data.head()"
   ]
  },
  {
   "cell_type": "code",
   "execution_count": 16,
   "metadata": {},
   "outputs": [
    {
     "data": {
      "text/html": [
       "<div>\n",
       "<style scoped>\n",
       "    .dataframe tbody tr th:only-of-type {\n",
       "        vertical-align: middle;\n",
       "    }\n",
       "\n",
       "    .dataframe tbody tr th {\n",
       "        vertical-align: top;\n",
       "    }\n",
       "\n",
       "    .dataframe thead th {\n",
       "        text-align: right;\n",
       "    }\n",
       "</style>\n",
       "<table border=\"1\" class=\"dataframe\">\n",
       "  <thead>\n",
       "    <tr style=\"text-align: right;\">\n",
       "      <th></th>\n",
       "      <th>지하철역</th>\n",
       "      <th>월평균</th>\n",
       "    </tr>\n",
       "  </thead>\n",
       "  <tbody>\n",
       "    <tr>\n",
       "      <th>0</th>\n",
       "      <td>강남</td>\n",
       "      <td>2.627498e+06</td>\n",
       "    </tr>\n",
       "    <tr>\n",
       "      <th>43</th>\n",
       "      <td>잠실</td>\n",
       "      <td>2.334455e+06</td>\n",
       "    </tr>\n",
       "    <tr>\n",
       "      <th>50</th>\n",
       "      <td>홍대입구</td>\n",
       "      <td>2.057443e+06</td>\n",
       "    </tr>\n",
       "    <tr>\n",
       "      <th>27</th>\n",
       "      <td>신림</td>\n",
       "      <td>1.906915e+06</td>\n",
       "    </tr>\n",
       "    <tr>\n",
       "      <th>4</th>\n",
       "      <td>구로디지털단지</td>\n",
       "      <td>1.731064e+06</td>\n",
       "    </tr>\n",
       "    <tr>\n",
       "      <th>26</th>\n",
       "      <td>신도림</td>\n",
       "      <td>1.613138e+06</td>\n",
       "    </tr>\n",
       "    <tr>\n",
       "      <th>16</th>\n",
       "      <td>삼성</td>\n",
       "      <td>1.577391e+06</td>\n",
       "    </tr>\n",
       "    <tr>\n",
       "      <th>20</th>\n",
       "      <td>선릉</td>\n",
       "      <td>1.530646e+06</td>\n",
       "    </tr>\n",
       "    <tr>\n",
       "      <th>18</th>\n",
       "      <td>서울대입구</td>\n",
       "      <td>1.453812e+06</td>\n",
       "    </tr>\n",
       "    <tr>\n",
       "      <th>41</th>\n",
       "      <td>을지로입구</td>\n",
       "      <td>1.333915e+06</td>\n",
       "    </tr>\n",
       "    <tr>\n",
       "      <th>34</th>\n",
       "      <td>역삼</td>\n",
       "      <td>1.321687e+06</td>\n",
       "    </tr>\n",
       "    <tr>\n",
       "      <th>31</th>\n",
       "      <td>신촌</td>\n",
       "      <td>1.253559e+06</td>\n",
       "    </tr>\n",
       "    <tr>\n",
       "      <th>2</th>\n",
       "      <td>건대입구</td>\n",
       "      <td>1.186433e+06</td>\n",
       "    </tr>\n",
       "    <tr>\n",
       "      <th>15</th>\n",
       "      <td>사당</td>\n",
       "      <td>1.180573e+06</td>\n",
       "    </tr>\n",
       "    <tr>\n",
       "      <th>1</th>\n",
       "      <td>강변</td>\n",
       "      <td>1.176465e+06</td>\n",
       "    </tr>\n",
       "    <tr>\n",
       "      <th>3</th>\n",
       "      <td>교대</td>\n",
       "      <td>9.811824e+05</td>\n",
       "    </tr>\n",
       "    <tr>\n",
       "      <th>49</th>\n",
       "      <td>합정</td>\n",
       "      <td>9.453081e+05</td>\n",
       "    </tr>\n",
       "    <tr>\n",
       "      <th>21</th>\n",
       "      <td>성수</td>\n",
       "      <td>8.891468e+05</td>\n",
       "    </tr>\n",
       "    <tr>\n",
       "      <th>6</th>\n",
       "      <td>낙성대</td>\n",
       "      <td>8.422085e+05</td>\n",
       "    </tr>\n",
       "    <tr>\n",
       "      <th>30</th>\n",
       "      <td>신천</td>\n",
       "      <td>8.149134e+05</td>\n",
       "    </tr>\n",
       "    <tr>\n",
       "      <th>8</th>\n",
       "      <td>대림</td>\n",
       "      <td>8.011328e+05</td>\n",
       "    </tr>\n",
       "    <tr>\n",
       "      <th>25</th>\n",
       "      <td>신대방</td>\n",
       "      <td>7.895799e+05</td>\n",
       "    </tr>\n",
       "    <tr>\n",
       "      <th>14</th>\n",
       "      <td>봉천</td>\n",
       "      <td>6.920425e+05</td>\n",
       "    </tr>\n",
       "    <tr>\n",
       "      <th>22</th>\n",
       "      <td>시청</td>\n",
       "      <td>6.909810e+05</td>\n",
       "    </tr>\n",
       "    <tr>\n",
       "      <th>5</th>\n",
       "      <td>구의</td>\n",
       "      <td>6.865408e+05</td>\n",
       "    </tr>\n",
       "    <tr>\n",
       "      <th>45</th>\n",
       "      <td>잠실새내</td>\n",
       "      <td>6.721253e+05</td>\n",
       "    </tr>\n",
       "    <tr>\n",
       "      <th>19</th>\n",
       "      <td>서초</td>\n",
       "      <td>6.329481e+05</td>\n",
       "    </tr>\n",
       "    <tr>\n",
       "      <th>35</th>\n",
       "      <td>영등포구청</td>\n",
       "      <td>6.176377e+05</td>\n",
       "    </tr>\n",
       "    <tr>\n",
       "      <th>39</th>\n",
       "      <td>을지로3가</td>\n",
       "      <td>6.143460e+05</td>\n",
       "    </tr>\n",
       "    <tr>\n",
       "      <th>7</th>\n",
       "      <td>당산</td>\n",
       "      <td>5.795556e+05</td>\n",
       "    </tr>\n",
       "    <tr>\n",
       "      <th>12</th>\n",
       "      <td>문래</td>\n",
       "      <td>5.738001e+05</td>\n",
       "    </tr>\n",
       "    <tr>\n",
       "      <th>11</th>\n",
       "      <td>뚝섬</td>\n",
       "      <td>5.529754e+05</td>\n",
       "    </tr>\n",
       "    <tr>\n",
       "      <th>13</th>\n",
       "      <td>방배</td>\n",
       "      <td>5.376213e+05</td>\n",
       "    </tr>\n",
       "    <tr>\n",
       "      <th>36</th>\n",
       "      <td>왕십리</td>\n",
       "      <td>5.274786e+05</td>\n",
       "    </tr>\n",
       "    <tr>\n",
       "      <th>42</th>\n",
       "      <td>이대</td>\n",
       "      <td>5.174443e+05</td>\n",
       "    </tr>\n",
       "    <tr>\n",
       "      <th>10</th>\n",
       "      <td>동대문역사문화공원</td>\n",
       "      <td>4.658618e+05</td>\n",
       "    </tr>\n",
       "    <tr>\n",
       "      <th>44</th>\n",
       "      <td>잠실나루</td>\n",
       "      <td>4.548270e+05</td>\n",
       "    </tr>\n",
       "    <tr>\n",
       "      <th>24</th>\n",
       "      <td>신당</td>\n",
       "      <td>4.236658e+05</td>\n",
       "    </tr>\n",
       "    <tr>\n",
       "      <th>17</th>\n",
       "      <td>상왕십리</td>\n",
       "      <td>3.821289e+05</td>\n",
       "    </tr>\n",
       "    <tr>\n",
       "      <th>46</th>\n",
       "      <td>종합운동장</td>\n",
       "      <td>3.769050e+05</td>\n",
       "    </tr>\n",
       "    <tr>\n",
       "      <th>40</th>\n",
       "      <td>을지로4가</td>\n",
       "      <td>3.655255e+05</td>\n",
       "    </tr>\n",
       "    <tr>\n",
       "      <th>47</th>\n",
       "      <td>충정로</td>\n",
       "      <td>3.033085e+05</td>\n",
       "    </tr>\n",
       "    <tr>\n",
       "      <th>32</th>\n",
       "      <td>아현</td>\n",
       "      <td>2.998202e+05</td>\n",
       "    </tr>\n",
       "    <tr>\n",
       "      <th>48</th>\n",
       "      <td>한양대</td>\n",
       "      <td>2.993479e+05</td>\n",
       "    </tr>\n",
       "    <tr>\n",
       "      <th>29</th>\n",
       "      <td>신정네거리</td>\n",
       "      <td>2.916800e+05</td>\n",
       "    </tr>\n",
       "    <tr>\n",
       "      <th>33</th>\n",
       "      <td>양천구청</td>\n",
       "      <td>1.991644e+05</td>\n",
       "    </tr>\n",
       "    <tr>\n",
       "      <th>28</th>\n",
       "      <td>신설동</td>\n",
       "      <td>1.134787e+05</td>\n",
       "    </tr>\n",
       "    <tr>\n",
       "      <th>37</th>\n",
       "      <td>용답</td>\n",
       "      <td>7.925658e+04</td>\n",
       "    </tr>\n",
       "    <tr>\n",
       "      <th>38</th>\n",
       "      <td>용두</td>\n",
       "      <td>6.750929e+04</td>\n",
       "    </tr>\n",
       "    <tr>\n",
       "      <th>23</th>\n",
       "      <td>신답</td>\n",
       "      <td>4.336643e+04</td>\n",
       "    </tr>\n",
       "    <tr>\n",
       "      <th>9</th>\n",
       "      <td>도림천</td>\n",
       "      <td>3.374525e+04</td>\n",
       "    </tr>\n",
       "  </tbody>\n",
       "</table>\n",
       "</div>"
      ],
      "text/plain": [
       "         지하철역           월평균\n",
       "0          강남  2.627498e+06\n",
       "43         잠실  2.334455e+06\n",
       "50       홍대입구  2.057443e+06\n",
       "27         신림  1.906915e+06\n",
       "4     구로디지털단지  1.731064e+06\n",
       "26        신도림  1.613138e+06\n",
       "16         삼성  1.577391e+06\n",
       "20         선릉  1.530646e+06\n",
       "18      서울대입구  1.453812e+06\n",
       "41      을지로입구  1.333915e+06\n",
       "34         역삼  1.321687e+06\n",
       "31         신촌  1.253559e+06\n",
       "2        건대입구  1.186433e+06\n",
       "15         사당  1.180573e+06\n",
       "1          강변  1.176465e+06\n",
       "3          교대  9.811824e+05\n",
       "49         합정  9.453081e+05\n",
       "21         성수  8.891468e+05\n",
       "6         낙성대  8.422085e+05\n",
       "30         신천  8.149134e+05\n",
       "8          대림  8.011328e+05\n",
       "25        신대방  7.895799e+05\n",
       "14         봉천  6.920425e+05\n",
       "22         시청  6.909810e+05\n",
       "5          구의  6.865408e+05\n",
       "45       잠실새내  6.721253e+05\n",
       "19         서초  6.329481e+05\n",
       "35      영등포구청  6.176377e+05\n",
       "39      을지로3가  6.143460e+05\n",
       "7          당산  5.795556e+05\n",
       "12         문래  5.738001e+05\n",
       "11         뚝섬  5.529754e+05\n",
       "13         방배  5.376213e+05\n",
       "36        왕십리  5.274786e+05\n",
       "42         이대  5.174443e+05\n",
       "10  동대문역사문화공원  4.658618e+05\n",
       "44       잠실나루  4.548270e+05\n",
       "24         신당  4.236658e+05\n",
       "17       상왕십리  3.821289e+05\n",
       "46      종합운동장  3.769050e+05\n",
       "40      을지로4가  3.655255e+05\n",
       "47        충정로  3.033085e+05\n",
       "32         아현  2.998202e+05\n",
       "48        한양대  2.993479e+05\n",
       "29      신정네거리  2.916800e+05\n",
       "33       양천구청  1.991644e+05\n",
       "28        신설동  1.134787e+05\n",
       "37         용답  7.925658e+04\n",
       "38         용두  6.750929e+04\n",
       "23         신답  4.336643e+04\n",
       "9         도림천  3.374525e+04"
      ]
     },
     "execution_count": 16,
     "metadata": {},
     "output_type": "execute_result"
    }
   ],
   "source": [
    "# 지하철역별 월평균 승차 인원 찾기\n",
    "mean_data = data.groupby('지하철역')[['합계']].mean().reset_index().rename({'합계':'월평균'},axis=1).sort_values('월평균', ascending=False)\n",
    "mean_data\n"
   ]
  },
  {
   "cell_type": "code",
   "execution_count": 17,
   "metadata": {},
   "outputs": [
    {
     "data": {
      "application/vnd.plotly.v1+json": {
       "config": {
        "plotlyServerURL": "https://plot.ly"
       },
       "data": [
        {
         "alignmentgroup": "True",
         "hovertemplate": "지하철역=%{x}<br>월평균=%{y}<extra></extra>",
         "legendgroup": "",
         "marker": {
          "color": "#636efa",
          "pattern": {
           "shape": ""
          }
         },
         "name": "",
         "offsetgroup": "",
         "orientation": "v",
         "showlegend": false,
         "textposition": "auto",
         "type": "bar",
         "x": [
          "강남",
          "잠실",
          "홍대입구",
          "신림",
          "구로디지털단지",
          "신도림",
          "삼성",
          "선릉",
          "서울대입구",
          "을지로입구",
          "역삼",
          "신촌",
          "건대입구",
          "사당",
          "강변",
          "교대",
          "합정",
          "성수",
          "낙성대",
          "신천",
          "대림",
          "신대방",
          "봉천",
          "시청",
          "구의",
          "잠실새내",
          "서초",
          "영등포구청",
          "을지로3가",
          "당산",
          "문래",
          "뚝섬",
          "방배",
          "왕십리",
          "이대",
          "동대문역사문화공원",
          "잠실나루",
          "신당",
          "상왕십리",
          "종합운동장",
          "을지로4가",
          "충정로",
          "아현",
          "한양대",
          "신정네거리",
          "양천구청",
          "신설동",
          "용답",
          "용두",
          "신답",
          "도림천"
         ],
         "xaxis": "x",
         "y": [
          2627498.338983051,
          2334454.5169491526,
          2057443.1440677966,
          1906914.5338983051,
          1731064.0169491526,
          1613138.2033898304,
          1577391.152542373,
          1530645.872881356,
          1453811.9152542374,
          1333914.7033898304,
          1321687.4745762711,
          1253559.1016949152,
          1186433.4491525423,
          1180572.7118644067,
          1176465.2711864407,
          981182.3559322034,
          945308.1355932204,
          889146.7881355932,
          842208.5423728813,
          814913.4347826086,
          801132.813559322,
          789579.8813559322,
          692042.5,
          690981,
          686540.7627118644,
          672125.2947368422,
          632948.0847457628,
          617637.7457627119,
          614345.966101695,
          579555.6186440678,
          573800.0847457628,
          552975.4152542372,
          537621.2966101695,
          527478.5762711865,
          517444.27966101695,
          465861.80508474575,
          454827.0423728814,
          423665.83050847455,
          382128.9152542373,
          376905.0423728814,
          365525.4576271186,
          303308.4661016949,
          299820.22881355934,
          299347.8559322034,
          291680,
          199164.42372881356,
          113478.70338983051,
          79256.57627118644,
          67509.28813559322,
          43366.43220338983,
          33745.245762711864
         ],
         "yaxis": "y"
        }
       ],
       "layout": {
        "barmode": "relative",
        "legend": {
         "tracegroupgap": 0
        },
        "template": {
         "data": {
          "bar": [
           {
            "error_x": {
             "color": "#2a3f5f"
            },
            "error_y": {
             "color": "#2a3f5f"
            },
            "marker": {
             "line": {
              "color": "#E5ECF6",
              "width": 0.5
             },
             "pattern": {
              "fillmode": "overlay",
              "size": 10,
              "solidity": 0.2
             }
            },
            "type": "bar"
           }
          ],
          "barpolar": [
           {
            "marker": {
             "line": {
              "color": "#E5ECF6",
              "width": 0.5
             },
             "pattern": {
              "fillmode": "overlay",
              "size": 10,
              "solidity": 0.2
             }
            },
            "type": "barpolar"
           }
          ],
          "carpet": [
           {
            "aaxis": {
             "endlinecolor": "#2a3f5f",
             "gridcolor": "white",
             "linecolor": "white",
             "minorgridcolor": "white",
             "startlinecolor": "#2a3f5f"
            },
            "baxis": {
             "endlinecolor": "#2a3f5f",
             "gridcolor": "white",
             "linecolor": "white",
             "minorgridcolor": "white",
             "startlinecolor": "#2a3f5f"
            },
            "type": "carpet"
           }
          ],
          "choropleth": [
           {
            "colorbar": {
             "outlinewidth": 0,
             "ticks": ""
            },
            "type": "choropleth"
           }
          ],
          "contour": [
           {
            "colorbar": {
             "outlinewidth": 0,
             "ticks": ""
            },
            "colorscale": [
             [
              0,
              "#0d0887"
             ],
             [
              0.1111111111111111,
              "#46039f"
             ],
             [
              0.2222222222222222,
              "#7201a8"
             ],
             [
              0.3333333333333333,
              "#9c179e"
             ],
             [
              0.4444444444444444,
              "#bd3786"
             ],
             [
              0.5555555555555556,
              "#d8576b"
             ],
             [
              0.6666666666666666,
              "#ed7953"
             ],
             [
              0.7777777777777778,
              "#fb9f3a"
             ],
             [
              0.8888888888888888,
              "#fdca26"
             ],
             [
              1,
              "#f0f921"
             ]
            ],
            "type": "contour"
           }
          ],
          "contourcarpet": [
           {
            "colorbar": {
             "outlinewidth": 0,
             "ticks": ""
            },
            "type": "contourcarpet"
           }
          ],
          "heatmap": [
           {
            "colorbar": {
             "outlinewidth": 0,
             "ticks": ""
            },
            "colorscale": [
             [
              0,
              "#0d0887"
             ],
             [
              0.1111111111111111,
              "#46039f"
             ],
             [
              0.2222222222222222,
              "#7201a8"
             ],
             [
              0.3333333333333333,
              "#9c179e"
             ],
             [
              0.4444444444444444,
              "#bd3786"
             ],
             [
              0.5555555555555556,
              "#d8576b"
             ],
             [
              0.6666666666666666,
              "#ed7953"
             ],
             [
              0.7777777777777778,
              "#fb9f3a"
             ],
             [
              0.8888888888888888,
              "#fdca26"
             ],
             [
              1,
              "#f0f921"
             ]
            ],
            "type": "heatmap"
           }
          ],
          "heatmapgl": [
           {
            "colorbar": {
             "outlinewidth": 0,
             "ticks": ""
            },
            "colorscale": [
             [
              0,
              "#0d0887"
             ],
             [
              0.1111111111111111,
              "#46039f"
             ],
             [
              0.2222222222222222,
              "#7201a8"
             ],
             [
              0.3333333333333333,
              "#9c179e"
             ],
             [
              0.4444444444444444,
              "#bd3786"
             ],
             [
              0.5555555555555556,
              "#d8576b"
             ],
             [
              0.6666666666666666,
              "#ed7953"
             ],
             [
              0.7777777777777778,
              "#fb9f3a"
             ],
             [
              0.8888888888888888,
              "#fdca26"
             ],
             [
              1,
              "#f0f921"
             ]
            ],
            "type": "heatmapgl"
           }
          ],
          "histogram": [
           {
            "marker": {
             "pattern": {
              "fillmode": "overlay",
              "size": 10,
              "solidity": 0.2
             }
            },
            "type": "histogram"
           }
          ],
          "histogram2d": [
           {
            "colorbar": {
             "outlinewidth": 0,
             "ticks": ""
            },
            "colorscale": [
             [
              0,
              "#0d0887"
             ],
             [
              0.1111111111111111,
              "#46039f"
             ],
             [
              0.2222222222222222,
              "#7201a8"
             ],
             [
              0.3333333333333333,
              "#9c179e"
             ],
             [
              0.4444444444444444,
              "#bd3786"
             ],
             [
              0.5555555555555556,
              "#d8576b"
             ],
             [
              0.6666666666666666,
              "#ed7953"
             ],
             [
              0.7777777777777778,
              "#fb9f3a"
             ],
             [
              0.8888888888888888,
              "#fdca26"
             ],
             [
              1,
              "#f0f921"
             ]
            ],
            "type": "histogram2d"
           }
          ],
          "histogram2dcontour": [
           {
            "colorbar": {
             "outlinewidth": 0,
             "ticks": ""
            },
            "colorscale": [
             [
              0,
              "#0d0887"
             ],
             [
              0.1111111111111111,
              "#46039f"
             ],
             [
              0.2222222222222222,
              "#7201a8"
             ],
             [
              0.3333333333333333,
              "#9c179e"
             ],
             [
              0.4444444444444444,
              "#bd3786"
             ],
             [
              0.5555555555555556,
              "#d8576b"
             ],
             [
              0.6666666666666666,
              "#ed7953"
             ],
             [
              0.7777777777777778,
              "#fb9f3a"
             ],
             [
              0.8888888888888888,
              "#fdca26"
             ],
             [
              1,
              "#f0f921"
             ]
            ],
            "type": "histogram2dcontour"
           }
          ],
          "mesh3d": [
           {
            "colorbar": {
             "outlinewidth": 0,
             "ticks": ""
            },
            "type": "mesh3d"
           }
          ],
          "parcoords": [
           {
            "line": {
             "colorbar": {
              "outlinewidth": 0,
              "ticks": ""
             }
            },
            "type": "parcoords"
           }
          ],
          "pie": [
           {
            "automargin": true,
            "type": "pie"
           }
          ],
          "scatter": [
           {
            "fillpattern": {
             "fillmode": "overlay",
             "size": 10,
             "solidity": 0.2
            },
            "type": "scatter"
           }
          ],
          "scatter3d": [
           {
            "line": {
             "colorbar": {
              "outlinewidth": 0,
              "ticks": ""
             }
            },
            "marker": {
             "colorbar": {
              "outlinewidth": 0,
              "ticks": ""
             }
            },
            "type": "scatter3d"
           }
          ],
          "scattercarpet": [
           {
            "marker": {
             "colorbar": {
              "outlinewidth": 0,
              "ticks": ""
             }
            },
            "type": "scattercarpet"
           }
          ],
          "scattergeo": [
           {
            "marker": {
             "colorbar": {
              "outlinewidth": 0,
              "ticks": ""
             }
            },
            "type": "scattergeo"
           }
          ],
          "scattergl": [
           {
            "marker": {
             "colorbar": {
              "outlinewidth": 0,
              "ticks": ""
             }
            },
            "type": "scattergl"
           }
          ],
          "scattermapbox": [
           {
            "marker": {
             "colorbar": {
              "outlinewidth": 0,
              "ticks": ""
             }
            },
            "type": "scattermapbox"
           }
          ],
          "scatterpolar": [
           {
            "marker": {
             "colorbar": {
              "outlinewidth": 0,
              "ticks": ""
             }
            },
            "type": "scatterpolar"
           }
          ],
          "scatterpolargl": [
           {
            "marker": {
             "colorbar": {
              "outlinewidth": 0,
              "ticks": ""
             }
            },
            "type": "scatterpolargl"
           }
          ],
          "scatterternary": [
           {
            "marker": {
             "colorbar": {
              "outlinewidth": 0,
              "ticks": ""
             }
            },
            "type": "scatterternary"
           }
          ],
          "surface": [
           {
            "colorbar": {
             "outlinewidth": 0,
             "ticks": ""
            },
            "colorscale": [
             [
              0,
              "#0d0887"
             ],
             [
              0.1111111111111111,
              "#46039f"
             ],
             [
              0.2222222222222222,
              "#7201a8"
             ],
             [
              0.3333333333333333,
              "#9c179e"
             ],
             [
              0.4444444444444444,
              "#bd3786"
             ],
             [
              0.5555555555555556,
              "#d8576b"
             ],
             [
              0.6666666666666666,
              "#ed7953"
             ],
             [
              0.7777777777777778,
              "#fb9f3a"
             ],
             [
              0.8888888888888888,
              "#fdca26"
             ],
             [
              1,
              "#f0f921"
             ]
            ],
            "type": "surface"
           }
          ],
          "table": [
           {
            "cells": {
             "fill": {
              "color": "#EBF0F8"
             },
             "line": {
              "color": "white"
             }
            },
            "header": {
             "fill": {
              "color": "#C8D4E3"
             },
             "line": {
              "color": "white"
             }
            },
            "type": "table"
           }
          ]
         },
         "layout": {
          "annotationdefaults": {
           "arrowcolor": "#2a3f5f",
           "arrowhead": 0,
           "arrowwidth": 1
          },
          "autotypenumbers": "strict",
          "coloraxis": {
           "colorbar": {
            "outlinewidth": 0,
            "ticks": ""
           }
          },
          "colorscale": {
           "diverging": [
            [
             0,
             "#8e0152"
            ],
            [
             0.1,
             "#c51b7d"
            ],
            [
             0.2,
             "#de77ae"
            ],
            [
             0.3,
             "#f1b6da"
            ],
            [
             0.4,
             "#fde0ef"
            ],
            [
             0.5,
             "#f7f7f7"
            ],
            [
             0.6,
             "#e6f5d0"
            ],
            [
             0.7,
             "#b8e186"
            ],
            [
             0.8,
             "#7fbc41"
            ],
            [
             0.9,
             "#4d9221"
            ],
            [
             1,
             "#276419"
            ]
           ],
           "sequential": [
            [
             0,
             "#0d0887"
            ],
            [
             0.1111111111111111,
             "#46039f"
            ],
            [
             0.2222222222222222,
             "#7201a8"
            ],
            [
             0.3333333333333333,
             "#9c179e"
            ],
            [
             0.4444444444444444,
             "#bd3786"
            ],
            [
             0.5555555555555556,
             "#d8576b"
            ],
            [
             0.6666666666666666,
             "#ed7953"
            ],
            [
             0.7777777777777778,
             "#fb9f3a"
            ],
            [
             0.8888888888888888,
             "#fdca26"
            ],
            [
             1,
             "#f0f921"
            ]
           ],
           "sequentialminus": [
            [
             0,
             "#0d0887"
            ],
            [
             0.1111111111111111,
             "#46039f"
            ],
            [
             0.2222222222222222,
             "#7201a8"
            ],
            [
             0.3333333333333333,
             "#9c179e"
            ],
            [
             0.4444444444444444,
             "#bd3786"
            ],
            [
             0.5555555555555556,
             "#d8576b"
            ],
            [
             0.6666666666666666,
             "#ed7953"
            ],
            [
             0.7777777777777778,
             "#fb9f3a"
            ],
            [
             0.8888888888888888,
             "#fdca26"
            ],
            [
             1,
             "#f0f921"
            ]
           ]
          },
          "colorway": [
           "#636efa",
           "#EF553B",
           "#00cc96",
           "#ab63fa",
           "#FFA15A",
           "#19d3f3",
           "#FF6692",
           "#B6E880",
           "#FF97FF",
           "#FECB52"
          ],
          "font": {
           "color": "#2a3f5f"
          },
          "geo": {
           "bgcolor": "white",
           "lakecolor": "white",
           "landcolor": "#E5ECF6",
           "showlakes": true,
           "showland": true,
           "subunitcolor": "white"
          },
          "hoverlabel": {
           "align": "left"
          },
          "hovermode": "closest",
          "mapbox": {
           "style": "light"
          },
          "paper_bgcolor": "white",
          "plot_bgcolor": "#E5ECF6",
          "polar": {
           "angularaxis": {
            "gridcolor": "white",
            "linecolor": "white",
            "ticks": ""
           },
           "bgcolor": "#E5ECF6",
           "radialaxis": {
            "gridcolor": "white",
            "linecolor": "white",
            "ticks": ""
           }
          },
          "scene": {
           "xaxis": {
            "backgroundcolor": "#E5ECF6",
            "gridcolor": "white",
            "gridwidth": 2,
            "linecolor": "white",
            "showbackground": true,
            "ticks": "",
            "zerolinecolor": "white"
           },
           "yaxis": {
            "backgroundcolor": "#E5ECF6",
            "gridcolor": "white",
            "gridwidth": 2,
            "linecolor": "white",
            "showbackground": true,
            "ticks": "",
            "zerolinecolor": "white"
           },
           "zaxis": {
            "backgroundcolor": "#E5ECF6",
            "gridcolor": "white",
            "gridwidth": 2,
            "linecolor": "white",
            "showbackground": true,
            "ticks": "",
            "zerolinecolor": "white"
           }
          },
          "shapedefaults": {
           "line": {
            "color": "#2a3f5f"
           }
          },
          "ternary": {
           "aaxis": {
            "gridcolor": "white",
            "linecolor": "white",
            "ticks": ""
           },
           "baxis": {
            "gridcolor": "white",
            "linecolor": "white",
            "ticks": ""
           },
           "bgcolor": "#E5ECF6",
           "caxis": {
            "gridcolor": "white",
            "linecolor": "white",
            "ticks": ""
           }
          },
          "title": {
           "x": 0.05
          },
          "xaxis": {
           "automargin": true,
           "gridcolor": "white",
           "linecolor": "white",
           "ticks": "",
           "title": {
            "standoff": 15
           },
           "zerolinecolor": "white",
           "zerolinewidth": 2
          },
          "yaxis": {
           "automargin": true,
           "gridcolor": "white",
           "linecolor": "white",
           "ticks": "",
           "title": {
            "standoff": 15
           },
           "zerolinecolor": "white",
           "zerolinewidth": 2
          }
         }
        },
        "title": {
         "text": "지하철역별 월평균 승차인원"
        },
        "xaxis": {
         "anchor": "y",
         "domain": [
          0,
          1
         ],
         "title": {
          "text": "지하철역"
         }
        },
        "yaxis": {
         "anchor": "x",
         "domain": [
          0,
          1
         ],
         "title": {
          "text": "월평균"
         }
        }
       }
      }
     },
     "metadata": {},
     "output_type": "display_data"
    }
   ],
   "source": [
    "fig = px.bar(data_frame = mean_data, \n",
    "             x='지하철역', \n",
    "             y='월평균',\n",
    "             title='지하철역별 월평균 승차인원')\n",
    "fig.show()"
   ]
  },
  {
   "cell_type": "markdown",
   "metadata": {},
   "source": [
    "[2] 연도별로 혹은 월별로 승하차 인원 추 사이의 차이"
   ]
  },
  {
   "cell_type": "code",
   "execution_count": 18,
   "metadata": {},
   "outputs": [
    {
     "data": {
      "text/html": [
       "<div>\n",
       "<style scoped>\n",
       "    .dataframe tbody tr th:only-of-type {\n",
       "        vertical-align: middle;\n",
       "    }\n",
       "\n",
       "    .dataframe tbody tr th {\n",
       "        vertical-align: top;\n",
       "    }\n",
       "\n",
       "    .dataframe thead th {\n",
       "        text-align: right;\n",
       "    }\n",
       "</style>\n",
       "<table border=\"1\" class=\"dataframe\">\n",
       "  <thead>\n",
       "    <tr style=\"text-align: right;\">\n",
       "      <th></th>\n",
       "      <th>사용월</th>\n",
       "      <th>연도</th>\n",
       "      <th>월</th>\n",
       "      <th>지하철역</th>\n",
       "      <th>04시-05시 승차인원</th>\n",
       "      <th>05시-06시 승차인원</th>\n",
       "      <th>06시-07시 승차인원</th>\n",
       "      <th>07시-08시 승차인원</th>\n",
       "      <th>08시-09시 승차인원</th>\n",
       "      <th>09시-10시 승차인원</th>\n",
       "      <th>...</th>\n",
       "      <th>19시-20시 승차인원</th>\n",
       "      <th>20시-21시 승차인원</th>\n",
       "      <th>21시-22시 승차인원</th>\n",
       "      <th>22시-23시 승차인원</th>\n",
       "      <th>23시-24시 승차인원</th>\n",
       "      <th>00시-01시 승차인원</th>\n",
       "      <th>01시-02시 승차인원</th>\n",
       "      <th>02시-03시 승차인원</th>\n",
       "      <th>03시-04시 승차인원</th>\n",
       "      <th>합계</th>\n",
       "    </tr>\n",
       "  </thead>\n",
       "  <tbody>\n",
       "    <tr>\n",
       "      <th>10</th>\n",
       "      <td>202410</td>\n",
       "      <td>2024</td>\n",
       "      <td>10</td>\n",
       "      <td>강남</td>\n",
       "      <td>148</td>\n",
       "      <td>8113</td>\n",
       "      <td>18052</td>\n",
       "      <td>39807</td>\n",
       "      <td>62260</td>\n",
       "      <td>55503</td>\n",
       "      <td>...</td>\n",
       "      <td>209257</td>\n",
       "      <td>162387</td>\n",
       "      <td>176696</td>\n",
       "      <td>152466</td>\n",
       "      <td>68924</td>\n",
       "      <td>11657</td>\n",
       "      <td>6</td>\n",
       "      <td>0</td>\n",
       "      <td>0</td>\n",
       "      <td>2267800</td>\n",
       "    </tr>\n",
       "    <tr>\n",
       "      <th>11</th>\n",
       "      <td>202410</td>\n",
       "      <td>2024</td>\n",
       "      <td>10</td>\n",
       "      <td>강변</td>\n",
       "      <td>26</td>\n",
       "      <td>9024</td>\n",
       "      <td>24246</td>\n",
       "      <td>67440</td>\n",
       "      <td>102900</td>\n",
       "      <td>76719</td>\n",
       "      <td>...</td>\n",
       "      <td>42867</td>\n",
       "      <td>34716</td>\n",
       "      <td>29271</td>\n",
       "      <td>17463</td>\n",
       "      <td>6071</td>\n",
       "      <td>782</td>\n",
       "      <td>0</td>\n",
       "      <td>0</td>\n",
       "      <td>0</td>\n",
       "      <td>879415</td>\n",
       "    </tr>\n",
       "    <tr>\n",
       "      <th>12</th>\n",
       "      <td>202410</td>\n",
       "      <td>2024</td>\n",
       "      <td>10</td>\n",
       "      <td>건대입구</td>\n",
       "      <td>363</td>\n",
       "      <td>15774</td>\n",
       "      <td>22857</td>\n",
       "      <td>55025</td>\n",
       "      <td>92401</td>\n",
       "      <td>65147</td>\n",
       "      <td>...</td>\n",
       "      <td>69703</td>\n",
       "      <td>71638</td>\n",
       "      <td>73845</td>\n",
       "      <td>70545</td>\n",
       "      <td>41354</td>\n",
       "      <td>6663</td>\n",
       "      <td>8</td>\n",
       "      <td>2</td>\n",
       "      <td>0</td>\n",
       "      <td>1136920</td>\n",
       "    </tr>\n",
       "    <tr>\n",
       "      <th>13</th>\n",
       "      <td>202410</td>\n",
       "      <td>2024</td>\n",
       "      <td>10</td>\n",
       "      <td>교대</td>\n",
       "      <td>19</td>\n",
       "      <td>2952</td>\n",
       "      <td>11484</td>\n",
       "      <td>25562</td>\n",
       "      <td>37053</td>\n",
       "      <td>30507</td>\n",
       "      <td>...</td>\n",
       "      <td>62845</td>\n",
       "      <td>53653</td>\n",
       "      <td>50617</td>\n",
       "      <td>41006</td>\n",
       "      <td>15543</td>\n",
       "      <td>2886</td>\n",
       "      <td>8</td>\n",
       "      <td>0</td>\n",
       "      <td>0</td>\n",
       "      <td>873447</td>\n",
       "    </tr>\n",
       "    <tr>\n",
       "      <th>14</th>\n",
       "      <td>202410</td>\n",
       "      <td>2024</td>\n",
       "      <td>10</td>\n",
       "      <td>구로디지털단지</td>\n",
       "      <td>510</td>\n",
       "      <td>42932</td>\n",
       "      <td>55377</td>\n",
       "      <td>139962</td>\n",
       "      <td>184466</td>\n",
       "      <td>119390</td>\n",
       "      <td>...</td>\n",
       "      <td>98596</td>\n",
       "      <td>62594</td>\n",
       "      <td>50983</td>\n",
       "      <td>39644</td>\n",
       "      <td>18273</td>\n",
       "      <td>3198</td>\n",
       "      <td>3</td>\n",
       "      <td>0</td>\n",
       "      <td>0</td>\n",
       "      <td>1663746</td>\n",
       "    </tr>\n",
       "  </tbody>\n",
       "</table>\n",
       "<p>5 rows × 29 columns</p>\n",
       "</div>"
      ],
      "text/plain": [
       "       사용월    연도   월     지하철역  04시-05시 승차인원  05시-06시 승차인원  06시-07시 승차인원  \\\n",
       "10  202410  2024  10       강남           148          8113         18052   \n",
       "11  202410  2024  10       강변            26          9024         24246   \n",
       "12  202410  2024  10     건대입구           363         15774         22857   \n",
       "13  202410  2024  10       교대            19          2952         11484   \n",
       "14  202410  2024  10  구로디지털단지           510         42932         55377   \n",
       "\n",
       "    07시-08시 승차인원  08시-09시 승차인원  09시-10시 승차인원  ...  19시-20시 승차인원  20시-21시 승차인원  \\\n",
       "10         39807         62260         55503  ...        209257        162387   \n",
       "11         67440        102900         76719  ...         42867         34716   \n",
       "12         55025         92401         65147  ...         69703         71638   \n",
       "13         25562         37053         30507  ...         62845         53653   \n",
       "14        139962        184466        119390  ...         98596         62594   \n",
       "\n",
       "    21시-22시 승차인원  22시-23시 승차인원  23시-24시 승차인원  00시-01시 승차인원  01시-02시 승차인원  \\\n",
       "10        176696        152466         68924         11657             6   \n",
       "11         29271         17463          6071           782             0   \n",
       "12         73845         70545         41354          6663             8   \n",
       "13         50617         41006         15543          2886             8   \n",
       "14         50983         39644         18273          3198             3   \n",
       "\n",
       "    02시-03시 승차인원  03시-04시 승차인원       합계  \n",
       "10             0             0  2267800  \n",
       "11             0             0   879415  \n",
       "12             2             0  1136920  \n",
       "13             0             0   873447  \n",
       "14             0             0  1663746  \n",
       "\n",
       "[5 rows x 29 columns]"
      ]
     },
     "execution_count": 18,
     "metadata": {},
     "output_type": "execute_result"
    }
   ],
   "source": [
    "data.head()"
   ]
  },
  {
   "cell_type": "code",
   "execution_count": 19,
   "metadata": {},
   "outputs": [
    {
     "data": {
      "text/html": [
       "<div>\n",
       "<style scoped>\n",
       "    .dataframe tbody tr th:only-of-type {\n",
       "        vertical-align: middle;\n",
       "    }\n",
       "\n",
       "    .dataframe tbody tr th {\n",
       "        vertical-align: top;\n",
       "    }\n",
       "\n",
       "    .dataframe thead th {\n",
       "        text-align: right;\n",
       "    }\n",
       "</style>\n",
       "<table border=\"1\" class=\"dataframe\">\n",
       "  <thead>\n",
       "    <tr style=\"text-align: right;\">\n",
       "      <th></th>\n",
       "      <th>연도</th>\n",
       "      <th>합계</th>\n",
       "    </tr>\n",
       "  </thead>\n",
       "  <tbody>\n",
       "    <tr>\n",
       "      <th>0</th>\n",
       "      <td>2015</td>\n",
       "      <td>565354512</td>\n",
       "    </tr>\n",
       "    <tr>\n",
       "      <th>1</th>\n",
       "      <td>2016</td>\n",
       "      <td>561807789</td>\n",
       "    </tr>\n",
       "    <tr>\n",
       "      <th>2</th>\n",
       "      <td>2017</td>\n",
       "      <td>553074794</td>\n",
       "    </tr>\n",
       "    <tr>\n",
       "      <th>3</th>\n",
       "      <td>2018</td>\n",
       "      <td>556124147</td>\n",
       "    </tr>\n",
       "    <tr>\n",
       "      <th>4</th>\n",
       "      <td>2019</td>\n",
       "      <td>559488134</td>\n",
       "    </tr>\n",
       "    <tr>\n",
       "      <th>5</th>\n",
       "      <td>2020</td>\n",
       "      <td>397139151</td>\n",
       "    </tr>\n",
       "    <tr>\n",
       "      <th>6</th>\n",
       "      <td>2021</td>\n",
       "      <td>391591285</td>\n",
       "    </tr>\n",
       "    <tr>\n",
       "      <th>7</th>\n",
       "      <td>2022</td>\n",
       "      <td>441861856</td>\n",
       "    </tr>\n",
       "    <tr>\n",
       "      <th>8</th>\n",
       "      <td>2023</td>\n",
       "      <td>481049461</td>\n",
       "    </tr>\n",
       "    <tr>\n",
       "      <th>9</th>\n",
       "      <td>2024</td>\n",
       "      <td>407972620</td>\n",
       "    </tr>\n",
       "  </tbody>\n",
       "</table>\n",
       "</div>"
      ],
      "text/plain": [
       "     연도         합계\n",
       "0  2015  565354512\n",
       "1  2016  561807789\n",
       "2  2017  553074794\n",
       "3  2018  556124147\n",
       "4  2019  559488134\n",
       "5  2020  397139151\n",
       "6  2021  391591285\n",
       "7  2022  441861856\n",
       "8  2023  481049461\n",
       "9  2024  407972620"
      ]
     },
     "execution_count": 19,
     "metadata": {},
     "output_type": "execute_result"
    }
   ],
   "source": [
    "data.query('연도 <= 2024').groupby(['연도'])[['합계']].sum().reset_index()"
   ]
  },
  {
   "cell_type": "code",
   "execution_count": 20,
   "metadata": {},
   "outputs": [],
   "source": [
    "year_sum = (data[data['연도'] <= 2024]\n",
    "           .groupby('연도')\n",
    "           .agg({'합계': 'sum'})\n",
    "           .reset_index()\n",
    "           .assign(연도=lambda x: x['연도'].astype(str)))"
   ]
  },
  {
   "cell_type": "code",
   "execution_count": 21,
   "metadata": {},
   "outputs": [
    {
     "data": {
      "image/png": "[encoded data removed]",
      "text/plain": [
       "<Figure size 1000x600 with 1 Axes>"
      ]
     },
     "metadata": {},
     "output_type": "display_data"
    }
   ],
   "source": [
    "plt.figure(figsize=(10, 6))\n",
    "plt.plot(year_sum['연도'], year_sum['합계'], marker='o')\n",
    "plt.title('total by year')\n",
    "plt.xlabel('year')\n",
    "plt.ylabel('sum')\n",
    "plt.show()"
   ]
  },
  {
   "cell_type": "code",
   "execution_count": 22,
   "metadata": {},
   "outputs": [
    {
     "data": {
      "application/vnd.plotly.v1+json": {
       "config": {
        "plotlyServerURL": "https://plot.ly"
       },
       "data": [
        {
         "hovertemplate": "월=%{x}<br>합계=%{y}<extra></extra>",
         "legendgroup": "",
         "line": {
          "color": "#636efa",
          "dash": "solid"
         },
         "marker": {
          "symbol": "circle"
         },
         "mode": "lines",
         "name": "",
         "orientation": "v",
         "showlegend": false,
         "type": "scatter",
         "x": [
          "1",
          "2",
          "3",
          "4",
          "5",
          "6",
          "7",
          "8",
          "9",
          "10",
          "11",
          "12"
         ],
         "xaxis": "x",
         "y": [
          412524535,
          373788652,
          428909204,
          424090876,
          432137757,
          414781638,
          426396013,
          405129263,
          393070840,
          424378891,
          390130650,
          390125430
         ],
         "yaxis": "y"
        }
       ],
       "layout": {
        "legend": {
         "tracegroupgap": 0
        },
        "margin": {
         "t": 60
        },
        "template": {
         "data": {
          "bar": [
           {
            "error_x": {
             "color": "#2a3f5f"
            },
            "error_y": {
             "color": "#2a3f5f"
            },
            "marker": {
             "line": {
              "color": "#E5ECF6",
              "width": 0.5
             },
             "pattern": {
              "fillmode": "overlay",
              "size": 10,
              "solidity": 0.2
             }
            },
            "type": "bar"
           }
          ],
          "barpolar": [
           {
            "marker": {
             "line": {
              "color": "#E5ECF6",
              "width": 0.5
             },
             "pattern": {
              "fillmode": "overlay",
              "size": 10,
              "solidity": 0.2
             }
            },
            "type": "barpolar"
           }
          ],
          "carpet": [
           {
            "aaxis": {
             "endlinecolor": "#2a3f5f",
             "gridcolor": "white",
             "linecolor": "white",
             "minorgridcolor": "white",
             "startlinecolor": "#2a3f5f"
            },
            "baxis": {
             "endlinecolor": "#2a3f5f",
             "gridcolor": "white",
             "linecolor": "white",
             "minorgridcolor": "white",
             "startlinecolor": "#2a3f5f"
            },
            "type": "carpet"
           }
          ],
          "choropleth": [
           {
            "colorbar": {
             "outlinewidth": 0,
             "ticks": ""
            },
            "type": "choropleth"
           }
          ],
          "contour": [
           {
            "colorbar": {
             "outlinewidth": 0,
             "ticks": ""
            },
            "colorscale": [
             [
              0,
              "#0d0887"
             ],
             [
              0.1111111111111111,
              "#46039f"
             ],
             [
              0.2222222222222222,
              "#7201a8"
             ],
             [
              0.3333333333333333,
              "#9c179e"
             ],
             [
              0.4444444444444444,
              "#bd3786"
             ],
             [
              0.5555555555555556,
              "#d8576b"
             ],
             [
              0.6666666666666666,
              "#ed7953"
             ],
             [
              0.7777777777777778,
              "#fb9f3a"
             ],
             [
              0.8888888888888888,
              "#fdca26"
             ],
             [
              1,
              "#f0f921"
             ]
            ],
            "type": "contour"
           }
          ],
          "contourcarpet": [
           {
            "colorbar": {
             "outlinewidth": 0,
             "ticks": ""
            },
            "type": "contourcarpet"
           }
          ],
          "heatmap": [
           {
            "colorbar": {
             "outlinewidth": 0,
             "ticks": ""
            },
            "colorscale": [
             [
              0,
              "#0d0887"
             ],
             [
              0.1111111111111111,
              "#46039f"
             ],
             [
              0.2222222222222222,
              "#7201a8"
             ],
             [
              0.3333333333333333,
              "#9c179e"
             ],
             [
              0.4444444444444444,
              "#bd3786"
             ],
             [
              0.5555555555555556,
              "#d8576b"
             ],
             [
              0.6666666666666666,
              "#ed7953"
             ],
             [
              0.7777777777777778,
              "#fb9f3a"
             ],
             [
              0.8888888888888888,
              "#fdca26"
             ],
             [
              1,
              "#f0f921"
             ]
            ],
            "type": "heatmap"
           }
          ],
          "heatmapgl": [
           {
            "colorbar": {
             "outlinewidth": 0,
             "ticks": ""
            },
            "colorscale": [
             [
              0,
              "#0d0887"
             ],
             [
              0.1111111111111111,
              "#46039f"
             ],
             [
              0.2222222222222222,
              "#7201a8"
             ],
             [
              0.3333333333333333,
              "#9c179e"
             ],
             [
              0.4444444444444444,
              "#bd3786"
             ],
             [
              0.5555555555555556,
              "#d8576b"
             ],
             [
              0.6666666666666666,
              "#ed7953"
             ],
             [
              0.7777777777777778,
              "#fb9f3a"
             ],
             [
              0.8888888888888888,
              "#fdca26"
             ],
             [
              1,
              "#f0f921"
             ]
            ],
            "type": "heatmapgl"
           }
          ],
          "histogram": [
           {
            "marker": {
             "pattern": {
              "fillmode": "overlay",
              "size": 10,
              "solidity": 0.2
             }
            },
            "type": "histogram"
           }
          ],
          "histogram2d": [
           {
            "colorbar": {
             "outlinewidth": 0,
             "ticks": ""
            },
            "colorscale": [
             [
              0,
              "#0d0887"
             ],
             [
              0.1111111111111111,
              "#46039f"
             ],
             [
              0.2222222222222222,
              "#7201a8"
             ],
             [
              0.3333333333333333,
              "#9c179e"
             ],
             [
              0.4444444444444444,
              "#bd3786"
             ],
             [
              0.5555555555555556,
              "#d8576b"
             ],
             [
              0.6666666666666666,
              "#ed7953"
             ],
             [
              0.7777777777777778,
              "#fb9f3a"
             ],
             [
              0.8888888888888888,
              "#fdca26"
             ],
             [
              1,
              "#f0f921"
             ]
            ],
            "type": "histogram2d"
           }
          ],
          "histogram2dcontour": [
           {
            "colorbar": {
             "outlinewidth": 0,
             "ticks": ""
            },
            "colorscale": [
             [
              0,
              "#0d0887"
             ],
             [
              0.1111111111111111,
              "#46039f"
             ],
             [
              0.2222222222222222,
              "#7201a8"
             ],
             [
              0.3333333333333333,
              "#9c179e"
             ],
             [
              0.4444444444444444,
              "#bd3786"
             ],
             [
              0.5555555555555556,
              "#d8576b"
             ],
             [
              0.6666666666666666,
              "#ed7953"
             ],
             [
              0.7777777777777778,
              "#fb9f3a"
             ],
             [
              0.8888888888888888,
              "#fdca26"
             ],
             [
              1,
              "#f0f921"
             ]
            ],
            "type": "histogram2dcontour"
           }
          ],
          "mesh3d": [
           {
            "colorbar": {
             "outlinewidth": 0,
             "ticks": ""
            },
            "type": "mesh3d"
           }
          ],
          "parcoords": [
           {
            "line": {
             "colorbar": {
              "outlinewidth": 0,
              "ticks": ""
             }
            },
            "type": "parcoords"
           }
          ],
          "pie": [
           {
            "automargin": true,
            "type": "pie"
           }
          ],
          "scatter": [
           {
            "fillpattern": {
             "fillmode": "overlay",
             "size": 10,
             "solidity": 0.2
            },
            "type": "scatter"
           }
          ],
          "scatter3d": [
           {
            "line": {
             "colorbar": {
              "outlinewidth": 0,
              "ticks": ""
             }
            },
            "marker": {
             "colorbar": {
              "outlinewidth": 0,
              "ticks": ""
             }
            },
            "type": "scatter3d"
           }
          ],
          "scattercarpet": [
           {
            "marker": {
             "colorbar": {
              "outlinewidth": 0,
              "ticks": ""
             }
            },
            "type": "scattercarpet"
           }
          ],
          "scattergeo": [
           {
            "marker": {
             "colorbar": {
              "outlinewidth": 0,
              "ticks": ""
             }
            },
            "type": "scattergeo"
           }
          ],
          "scattergl": [
           {
            "marker": {
             "colorbar": {
              "outlinewidth": 0,
              "ticks": ""
             }
            },
            "type": "scattergl"
           }
          ],
          "scattermapbox": [
           {
            "marker": {
             "colorbar": {
              "outlinewidth": 0,
              "ticks": ""
             }
            },
            "type": "scattermapbox"
           }
          ],
          "scatterpolar": [
           {
            "marker": {
             "colorbar": {
              "outlinewidth": 0,
              "ticks": ""
             }
            },
            "type": "scatterpolar"
           }
          ],
          "scatterpolargl": [
           {
            "marker": {
             "colorbar": {
              "outlinewidth": 0,
              "ticks": ""
             }
            },
            "type": "scatterpolargl"
           }
          ],
          "scatterternary": [
           {
            "marker": {
             "colorbar": {
              "outlinewidth": 0,
              "ticks": ""
             }
            },
            "type": "scatterternary"
           }
          ],
          "surface": [
           {
            "colorbar": {
             "outlinewidth": 0,
             "ticks": ""
            },
            "colorscale": [
             [
              0,
              "#0d0887"
             ],
             [
              0.1111111111111111,
              "#46039f"
             ],
             [
              0.2222222222222222,
              "#7201a8"
             ],
             [
              0.3333333333333333,
              "#9c179e"
             ],
             [
              0.4444444444444444,
              "#bd3786"
             ],
             [
              0.5555555555555556,
              "#d8576b"
             ],
             [
              0.6666666666666666,
              "#ed7953"
             ],
             [
              0.7777777777777778,
              "#fb9f3a"
             ],
             [
              0.8888888888888888,
              "#fdca26"
             ],
             [
              1,
              "#f0f921"
             ]
            ],
            "type": "surface"
           }
          ],
          "table": [
           {
            "cells": {
             "fill": {
              "color": "#EBF0F8"
             },
             "line": {
              "color": "white"
             }
            },
            "header": {
             "fill": {
              "color": "#C8D4E3"
             },
             "line": {
              "color": "white"
             }
            },
            "type": "table"
           }
          ]
         },
         "layout": {
          "annotationdefaults": {
           "arrowcolor": "#2a3f5f",
           "arrowhead": 0,
           "arrowwidth": 1
          },
          "autotypenumbers": "strict",
          "coloraxis": {
           "colorbar": {
            "outlinewidth": 0,
            "ticks": ""
           }
          },
          "colorscale": {
           "diverging": [
            [
             0,
             "#8e0152"
            ],
            [
             0.1,
             "#c51b7d"
            ],
            [
             0.2,
             "#de77ae"
            ],
            [
             0.3,
             "#f1b6da"
            ],
            [
             0.4,
             "#fde0ef"
            ],
            [
             0.5,
             "#f7f7f7"
            ],
            [
             0.6,
             "#e6f5d0"
            ],
            [
             0.7,
             "#b8e186"
            ],
            [
             0.8,
             "#7fbc41"
            ],
            [
             0.9,
             "#4d9221"
            ],
            [
             1,
             "#276419"
            ]
           ],
           "sequential": [
            [
             0,
             "#0d0887"
            ],
            [
             0.1111111111111111,
             "#46039f"
            ],
            [
             0.2222222222222222,
             "#7201a8"
            ],
            [
             0.3333333333333333,
             "#9c179e"
            ],
            [
             0.4444444444444444,
             "#bd3786"
            ],
            [
             0.5555555555555556,
             "#d8576b"
            ],
            [
             0.6666666666666666,
             "#ed7953"
            ],
            [
             0.7777777777777778,
             "#fb9f3a"
            ],
            [
             0.8888888888888888,
             "#fdca26"
            ],
            [
             1,
             "#f0f921"
            ]
           ],
           "sequentialminus": [
            [
             0,
             "#0d0887"
            ],
            [
             0.1111111111111111,
             "#46039f"
            ],
            [
             0.2222222222222222,
             "#7201a8"
            ],
            [
             0.3333333333333333,
             "#9c179e"
            ],
            [
             0.4444444444444444,
             "#bd3786"
            ],
            [
             0.5555555555555556,
             "#d8576b"
            ],
            [
             0.6666666666666666,
             "#ed7953"
            ],
            [
             0.7777777777777778,
             "#fb9f3a"
            ],
            [
             0.8888888888888888,
             "#fdca26"
            ],
            [
             1,
             "#f0f921"
            ]
           ]
          },
          "colorway": [
           "#636efa",
           "#EF553B",
           "#00cc96",
           "#ab63fa",
           "#FFA15A",
           "#19d3f3",
           "#FF6692",
           "#B6E880",
           "#FF97FF",
           "#FECB52"
          ],
          "font": {
           "color": "#2a3f5f"
          },
          "geo": {
           "bgcolor": "white",
           "lakecolor": "white",
           "landcolor": "#E5ECF6",
           "showlakes": true,
           "showland": true,
           "subunitcolor": "white"
          },
          "hoverlabel": {
           "align": "left"
          },
          "hovermode": "closest",
          "mapbox": {
           "style": "light"
          },
          "paper_bgcolor": "white",
          "plot_bgcolor": "#E5ECF6",
          "polar": {
           "angularaxis": {
            "gridcolor": "white",
            "linecolor": "white",
            "ticks": ""
           },
           "bgcolor": "#E5ECF6",
           "radialaxis": {
            "gridcolor": "white",
            "linecolor": "white",
            "ticks": ""
           }
          },
          "scene": {
           "xaxis": {
            "backgroundcolor": "#E5ECF6",
            "gridcolor": "white",
            "gridwidth": 2,
            "linecolor": "white",
            "showbackground": true,
            "ticks": "",
            "zerolinecolor": "white"
           },
           "yaxis": {
            "backgroundcolor": "#E5ECF6",
            "gridcolor": "white",
            "gridwidth": 2,
            "linecolor": "white",
            "showbackground": true,
            "ticks": "",
            "zerolinecolor": "white"
           },
           "zaxis": {
            "backgroundcolor": "#E5ECF6",
            "gridcolor": "white",
            "gridwidth": 2,
            "linecolor": "white",
            "showbackground": true,
            "ticks": "",
            "zerolinecolor": "white"
           }
          },
          "shapedefaults": {
           "line": {
            "color": "#2a3f5f"
           }
          },
          "ternary": {
           "aaxis": {
            "gridcolor": "white",
            "linecolor": "white",
            "ticks": ""
           },
           "baxis": {
            "gridcolor": "white",
            "linecolor": "white",
            "ticks": ""
           },
           "bgcolor": "#E5ECF6",
           "caxis": {
            "gridcolor": "white",
            "linecolor": "white",
            "ticks": ""
           }
          },
          "title": {
           "x": 0.05
          },
          "xaxis": {
           "automargin": true,
           "gridcolor": "white",
           "linecolor": "white",
           "ticks": "",
           "title": {
            "standoff": 15
           },
           "zerolinecolor": "white",
           "zerolinewidth": 2
          },
          "yaxis": {
           "automargin": true,
           "gridcolor": "white",
           "linecolor": "white",
           "ticks": "",
           "title": {
            "standoff": 15
           },
           "zerolinecolor": "white",
           "zerolinewidth": 2
          }
         }
        },
        "xaxis": {
         "anchor": "y",
         "domain": [
          0,
          1
         ],
         "title": {
          "text": "월"
         }
        },
        "yaxis": {
         "anchor": "x",
         "domain": [
          0,
          1
         ],
         "title": {
          "text": "합계"
         }
        }
       }
      }
     },
     "metadata": {},
     "output_type": "display_data"
    }
   ],
   "source": [
    "month_sum = data.query('연도 <= 2024').groupby(['월'])[['합계']].sum().reset_index()\n",
    "month_sum['월'] = month_sum['월'].astype(str)\n",
    "\n",
    "fig = px.line(data_frame=month_sum, x='월', y='합계')\n",
    "fig.show()"
   ]
  },
  {
   "cell_type": "markdown",
   "metadata": {},
   "source": [
    "[3] 시간대별로 가장 승하차 인원이 많은 역 찾기"
   ]
  },
  {
   "cell_type": "code",
   "execution_count": 23,
   "metadata": {},
   "outputs": [],
   "source": [
    "top10 = mean_data.sort_values('월평균', ascending=False).head(10)['지하철역']"
   ]
  },
  {
   "cell_type": "code",
   "execution_count": 24,
   "metadata": {},
   "outputs": [],
   "source": [
    "top10_m_h = data.query('지하철역 in @top10').groupby('지하철역')[on_col].mean()\n",
    "top10_m_h.columns = [i[:3] for i in top10_m_h.columns]"
   ]
  },
  {
   "cell_type": "code",
   "execution_count": 25,
   "metadata": {},
   "outputs": [
    {
     "data": {
      "image/png": "[encoded data removed]",
      "text/plain": [
       "<Figure size 1500x800 with 2 Axes>"
      ]
     },
     "metadata": {},
     "output_type": "display_data"
    }
   ],
   "source": [
    "plt.figure(figsize=(15, 8))\n",
    "sns.heatmap(top10_m_h, \n",
    "            annot=True,            \n",
    "            fmt='.0f',             \n",
    "            cmap='YlGnBu',         \n",
    "            cbar_kws={'label': '평균 승하차 인원'},\n",
    "            linewidths=0.5)\n",
    "\n",
    "\n",
    "plt.title('상위 10개 역의 시간대별 평균 승하차 인원', pad=20)\n",
    "plt.xlabel('시간대')\n",
    "plt.ylabel('지하철역')\n",
    "plt.show()"
   ]
  },
  {
   "cell_type": "code",
   "execution_count": 26,
   "metadata": {},
   "outputs": [
    {
     "data": {
      "text/html": [
       "<style type=\"text/css\">\n",
       "#T_9b614_row0_col0, #T_9b614_row0_col21, #T_9b614_row0_col22, #T_9b614_row0_col23, #T_9b614_row1_col0, #T_9b614_row1_col21, #T_9b614_row1_col22, #T_9b614_row1_col23, #T_9b614_row2_col0, #T_9b614_row2_col21, #T_9b614_row2_col22, #T_9b614_row2_col23, #T_9b614_row3_col21, #T_9b614_row3_col22, #T_9b614_row3_col23, #T_9b614_row4_col0, #T_9b614_row4_col21, #T_9b614_row4_col22, #T_9b614_row4_col23, #T_9b614_row5_col21, #T_9b614_row5_col22, #T_9b614_row5_col23, #T_9b614_row6_col0, #T_9b614_row6_col21, #T_9b614_row6_col22, #T_9b614_row6_col23, #T_9b614_row7_col0, #T_9b614_row7_col21, #T_9b614_row7_col22, #T_9b614_row7_col23, #T_9b614_row8_col0, #T_9b614_row8_col21, #T_9b614_row8_col22, #T_9b614_row8_col23, #T_9b614_row9_col21, #T_9b614_row9_col22, #T_9b614_row9_col23 {\n",
       "  background-color: #f7fcf5;\n",
       "  color: #000000;\n",
       "}\n",
       "#T_9b614_row0_col1 {\n",
       "  background-color: #f2faef;\n",
       "  color: #000000;\n",
       "}\n",
       "#T_9b614_row0_col2 {\n",
       "  background-color: #eef8ea;\n",
       "  color: #000000;\n",
       "}\n",
       "#T_9b614_row0_col3 {\n",
       "  background-color: #e5f5e0;\n",
       "  color: #000000;\n",
       "}\n",
       "#T_9b614_row0_col4, #T_9b614_row4_col8, #T_9b614_row8_col2 {\n",
       "  background-color: #d3eecd;\n",
       "  color: #000000;\n",
       "}\n",
       "#T_9b614_row0_col5, #T_9b614_row0_col6 {\n",
       "  background-color: #dbf1d5;\n",
       "  color: #000000;\n",
       "}\n",
       "#T_9b614_row0_col7, #T_9b614_row6_col15 {\n",
       "  background-color: #cdecc7;\n",
       "  color: #000000;\n",
       "}\n",
       "#T_9b614_row0_col8 {\n",
       "  background-color: #bde5b6;\n",
       "  color: #000000;\n",
       "}\n",
       "#T_9b614_row0_col9, #T_9b614_row8_col6 {\n",
       "  background-color: #a5db9f;\n",
       "  color: #000000;\n",
       "}\n",
       "#T_9b614_row0_col10, #T_9b614_row3_col8 {\n",
       "  background-color: #a0d99b;\n",
       "  color: #000000;\n",
       "}\n",
       "#T_9b614_row0_col11, #T_9b614_row8_col9 {\n",
       "  background-color: #86cc85;\n",
       "  color: #000000;\n",
       "}\n",
       "#T_9b614_row0_col12 {\n",
       "  background-color: #6dc072;\n",
       "  color: #000000;\n",
       "}\n",
       "#T_9b614_row0_col13 {\n",
       "  background-color: #2f974e;\n",
       "  color: #f1f1f1;\n",
       "}\n",
       "#T_9b614_row0_col14, #T_9b614_row1_col14, #T_9b614_row2_col14, #T_9b614_row3_col4, #T_9b614_row4_col14, #T_9b614_row5_col4, #T_9b614_row6_col4, #T_9b614_row7_col14, #T_9b614_row8_col14, #T_9b614_row9_col18 {\n",
       "  background-color: #00441b;\n",
       "  color: #f1f1f1;\n",
       "}\n",
       "#T_9b614_row0_col15 {\n",
       "  background-color: #339c52;\n",
       "  color: #f1f1f1;\n",
       "}\n",
       "#T_9b614_row0_col16, #T_9b614_row3_col14 {\n",
       "  background-color: #62bb6d;\n",
       "  color: #f1f1f1;\n",
       "}\n",
       "#T_9b614_row0_col17 {\n",
       "  background-color: #39a257;\n",
       "  color: #f1f1f1;\n",
       "}\n",
       "#T_9b614_row0_col18, #T_9b614_row3_col5 {\n",
       "  background-color: #3ba458;\n",
       "  color: #f1f1f1;\n",
       "}\n",
       "#T_9b614_row0_col19, #T_9b614_row4_col18 {\n",
       "  background-color: #bee5b8;\n",
       "  color: #000000;\n",
       "}\n",
       "#T_9b614_row0_col20, #T_9b614_row4_col2 {\n",
       "  background-color: #f1faee;\n",
       "  color: #000000;\n",
       "}\n",
       "#T_9b614_row1_col1 {\n",
       "  background-color: #d8f0d2;\n",
       "  color: #000000;\n",
       "}\n",
       "#T_9b614_row1_col2, #T_9b614_row3_col2 {\n",
       "  background-color: #c9eac2;\n",
       "  color: #000000;\n",
       "}\n",
       "#T_9b614_row1_col3 {\n",
       "  background-color: #3ca559;\n",
       "  color: #f1f1f1;\n",
       "}\n",
       "#T_9b614_row1_col4 {\n",
       "  background-color: #087432;\n",
       "  color: #f1f1f1;\n",
       "}\n",
       "#T_9b614_row1_col5, #T_9b614_row4_col15, #T_9b614_row8_col5 {\n",
       "  background-color: #66bd6f;\n",
       "  color: #f1f1f1;\n",
       "}\n",
       "#T_9b614_row1_col6, #T_9b614_row6_col6 {\n",
       "  background-color: #b0dfaa;\n",
       "  color: #000000;\n",
       "}\n",
       "#T_9b614_row1_col7, #T_9b614_row1_col10, #T_9b614_row6_col8, #T_9b614_row7_col11 {\n",
       "  background-color: #bbe4b4;\n",
       "  color: #000000;\n",
       "}\n",
       "#T_9b614_row1_col8, #T_9b614_row6_col14, #T_9b614_row9_col5 {\n",
       "  background-color: #b4e1ad;\n",
       "  color: #000000;\n",
       "}\n",
       "#T_9b614_row1_col9 {\n",
       "  background-color: #b1e0ab;\n",
       "  color: #000000;\n",
       "}\n",
       "#T_9b614_row1_col11, #T_9b614_row9_col7 {\n",
       "  background-color: #b6e2af;\n",
       "  color: #000000;\n",
       "}\n",
       "#T_9b614_row1_col12, #T_9b614_row9_col8 {\n",
       "  background-color: #a7dba0;\n",
       "  color: #000000;\n",
       "}\n",
       "#T_9b614_row1_col13, #T_9b614_row8_col11 {\n",
       "  background-color: #63bc6e;\n",
       "  color: #f1f1f1;\n",
       "}\n",
       "#T_9b614_row1_col15 {\n",
       "  background-color: #5bb86a;\n",
       "  color: #f1f1f1;\n",
       "}\n",
       "#T_9b614_row1_col16, #T_9b614_row2_col11 {\n",
       "  background-color: #abdda5;\n",
       "  color: #000000;\n",
       "}\n",
       "#T_9b614_row1_col17, #T_9b614_row3_col17 {\n",
       "  background-color: #bae3b3;\n",
       "  color: #000000;\n",
       "}\n",
       "#T_9b614_row1_col18 {\n",
       "  background-color: #cbebc5;\n",
       "  color: #000000;\n",
       "}\n",
       "#T_9b614_row1_col19 {\n",
       "  background-color: #e8f6e3;\n",
       "  color: #000000;\n",
       "}\n",
       "#T_9b614_row1_col20, #T_9b614_row4_col20, #T_9b614_row6_col20, #T_9b614_row7_col2, #T_9b614_row7_col20 {\n",
       "  background-color: #f5fbf3;\n",
       "  color: #000000;\n",
       "}\n",
       "#T_9b614_row2_col1, #T_9b614_row4_col1, #T_9b614_row5_col20, #T_9b614_row8_col20 {\n",
       "  background-color: #f5fbf2;\n",
       "  color: #000000;\n",
       "}\n",
       "#T_9b614_row2_col2 {\n",
       "  background-color: #f3faf0;\n",
       "  color: #000000;\n",
       "}\n",
       "#T_9b614_row2_col3, #T_9b614_row9_col20 {\n",
       "  background-color: #eff9eb;\n",
       "  color: #000000;\n",
       "}\n",
       "#T_9b614_row2_col4, #T_9b614_row2_col19, #T_9b614_row4_col3, #T_9b614_row7_col5 {\n",
       "  background-color: #ecf8e8;\n",
       "  color: #000000;\n",
       "}\n",
       "#T_9b614_row2_col5, #T_9b614_row2_col6, #T_9b614_row6_col19 {\n",
       "  background-color: #ebf7e7;\n",
       "  color: #000000;\n",
       "}\n",
       "#T_9b614_row2_col7, #T_9b614_row4_col6 {\n",
       "  background-color: #e4f5df;\n",
       "  color: #000000;\n",
       "}\n",
       "#T_9b614_row2_col8, #T_9b614_row9_col1 {\n",
       "  background-color: #dbf1d6;\n",
       "  color: #000000;\n",
       "}\n",
       "#T_9b614_row2_col9 {\n",
       "  background-color: #ceecc8;\n",
       "  color: #000000;\n",
       "}\n",
       "#T_9b614_row2_col10, #T_9b614_row2_col18 {\n",
       "  background-color: #c2e7bb;\n",
       "  color: #000000;\n",
       "}\n",
       "#T_9b614_row2_col12 {\n",
       "  background-color: #94d390;\n",
       "  color: #000000;\n",
       "}\n",
       "#T_9b614_row2_col13, #T_9b614_row8_col12 {\n",
       "  background-color: #3fa95c;\n",
       "  color: #f1f1f1;\n",
       "}\n",
       "#T_9b614_row2_col15 {\n",
       "  background-color: #4db163;\n",
       "  color: #f1f1f1;\n",
       "}\n",
       "#T_9b614_row2_col16 {\n",
       "  background-color: #8ace88;\n",
       "  color: #000000;\n",
       "}\n",
       "#T_9b614_row2_col17, #T_9b614_row3_col6 {\n",
       "  background-color: #9ed798;\n",
       "  color: #000000;\n",
       "}\n",
       "#T_9b614_row2_col20, #T_9b614_row7_col1, #T_9b614_row9_col0 {\n",
       "  background-color: #f6fcf4;\n",
       "  color: #000000;\n",
       "}\n",
       "#T_9b614_row3_col0 {\n",
       "  background-color: #f4fbf1;\n",
       "  color: #000000;\n",
       "}\n",
       "#T_9b614_row3_col1, #T_9b614_row7_col8 {\n",
       "  background-color: #ddf2d8;\n",
       "  color: #000000;\n",
       "}\n",
       "#T_9b614_row3_col3, #T_9b614_row8_col15 {\n",
       "  background-color: #2b934b;\n",
       "  color: #f1f1f1;\n",
       "}\n",
       "#T_9b614_row3_col7, #T_9b614_row3_col15, #T_9b614_row9_col3 {\n",
       "  background-color: #a9dca3;\n",
       "  color: #000000;\n",
       "}\n",
       "#T_9b614_row3_col9, #T_9b614_row5_col18 {\n",
       "  background-color: #95d391;\n",
       "  color: #000000;\n",
       "}\n",
       "#T_9b614_row3_col10 {\n",
       "  background-color: #a3da9d;\n",
       "  color: #000000;\n",
       "}\n",
       "#T_9b614_row3_col11 {\n",
       "  background-color: #9cd797;\n",
       "  color: #000000;\n",
       "}\n",
       "#T_9b614_row3_col12 {\n",
       "  background-color: #8ed08b;\n",
       "  color: #000000;\n",
       "}\n",
       "#T_9b614_row3_col13 {\n",
       "  background-color: #79c67a;\n",
       "  color: #000000;\n",
       "}\n",
       "#T_9b614_row3_col16, #T_9b614_row6_col9 {\n",
       "  background-color: #bce4b5;\n",
       "  color: #000000;\n",
       "}\n",
       "#T_9b614_row3_col18, #T_9b614_row4_col10 {\n",
       "  background-color: #c3e7bc;\n",
       "  color: #000000;\n",
       "}\n",
       "#T_9b614_row3_col19, #T_9b614_row6_col1, #T_9b614_row7_col7 {\n",
       "  background-color: #e3f4de;\n",
       "  color: #000000;\n",
       "}\n",
       "#T_9b614_row3_col20, #T_9b614_row5_col0 {\n",
       "  background-color: #f4fbf2;\n",
       "  color: #000000;\n",
       "}\n",
       "#T_9b614_row4_col4 {\n",
       "  background-color: #e5f5e1;\n",
       "  color: #000000;\n",
       "}\n",
       "#T_9b614_row4_col5, #T_9b614_row7_col19 {\n",
       "  background-color: #e6f5e1;\n",
       "  color: #000000;\n",
       "}\n",
       "#T_9b614_row4_col7, #T_9b614_row5_col19, #T_9b614_row9_col2 {\n",
       "  background-color: #daf0d4;\n",
       "  color: #000000;\n",
       "}\n",
       "#T_9b614_row4_col9, #T_9b614_row7_col10 {\n",
       "  background-color: #caeac3;\n",
       "  color: #000000;\n",
       "}\n",
       "#T_9b614_row4_col11, #T_9b614_row7_col12 {\n",
       "  background-color: #aedea7;\n",
       "  color: #000000;\n",
       "}\n",
       "#T_9b614_row4_col12 {\n",
       "  background-color: #8dd08a;\n",
       "  color: #000000;\n",
       "}\n",
       "#T_9b614_row4_col13, #T_9b614_row6_col5 {\n",
       "  background-color: #4eb264;\n",
       "  color: #f1f1f1;\n",
       "}\n",
       "#T_9b614_row4_col16 {\n",
       "  background-color: #afdfa8;\n",
       "  color: #000000;\n",
       "}\n",
       "#T_9b614_row4_col17 {\n",
       "  background-color: #acdea6;\n",
       "  color: #000000;\n",
       "}\n",
       "#T_9b614_row4_col19, #T_9b614_row7_col6 {\n",
       "  background-color: #e9f7e5;\n",
       "  color: #000000;\n",
       "}\n",
       "#T_9b614_row5_col1, #T_9b614_row6_col10 {\n",
       "  background-color: #c6e8bf;\n",
       "  color: #000000;\n",
       "}\n",
       "#T_9b614_row5_col2, #T_9b614_row8_col7 {\n",
       "  background-color: #a4da9e;\n",
       "  color: #000000;\n",
       "}\n",
       "#T_9b614_row5_col3, #T_9b614_row9_col17 {\n",
       "  background-color: #005120;\n",
       "  color: #f1f1f1;\n",
       "}\n",
       "#T_9b614_row5_col5 {\n",
       "  background-color: #3ea75a;\n",
       "  color: #f1f1f1;\n",
       "}\n",
       "#T_9b614_row5_col6 {\n",
       "  background-color: #87cd86;\n",
       "  color: #000000;\n",
       "}\n",
       "#T_9b614_row5_col7, #T_9b614_row9_col4 {\n",
       "  background-color: #8bcf89;\n",
       "  color: #000000;\n",
       "}\n",
       "#T_9b614_row5_col8 {\n",
       "  background-color: #75c477;\n",
       "  color: #000000;\n",
       "}\n",
       "#T_9b614_row5_col9 {\n",
       "  background-color: #68be70;\n",
       "  color: #000000;\n",
       "}\n",
       "#T_9b614_row5_col10, #T_9b614_row9_col19 {\n",
       "  background-color: #6bc072;\n",
       "  color: #000000;\n",
       "}\n",
       "#T_9b614_row5_col11, #T_9b614_row9_col11 {\n",
       "  background-color: #60ba6c;\n",
       "  color: #f1f1f1;\n",
       "}\n",
       "#T_9b614_row5_col12 {\n",
       "  background-color: #4bb062;\n",
       "  color: #f1f1f1;\n",
       "}\n",
       "#T_9b614_row5_col13 {\n",
       "  background-color: #29914a;\n",
       "  color: #f1f1f1;\n",
       "}\n",
       "#T_9b614_row5_col14 {\n",
       "  background-color: #005321;\n",
       "  color: #f1f1f1;\n",
       "}\n",
       "#T_9b614_row5_col15 {\n",
       "  background-color: #48ae60;\n",
       "  color: #f1f1f1;\n",
       "}\n",
       "#T_9b614_row5_col16 {\n",
       "  background-color: #70c274;\n",
       "  color: #000000;\n",
       "}\n",
       "#T_9b614_row5_col17, #T_9b614_row7_col13, #T_9b614_row7_col15, #T_9b614_row8_col3 {\n",
       "  background-color: #6abf71;\n",
       "  color: #000000;\n",
       "}\n",
       "#T_9b614_row6_col2 {\n",
       "  background-color: #c8e9c1;\n",
       "  color: #000000;\n",
       "}\n",
       "#T_9b614_row6_col3 {\n",
       "  background-color: #309950;\n",
       "  color: #f1f1f1;\n",
       "}\n",
       "#T_9b614_row6_col7, #T_9b614_row9_col6 {\n",
       "  background-color: #c0e6b9;\n",
       "  color: #000000;\n",
       "}\n",
       "#T_9b614_row6_col11 {\n",
       "  background-color: #c7e9c0;\n",
       "  color: #000000;\n",
       "}\n",
       "#T_9b614_row6_col12, #T_9b614_row7_col18 {\n",
       "  background-color: #c1e6ba;\n",
       "  color: #000000;\n",
       "}\n",
       "#T_9b614_row6_col13 {\n",
       "  background-color: #b8e3b2;\n",
       "  color: #000000;\n",
       "}\n",
       "#T_9b614_row6_col16 {\n",
       "  background-color: #d7efd1;\n",
       "  color: #000000;\n",
       "}\n",
       "#T_9b614_row6_col17 {\n",
       "  background-color: #d9f0d3;\n",
       "  color: #000000;\n",
       "}\n",
       "#T_9b614_row6_col18 {\n",
       "  background-color: #dcf2d7;\n",
       "  color: #000000;\n",
       "}\n",
       "#T_9b614_row7_col3 {\n",
       "  background-color: #f2faf0;\n",
       "  color: #000000;\n",
       "}\n",
       "#T_9b614_row7_col4, #T_9b614_row8_col1 {\n",
       "  background-color: #eff9ec;\n",
       "  color: #000000;\n",
       "}\n",
       "#T_9b614_row7_col9 {\n",
       "  background-color: #d2edcc;\n",
       "  color: #000000;\n",
       "}\n",
       "#T_9b614_row7_col16 {\n",
       "  background-color: #7ac77b;\n",
       "  color: #000000;\n",
       "}\n",
       "#T_9b614_row7_col17 {\n",
       "  background-color: #9fd899;\n",
       "  color: #000000;\n",
       "}\n",
       "#T_9b614_row8_col4 {\n",
       "  background-color: #228a44;\n",
       "  color: #f1f1f1;\n",
       "}\n",
       "#T_9b614_row8_col8 {\n",
       "  background-color: #98d594;\n",
       "  color: #000000;\n",
       "}\n",
       "#T_9b614_row8_col10 {\n",
       "  background-color: #7fc97f;\n",
       "  color: #000000;\n",
       "}\n",
       "#T_9b614_row8_col13 {\n",
       "  background-color: #137d39;\n",
       "  color: #f1f1f1;\n",
       "}\n",
       "#T_9b614_row8_col16 {\n",
       "  background-color: #2f984f;\n",
       "  color: #f1f1f1;\n",
       "}\n",
       "#T_9b614_row8_col17 {\n",
       "  background-color: #45ad5f;\n",
       "  color: #f1f1f1;\n",
       "}\n",
       "#T_9b614_row8_col18 {\n",
       "  background-color: #83cb82;\n",
       "  color: #000000;\n",
       "}\n",
       "#T_9b614_row8_col19 {\n",
       "  background-color: #dff3da;\n",
       "  color: #000000;\n",
       "}\n",
       "#T_9b614_row9_col9 {\n",
       "  background-color: #92d28f;\n",
       "  color: #000000;\n",
       "}\n",
       "#T_9b614_row9_col10 {\n",
       "  background-color: #84cc83;\n",
       "  color: #000000;\n",
       "}\n",
       "#T_9b614_row9_col12 {\n",
       "  background-color: #359e53;\n",
       "  color: #f1f1f1;\n",
       "}\n",
       "#T_9b614_row9_col13 {\n",
       "  background-color: #117b38;\n",
       "  color: #f1f1f1;\n",
       "}\n",
       "#T_9b614_row9_col14 {\n",
       "  background-color: #00481d;\n",
       "  color: #f1f1f1;\n",
       "}\n",
       "#T_9b614_row9_col15 {\n",
       "  background-color: #157f3b;\n",
       "  color: #f1f1f1;\n",
       "}\n",
       "#T_9b614_row9_col16 {\n",
       "  background-color: #19833e;\n",
       "  color: #f1f1f1;\n",
       "}\n",
       "</style>\n",
       "<table id=\"T_9b614\">\n",
       "  <thead>\n",
       "    <tr>\n",
       "      <th class=\"blank level0\" >&nbsp;</th>\n",
       "      <th id=\"T_9b614_level0_col0\" class=\"col_heading level0 col0\" >04시</th>\n",
       "      <th id=\"T_9b614_level0_col1\" class=\"col_heading level0 col1\" >05시</th>\n",
       "      <th id=\"T_9b614_level0_col2\" class=\"col_heading level0 col2\" >06시</th>\n",
       "      <th id=\"T_9b614_level0_col3\" class=\"col_heading level0 col3\" >07시</th>\n",
       "      <th id=\"T_9b614_level0_col4\" class=\"col_heading level0 col4\" >08시</th>\n",
       "      <th id=\"T_9b614_level0_col5\" class=\"col_heading level0 col5\" >09시</th>\n",
       "      <th id=\"T_9b614_level0_col6\" class=\"col_heading level0 col6\" >10시</th>\n",
       "      <th id=\"T_9b614_level0_col7\" class=\"col_heading level0 col7\" >11시</th>\n",
       "      <th id=\"T_9b614_level0_col8\" class=\"col_heading level0 col8\" >12시</th>\n",
       "      <th id=\"T_9b614_level0_col9\" class=\"col_heading level0 col9\" >13시</th>\n",
       "      <th id=\"T_9b614_level0_col10\" class=\"col_heading level0 col10\" >14시</th>\n",
       "      <th id=\"T_9b614_level0_col11\" class=\"col_heading level0 col11\" >15시</th>\n",
       "      <th id=\"T_9b614_level0_col12\" class=\"col_heading level0 col12\" >16시</th>\n",
       "      <th id=\"T_9b614_level0_col13\" class=\"col_heading level0 col13\" >17시</th>\n",
       "      <th id=\"T_9b614_level0_col14\" class=\"col_heading level0 col14\" >18시</th>\n",
       "      <th id=\"T_9b614_level0_col15\" class=\"col_heading level0 col15\" >19시</th>\n",
       "      <th id=\"T_9b614_level0_col16\" class=\"col_heading level0 col16\" >20시</th>\n",
       "      <th id=\"T_9b614_level0_col17\" class=\"col_heading level0 col17\" >21시</th>\n",
       "      <th id=\"T_9b614_level0_col18\" class=\"col_heading level0 col18\" >22시</th>\n",
       "      <th id=\"T_9b614_level0_col19\" class=\"col_heading level0 col19\" >23시</th>\n",
       "      <th id=\"T_9b614_level0_col20\" class=\"col_heading level0 col20\" >00시</th>\n",
       "      <th id=\"T_9b614_level0_col21\" class=\"col_heading level0 col21\" >01시</th>\n",
       "      <th id=\"T_9b614_level0_col22\" class=\"col_heading level0 col22\" >02시</th>\n",
       "      <th id=\"T_9b614_level0_col23\" class=\"col_heading level0 col23\" >03시</th>\n",
       "    </tr>\n",
       "    <tr>\n",
       "      <th class=\"index_name level0\" >지하철역</th>\n",
       "      <th class=\"blank col0\" >&nbsp;</th>\n",
       "      <th class=\"blank col1\" >&nbsp;</th>\n",
       "      <th class=\"blank col2\" >&nbsp;</th>\n",
       "      <th class=\"blank col3\" >&nbsp;</th>\n",
       "      <th class=\"blank col4\" >&nbsp;</th>\n",
       "      <th class=\"blank col5\" >&nbsp;</th>\n",
       "      <th class=\"blank col6\" >&nbsp;</th>\n",
       "      <th class=\"blank col7\" >&nbsp;</th>\n",
       "      <th class=\"blank col8\" >&nbsp;</th>\n",
       "      <th class=\"blank col9\" >&nbsp;</th>\n",
       "      <th class=\"blank col10\" >&nbsp;</th>\n",
       "      <th class=\"blank col11\" >&nbsp;</th>\n",
       "      <th class=\"blank col12\" >&nbsp;</th>\n",
       "      <th class=\"blank col13\" >&nbsp;</th>\n",
       "      <th class=\"blank col14\" >&nbsp;</th>\n",
       "      <th class=\"blank col15\" >&nbsp;</th>\n",
       "      <th class=\"blank col16\" >&nbsp;</th>\n",
       "      <th class=\"blank col17\" >&nbsp;</th>\n",
       "      <th class=\"blank col18\" >&nbsp;</th>\n",
       "      <th class=\"blank col19\" >&nbsp;</th>\n",
       "      <th class=\"blank col20\" >&nbsp;</th>\n",
       "      <th class=\"blank col21\" >&nbsp;</th>\n",
       "      <th class=\"blank col22\" >&nbsp;</th>\n",
       "      <th class=\"blank col23\" >&nbsp;</th>\n",
       "    </tr>\n",
       "  </thead>\n",
       "  <tbody>\n",
       "    <tr>\n",
       "      <th id=\"T_9b614_level0_row0\" class=\"row_heading level0 row0\" >강남</th>\n",
       "      <td id=\"T_9b614_row0_col0\" class=\"data row0 col0\" >222</td>\n",
       "      <td id=\"T_9b614_row0_col1\" class=\"data row0 col1\" >12598</td>\n",
       "      <td id=\"T_9b614_row0_col2\" class=\"data row0 col2\" >21895</td>\n",
       "      <td id=\"T_9b614_row0_col3\" class=\"data row0 col3\" >43831</td>\n",
       "      <td id=\"T_9b614_row0_col4\" class=\"data row0 col4\" >69858</td>\n",
       "      <td id=\"T_9b614_row0_col5\" class=\"data row0 col5\" >58999</td>\n",
       "      <td id=\"T_9b614_row0_col6\" class=\"data row0 col6\" >58629</td>\n",
       "      <td id=\"T_9b614_row0_col7\" class=\"data row0 col7\" >78245</td>\n",
       "      <td id=\"T_9b614_row0_col8\" class=\"data row0 col8\" >99324</td>\n",
       "      <td id=\"T_9b614_row0_col9\" class=\"data row0 col9\" >125903</td>\n",
       "      <td id=\"T_9b614_row0_col10\" class=\"data row0 col10\" >131023</td>\n",
       "      <td id=\"T_9b614_row0_col11\" class=\"data row0 col11\" >157524</td>\n",
       "      <td id=\"T_9b614_row0_col12\" class=\"data row0 col12\" >180037</td>\n",
       "      <td id=\"T_9b614_row0_col13\" class=\"data row0 col13\" >244226</td>\n",
       "      <td id=\"T_9b614_row0_col14\" class=\"data row0 col14\" >348522</td>\n",
       "      <td id=\"T_9b614_row0_col15\" class=\"data row0 col15\" >237258</td>\n",
       "      <td id=\"T_9b614_row0_col16\" class=\"data row0 col16\" >189324</td>\n",
       "      <td id=\"T_9b614_row0_col17\" class=\"data row0 col17\" >229434</td>\n",
       "      <td id=\"T_9b614_row0_col18\" class=\"data row0 col18\" >227081</td>\n",
       "      <td id=\"T_9b614_row0_col19\" class=\"data row0 col19\" >97755</td>\n",
       "      <td id=\"T_9b614_row0_col20\" class=\"data row0 col20\" >15753</td>\n",
       "      <td id=\"T_9b614_row0_col21\" class=\"data row0 col21\" >52</td>\n",
       "      <td id=\"T_9b614_row0_col22\" class=\"data row0 col22\" >6</td>\n",
       "      <td id=\"T_9b614_row0_col23\" class=\"data row0 col23\" >0</td>\n",
       "    </tr>\n",
       "    <tr>\n",
       "      <th id=\"T_9b614_level0_row1\" class=\"row_heading level0 row1\" >구로디지털단지</th>\n",
       "      <td id=\"T_9b614_row1_col0\" class=\"data row1 col0\" >255</td>\n",
       "      <td id=\"T_9b614_row1_col1\" class=\"data row1 col1\" >40168</td>\n",
       "      <td id=\"T_9b614_row1_col2\" class=\"data row1 col2\" >54779</td>\n",
       "      <td id=\"T_9b614_row1_col3\" class=\"data row1 col3\" >144634</td>\n",
       "      <td id=\"T_9b614_row1_col4\" class=\"data row1 col4\" >188798</td>\n",
       "      <td id=\"T_9b614_row1_col5\" class=\"data row1 col5\" >118961</td>\n",
       "      <td id=\"T_9b614_row1_col6\" class=\"data row1 col6\" >72675</td>\n",
       "      <td id=\"T_9b614_row1_col7\" class=\"data row1 col7\" >65223</td>\n",
       "      <td id=\"T_9b614_row1_col8\" class=\"data row1 col8\" >69915</td>\n",
       "      <td id=\"T_9b614_row1_col9\" class=\"data row1 col9\" >72068</td>\n",
       "      <td id=\"T_9b614_row1_col10\" class=\"data row1 col10\" >65379</td>\n",
       "      <td id=\"T_9b614_row1_col11\" class=\"data row1 col11\" >68025</td>\n",
       "      <td id=\"T_9b614_row1_col12\" class=\"data row1 col12\" >79955</td>\n",
       "      <td id=\"T_9b614_row1_col13\" class=\"data row1 col13\" >120483</td>\n",
       "      <td id=\"T_9b614_row1_col14\" class=\"data row1 col14\" >223234</td>\n",
       "      <td id=\"T_9b614_row1_col15\" class=\"data row1 col15\" >125285</td>\n",
       "      <td id=\"T_9b614_row1_col16\" class=\"data row1 col16\" >75903</td>\n",
       "      <td id=\"T_9b614_row1_col17\" class=\"data row1 col17\" >65967</td>\n",
       "      <td id=\"T_9b614_row1_col18\" class=\"data row1 col18\" >51993</td>\n",
       "      <td id=\"T_9b614_row1_col19\" class=\"data row1 col19\" >23896</td>\n",
       "      <td id=\"T_9b614_row1_col20\" class=\"data row1 col20\" >3451</td>\n",
       "      <td id=\"T_9b614_row1_col21\" class=\"data row1 col21\" >16</td>\n",
       "      <td id=\"T_9b614_row1_col22\" class=\"data row1 col22\" >1</td>\n",
       "      <td id=\"T_9b614_row1_col23\" class=\"data row1 col23\" >0</td>\n",
       "    </tr>\n",
       "    <tr>\n",
       "      <th id=\"T_9b614_level0_row2\" class=\"row_heading level0 row2\" >삼성</th>\n",
       "      <td id=\"T_9b614_row2_col0\" class=\"data row2 col0\" >168</td>\n",
       "      <td id=\"T_9b614_row2_col1\" class=\"data row2 col1\" >5031</td>\n",
       "      <td id=\"T_9b614_row2_col2\" class=\"data row2 col2\" >8385</td>\n",
       "      <td id=\"T_9b614_row2_col3\" class=\"data row2 col3\" >18007</td>\n",
       "      <td id=\"T_9b614_row2_col4\" class=\"data row2 col4\" >24362</td>\n",
       "      <td id=\"T_9b614_row2_col5\" class=\"data row2 col5\" >24553</td>\n",
       "      <td id=\"T_9b614_row2_col6\" class=\"data row2 col6\" >26623</td>\n",
       "      <td id=\"T_9b614_row2_col7\" class=\"data row2 col7\" >38781</td>\n",
       "      <td id=\"T_9b614_row2_col8\" class=\"data row2 col8\" >49847</td>\n",
       "      <td id=\"T_9b614_row2_col9\" class=\"data row2 col9\" >65644</td>\n",
       "      <td id=\"T_9b614_row2_col10\" class=\"data row2 col10\" >79497</td>\n",
       "      <td id=\"T_9b614_row2_col11\" class=\"data row2 col11\" >101222</td>\n",
       "      <td id=\"T_9b614_row2_col12\" class=\"data row2 col12\" >122251</td>\n",
       "      <td id=\"T_9b614_row2_col13\" class=\"data row2 col13\" >187982</td>\n",
       "      <td id=\"T_9b614_row2_col14\" class=\"data row2 col14\" >297471</td>\n",
       "      <td id=\"T_9b614_row2_col15\" class=\"data row2 col15\" >177075</td>\n",
       "      <td id=\"T_9b614_row2_col16\" class=\"data row2 col16\" >130929</td>\n",
       "      <td id=\"T_9b614_row2_col17\" class=\"data row2 col17\" >113912</td>\n",
       "      <td id=\"T_9b614_row2_col18\" class=\"data row2 col18\" >79895</td>\n",
       "      <td id=\"T_9b614_row2_col19\" class=\"data row2 col19\" >22619</td>\n",
       "      <td id=\"T_9b614_row2_col20\" class=\"data row2 col20\" >3068</td>\n",
       "      <td id=\"T_9b614_row2_col21\" class=\"data row2 col21\" >54</td>\n",
       "      <td id=\"T_9b614_row2_col22\" class=\"data row2 col22\" >17</td>\n",
       "      <td id=\"T_9b614_row2_col23\" class=\"data row2 col23\" >0</td>\n",
       "    </tr>\n",
       "    <tr>\n",
       "      <th id=\"T_9b614_level0_row3\" class=\"row_heading level0 row3\" >서울대입구</th>\n",
       "      <td id=\"T_9b614_row3_col0\" class=\"data row3 col0\" >4459</td>\n",
       "      <td id=\"T_9b614_row3_col1\" class=\"data row3 col1\" >29480</td>\n",
       "      <td id=\"T_9b614_row3_col2\" class=\"data row3 col2\" >45212</td>\n",
       "      <td id=\"T_9b614_row3_col3\" class=\"data row3 col3\" >132227</td>\n",
       "      <td id=\"T_9b614_row3_col4\" class=\"data row3 col4\" >184524</td>\n",
       "      <td id=\"T_9b614_row3_col5\" class=\"data row3 col5\" >120052</td>\n",
       "      <td id=\"T_9b614_row3_col6\" class=\"data row3 col6\" >70729</td>\n",
       "      <td id=\"T_9b614_row3_col7\" class=\"data row3 col7\" >64272</td>\n",
       "      <td id=\"T_9b614_row3_col8\" class=\"data row3 col8\" >69710</td>\n",
       "      <td id=\"T_9b614_row3_col9\" class=\"data row3 col9\" >75362</td>\n",
       "      <td id=\"T_9b614_row3_col10\" class=\"data row3 col10\" >68012</td>\n",
       "      <td id=\"T_9b614_row3_col11\" class=\"data row3 col11\" >71472</td>\n",
       "      <td id=\"T_9b614_row3_col12\" class=\"data row3 col12\" >79242</td>\n",
       "      <td id=\"T_9b614_row3_col13\" class=\"data row3 col13\" >89632</td>\n",
       "      <td id=\"T_9b614_row3_col14\" class=\"data row3 col14\" >100380</td>\n",
       "      <td id=\"T_9b614_row3_col15\" class=\"data row3 col15\" >64311</td>\n",
       "      <td id=\"T_9b614_row3_col16\" class=\"data row3 col16\" >53247</td>\n",
       "      <td id=\"T_9b614_row3_col17\" class=\"data row3 col17\" >54220</td>\n",
       "      <td id=\"T_9b614_row3_col18\" class=\"data row3 col18\" >49000</td>\n",
       "      <td id=\"T_9b614_row3_col19\" class=\"data row3 col19\" >24634</td>\n",
       "      <td id=\"T_9b614_row3_col20\" class=\"data row3 col20\" >3623</td>\n",
       "      <td id=\"T_9b614_row3_col21\" class=\"data row3 col21\" >13</td>\n",
       "      <td id=\"T_9b614_row3_col22\" class=\"data row3 col22\" >1</td>\n",
       "      <td id=\"T_9b614_row3_col23\" class=\"data row3 col23\" >0</td>\n",
       "    </tr>\n",
       "    <tr>\n",
       "      <th id=\"T_9b614_level0_row4\" class=\"row_heading level0 row4\" >선릉</th>\n",
       "      <td id=\"T_9b614_row4_col0\" class=\"data row4 col0\" >122</td>\n",
       "      <td id=\"T_9b614_row4_col1\" class=\"data row4 col1\" >5546</td>\n",
       "      <td id=\"T_9b614_row4_col2\" class=\"data row4 col2\" >12296</td>\n",
       "      <td id=\"T_9b614_row4_col3\" class=\"data row4 col3\" >23238</td>\n",
       "      <td id=\"T_9b614_row4_col4\" class=\"data row4 col4\" >35297</td>\n",
       "      <td id=\"T_9b614_row4_col5\" class=\"data row4 col5\" >34636</td>\n",
       "      <td id=\"T_9b614_row4_col6\" class=\"data row4 col6\" >37785</td>\n",
       "      <td id=\"T_9b614_row4_col7\" class=\"data row4 col7\" >49245</td>\n",
       "      <td id=\"T_9b614_row4_col8\" class=\"data row4 col8\" >57284</td>\n",
       "      <td id=\"T_9b614_row4_col9\" class=\"data row4 col9\" >68258</td>\n",
       "      <td id=\"T_9b614_row4_col10\" class=\"data row4 col10\" >75775</td>\n",
       "      <td id=\"T_9b614_row4_col11\" class=\"data row4 col11\" >95289</td>\n",
       "      <td id=\"T_9b614_row4_col12\" class=\"data row4 col12\" >123234</td>\n",
       "      <td id=\"T_9b614_row4_col13\" class=\"data row4 col13\" >169625</td>\n",
       "      <td id=\"T_9b614_row4_col14\" class=\"data row4 col14\" >286279</td>\n",
       "      <td id=\"T_9b614_row4_col15\" class=\"data row4 col15\" >152151</td>\n",
       "      <td id=\"T_9b614_row4_col16\" class=\"data row4 col16\" >94977</td>\n",
       "      <td id=\"T_9b614_row4_col17\" class=\"data row4 col17\" >96941</td>\n",
       "      <td id=\"T_9b614_row4_col18\" class=\"data row4 col18\" >79535</td>\n",
       "      <td id=\"T_9b614_row4_col19\" class=\"data row4 col19\" >28936</td>\n",
       "      <td id=\"T_9b614_row4_col20\" class=\"data row4 col20\" >4182</td>\n",
       "      <td id=\"T_9b614_row4_col21\" class=\"data row4 col21\" >12</td>\n",
       "      <td id=\"T_9b614_row4_col22\" class=\"data row4 col22\" >1</td>\n",
       "      <td id=\"T_9b614_row4_col23\" class=\"data row4 col23\" >0</td>\n",
       "    </tr>\n",
       "    <tr>\n",
       "      <th id=\"T_9b614_level0_row5\" class=\"row_heading level0 row5\" >신도림</th>\n",
       "      <td id=\"T_9b614_row5_col0\" class=\"data row5 col0\" >3281</td>\n",
       "      <td id=\"T_9b614_row5_col1\" class=\"data row5 col1\" >38248</td>\n",
       "      <td id=\"T_9b614_row5_col2\" class=\"data row5 col2\" >54588</td>\n",
       "      <td id=\"T_9b614_row5_col3\" class=\"data row5 col3\" >143794</td>\n",
       "      <td id=\"T_9b614_row5_col4\" class=\"data row5 col4\" >150247</td>\n",
       "      <td id=\"T_9b614_row5_col5\" class=\"data row5 col5\" >96093</td>\n",
       "      <td id=\"T_9b614_row5_col6\" class=\"data row5 col6\" >67129</td>\n",
       "      <td id=\"T_9b614_row5_col7\" class=\"data row5 col7\" >65613</td>\n",
       "      <td id=\"T_9b614_row5_col8\" class=\"data row5 col8\" >74554</td>\n",
       "      <td id=\"T_9b614_row5_col9\" class=\"data row5 col9\" >79308</td>\n",
       "      <td id=\"T_9b614_row5_col10\" class=\"data row5 col10\" >78512</td>\n",
       "      <td id=\"T_9b614_row5_col11\" class=\"data row5 col11\" >82644</td>\n",
       "      <td id=\"T_9b614_row5_col12\" class=\"data row5 col12\" >90295</td>\n",
       "      <td id=\"T_9b614_row5_col13\" class=\"data row5 col13\" >108600</td>\n",
       "      <td id=\"T_9b614_row5_col14\" class=\"data row5 col14\" >143084</td>\n",
       "      <td id=\"T_9b614_row5_col15\" class=\"data row5 col15\" >90996</td>\n",
       "      <td id=\"T_9b614_row5_col16\" class=\"data row5 col16\" >76501</td>\n",
       "      <td id=\"T_9b614_row5_col17\" class=\"data row5 col17\" >78725</td>\n",
       "      <td id=\"T_9b614_row5_col18\" class=\"data row5 col18\" >61591</td>\n",
       "      <td id=\"T_9b614_row5_col19\" class=\"data row5 col19\" >26396</td>\n",
       "      <td id=\"T_9b614_row5_col20\" class=\"data row5 col20\" >2914</td>\n",
       "      <td id=\"T_9b614_row5_col21\" class=\"data row5 col21\" >23</td>\n",
       "      <td id=\"T_9b614_row5_col22\" class=\"data row5 col22\" >1</td>\n",
       "      <td id=\"T_9b614_row5_col23\" class=\"data row5 col23\" >0</td>\n",
       "    </tr>\n",
       "    <tr>\n",
       "      <th id=\"T_9b614_level0_row6\" class=\"row_heading level0 row6\" >신림</th>\n",
       "      <td id=\"T_9b614_row6_col0\" class=\"data row6 col0\" >272</td>\n",
       "      <td id=\"T_9b614_row6_col1\" class=\"data row6 col1\" >41813</td>\n",
       "      <td id=\"T_9b614_row6_col2\" class=\"data row6 col2\" >78127</td>\n",
       "      <td id=\"T_9b614_row6_col3\" class=\"data row6 col3\" >216666</td>\n",
       "      <td id=\"T_9b614_row6_col4\" class=\"data row6 col4\" >313232</td>\n",
       "      <td id=\"T_9b614_row6_col5\" class=\"data row6 col5\" >185077</td>\n",
       "      <td id=\"T_9b614_row6_col6\" class=\"data row6 col6\" >102030</td>\n",
       "      <td id=\"T_9b614_row6_col7\" class=\"data row6 col7\" >86734</td>\n",
       "      <td id=\"T_9b614_row6_col8\" class=\"data row6 col8\" >91193</td>\n",
       "      <td id=\"T_9b614_row6_col9\" class=\"data row6 col9\" >89554</td>\n",
       "      <td id=\"T_9b614_row6_col10\" class=\"data row6 col10\" >80666</td>\n",
       "      <td id=\"T_9b614_row6_col11\" class=\"data row6 col11\" >78990</td>\n",
       "      <td id=\"T_9b614_row6_col12\" class=\"data row6 col12\" >85321</td>\n",
       "      <td id=\"T_9b614_row6_col13\" class=\"data row6 col13\" >93039</td>\n",
       "      <td id=\"T_9b614_row6_col14\" class=\"data row6 col14\" >98992</td>\n",
       "      <td id=\"T_9b614_row6_col15\" class=\"data row6 col15\" >69749</td>\n",
       "      <td id=\"T_9b614_row6_col16\" class=\"data row6 col16\" >57635</td>\n",
       "      <td id=\"T_9b614_row6_col17\" class=\"data row6 col17\" >56061</td>\n",
       "      <td id=\"T_9b614_row6_col18\" class=\"data row6 col18\" >50405</td>\n",
       "      <td id=\"T_9b614_row6_col19\" class=\"data row6 col19\" >27067</td>\n",
       "      <td id=\"T_9b614_row6_col20\" class=\"data row6 col20\" >4263</td>\n",
       "      <td id=\"T_9b614_row6_col21\" class=\"data row6 col21\" >26</td>\n",
       "      <td id=\"T_9b614_row6_col22\" class=\"data row6 col22\" >1</td>\n",
       "      <td id=\"T_9b614_row6_col23\" class=\"data row6 col23\" >0</td>\n",
       "    </tr>\n",
       "    <tr>\n",
       "      <th id=\"T_9b614_level0_row7\" class=\"row_heading level0 row7\" >을지로입구</th>\n",
       "      <td id=\"T_9b614_row7_col0\" class=\"data row7 col0\" >99</td>\n",
       "      <td id=\"T_9b614_row7_col1\" class=\"data row7 col1\" >2802</td>\n",
       "      <td id=\"T_9b614_row7_col2\" class=\"data row7 col2\" >3604</td>\n",
       "      <td id=\"T_9b614_row7_col3\" class=\"data row7 col3\" >8866</td>\n",
       "      <td id=\"T_9b614_row7_col4\" class=\"data row7 col4\" >15620</td>\n",
       "      <td id=\"T_9b614_row7_col5\" class=\"data row7 col5\" >20769</td>\n",
       "      <td id=\"T_9b614_row7_col6\" class=\"data row7 col6\" >26940</td>\n",
       "      <td id=\"T_9b614_row7_col7\" class=\"data row7 col7\" >36433</td>\n",
       "      <td id=\"T_9b614_row7_col8\" class=\"data row7 col8\" >42320</td>\n",
       "      <td id=\"T_9b614_row7_col9\" class=\"data row7 col9\" >55263</td>\n",
       "      <td id=\"T_9b614_row7_col10\" class=\"data row7 col10\" >64273</td>\n",
       "      <td id=\"T_9b614_row7_col11\" class=\"data row7 col11\" >77537</td>\n",
       "      <td id=\"T_9b614_row7_col12\" class=\"data row7 col12\" >89670</td>\n",
       "      <td id=\"T_9b614_row7_col13\" class=\"data row7 col13\" >140756</td>\n",
       "      <td id=\"T_9b614_row7_col14\" class=\"data row7 col14\" >267955</td>\n",
       "      <td id=\"T_9b614_row7_col15\" class=\"data row7 col15\" >140857</td>\n",
       "      <td id=\"T_9b614_row7_col16\" class=\"data row7 col16\" >129052</td>\n",
       "      <td id=\"T_9b614_row7_col17\" class=\"data row7 col17\" >101965</td>\n",
       "      <td id=\"T_9b614_row7_col18\" class=\"data row7 col18\" >73226</td>\n",
       "      <td id=\"T_9b614_row7_col19\" class=\"data row7 col19\" >31874</td>\n",
       "      <td id=\"T_9b614_row7_col20\" class=\"data row7 col20\" >3986</td>\n",
       "      <td id=\"T_9b614_row7_col21\" class=\"data row7 col21\" >43</td>\n",
       "      <td id=\"T_9b614_row7_col22\" class=\"data row7 col22\" >4</td>\n",
       "      <td id=\"T_9b614_row7_col23\" class=\"data row7 col23\" >0</td>\n",
       "    </tr>\n",
       "    <tr>\n",
       "      <th id=\"T_9b614_level0_row8\" class=\"row_heading level0 row8\" >잠실</th>\n",
       "      <td id=\"T_9b614_row8_col0\" class=\"data row8 col0\" >121</td>\n",
       "      <td id=\"T_9b614_row8_col1\" class=\"data row8 col1\" >13275</td>\n",
       "      <td id=\"T_9b614_row8_col2\" class=\"data row8 col2\" >48372</td>\n",
       "      <td id=\"T_9b614_row8_col3\" class=\"data row8 col3\" >125727</td>\n",
       "      <td id=\"T_9b614_row8_col4\" class=\"data row8 col4\" >179607</td>\n",
       "      <td id=\"T_9b614_row8_col5\" class=\"data row8 col5\" >127974</td>\n",
       "      <td id=\"T_9b614_row8_col6\" class=\"data row8 col6\" >86536</td>\n",
       "      <td id=\"T_9b614_row8_col7\" class=\"data row8 col7\" >87229</td>\n",
       "      <td id=\"T_9b614_row8_col8\" class=\"data row8 col8\" >95961</td>\n",
       "      <td id=\"T_9b614_row8_col9\" class=\"data row8 col9\" >107836</td>\n",
       "      <td id=\"T_9b614_row8_col10\" class=\"data row8 col10\" >112943</td>\n",
       "      <td id=\"T_9b614_row8_col11\" class=\"data row8 col11\" >129762</td>\n",
       "      <td id=\"T_9b614_row8_col12\" class=\"data row8 col12\" >151160</td>\n",
       "      <td id=\"T_9b614_row8_col13\" class=\"data row8 col13\" >192633</td>\n",
       "      <td id=\"T_9b614_row8_col14\" class=\"data row8 col14\" >239280</td>\n",
       "      <td id=\"T_9b614_row8_col15\" class=\"data row8 col15\" >171461</td>\n",
       "      <td id=\"T_9b614_row8_col16\" class=\"data row8 col16\" >166453</td>\n",
       "      <td id=\"T_9b614_row8_col17\" class=\"data row8 col17\" >147591</td>\n",
       "      <td id=\"T_9b614_row8_col18\" class=\"data row8 col18\" >110278</td>\n",
       "      <td id=\"T_9b614_row8_col19\" class=\"data row8 col19\" >35872</td>\n",
       "      <td id=\"T_9b614_row8_col20\" class=\"data row8 col20\" >4324</td>\n",
       "      <td id=\"T_9b614_row8_col21\" class=\"data row8 col21\" >58</td>\n",
       "      <td id=\"T_9b614_row8_col22\" class=\"data row8 col22\" >2</td>\n",
       "      <td id=\"T_9b614_row8_col23\" class=\"data row8 col23\" >0</td>\n",
       "    </tr>\n",
       "    <tr>\n",
       "      <th id=\"T_9b614_level0_row9\" class=\"row_heading level0 row9\" >홍대입구</th>\n",
       "      <td id=\"T_9b614_row9_col0\" class=\"data row9 col0\" >1273</td>\n",
       "      <td id=\"T_9b614_row9_col1\" class=\"data row9 col1\" >32664</td>\n",
       "      <td id=\"T_9b614_row9_col2\" class=\"data row9 col2\" >34280</td>\n",
       "      <td id=\"T_9b614_row9_col3\" class=\"data row9 col3\" >68792</td>\n",
       "      <td id=\"T_9b614_row9_col4\" class=\"data row9 col4\" >86135</td>\n",
       "      <td id=\"T_9b614_row9_col5\" class=\"data row9 col5\" >62381</td>\n",
       "      <td id=\"T_9b614_row9_col6\" class=\"data row9 col6\" >54238</td>\n",
       "      <td id=\"T_9b614_row9_col7\" class=\"data row9 col7\" >60305</td>\n",
       "      <td id=\"T_9b614_row9_col8\" class=\"data row9 col8\" >70550</td>\n",
       "      <td id=\"T_9b614_row9_col9\" class=\"data row9 col9\" >82528</td>\n",
       "      <td id=\"T_9b614_row9_col10\" class=\"data row9 col10\" >90307</td>\n",
       "      <td id=\"T_9b614_row9_col11\" class=\"data row9 col11\" >108753</td>\n",
       "      <td id=\"T_9b614_row9_col12\" class=\"data row9 col12\" >132944</td>\n",
       "      <td id=\"T_9b614_row9_col13\" class=\"data row9 col13\" >161454</td>\n",
       "      <td id=\"T_9b614_row9_col14\" class=\"data row9 col14\" >194965</td>\n",
       "      <td id=\"T_9b614_row9_col15\" class=\"data row9 col15\" >158312</td>\n",
       "      <td id=\"T_9b614_row9_col16\" class=\"data row9 col16\" >154759</td>\n",
       "      <td id=\"T_9b614_row9_col17\" class=\"data row9 col17\" >189477</td>\n",
       "      <td id=\"T_9b614_row9_col18\" class=\"data row9 col18\" >197818</td>\n",
       "      <td id=\"T_9b614_row9_col19\" class=\"data row9 col19\" >103373</td>\n",
       "      <td id=\"T_9b614_row9_col20\" class=\"data row9 col20\" >12049</td>\n",
       "      <td id=\"T_9b614_row9_col21\" class=\"data row9 col21\" >82</td>\n",
       "      <td id=\"T_9b614_row9_col22\" class=\"data row9 col22\" >6</td>\n",
       "      <td id=\"T_9b614_row9_col23\" class=\"data row9 col23\" >1</td>\n",
       "    </tr>\n",
       "  </tbody>\n",
       "</table>\n"
      ],
      "text/plain": [
       "<pandas.io.formats.style.Styler at 0x206de9a7770>"
      ]
     },
     "execution_count": 26,
     "metadata": {},
     "output_type": "execute_result"
    }
   ],
   "source": [
    "# 행을 기준으로 히트맵 생성하기 \n",
    "top10_m_h.style.background_gradient(cmap='Greens', axis=1).format('{:.0f}')"
   ]
  },
  {
   "cell_type": "markdown",
   "metadata": {},
   "source": [
    "[4] 지하철역 시간대별 인원 유형 클러스터링\n"
   ]
  },
  {
   "cell_type": "code",
   "execution_count": 27,
   "metadata": {},
   "outputs": [],
   "source": [
    "from yellowbrick.cluster import KElbowVisualizer"
   ]
  },
  {
   "cell_type": "code",
   "execution_count": 28,
   "metadata": {},
   "outputs": [],
   "source": [
    "h_m = data.groupby('지하철역')[on_col].mean()\n",
    "h_m.columns = [i[:3] for i in h_m.columns]\n",
    "h_m_pct = h_m.div(h_m.sum(axis=1), axis=0)"
   ]
  },
  {
   "cell_type": "code",
   "execution_count": 29,
   "metadata": {},
   "outputs": [
    {
     "data": {
      "text/html": [
       "<style>#sk-container-id-1 {\n",
       "  /* Definition of color scheme common for light and dark mode */\n",
       "  --sklearn-color-text: black;\n",
       "  --sklearn-color-line: gray;\n",
       "  /* Definition of color scheme for unfitted estimators */\n",
       "  --sklearn-color-unfitted-level-0: #fff5e6;\n",
       "  --sklearn-color-unfitted-level-1: #f6e4d2;\n",
       "  --sklearn-color-unfitted-level-2: #ffe0b3;\n",
       "  --sklearn-color-unfitted-level-3: chocolate;\n",
       "  /* Definition of color scheme for fitted estimators */\n",
       "  --sklearn-color-fitted-level-0: #f0f8ff;\n",
       "  --sklearn-color-fitted-level-1: #d4ebff;\n",
       "  --sklearn-color-fitted-level-2: #b3dbfd;\n",
       "  --sklearn-color-fitted-level-3: cornflowerblue;\n",
       "\n",
       "  /* Specific color for light theme */\n",
       "  --sklearn-color-text-on-default-background: var(--sg-text-color, var(--theme-code-foreground, var(--jp-content-font-color1, black)));\n",
       "  --sklearn-color-background: var(--sg-background-color, var(--theme-background, var(--jp-layout-color0, white)));\n",
       "  --sklearn-color-border-box: var(--sg-text-color, var(--theme-code-foreground, var(--jp-content-font-color1, black)));\n",
       "  --sklearn-color-icon: #696969;\n",
       "\n",
       "  @media (prefers-color-scheme: dark) {\n",
       "    /* Redefinition of color scheme for dark theme */\n",
       "    --sklearn-color-text-on-default-background: var(--sg-text-color, var(--theme-code-foreground, var(--jp-content-font-color1, white)));\n",
       "    --sklearn-color-background: var(--sg-background-color, var(--theme-background, var(--jp-layout-color0, #111)));\n",
       "    --sklearn-color-border-box: var(--sg-text-color, var(--theme-code-foreground, var(--jp-content-font-color1, white)));\n",
       "    --sklearn-color-icon: #878787;\n",
       "  }\n",
       "}\n",
       "\n",
       "#sk-container-id-1 {\n",
       "  color: var(--sklearn-color-text);\n",
       "}\n",
       "\n",
       "#sk-container-id-1 pre {\n",
       "  padding: 0;\n",
       "}\n",
       "\n",
       "#sk-container-id-1 input.sk-hidden--visually {\n",
       "  border: 0;\n",
       "  clip: rect(1px 1px 1px 1px);\n",
       "  clip: rect(1px, 1px, 1px, 1px);\n",
       "  height: 1px;\n",
       "  margin: -1px;\n",
       "  overflow: hidden;\n",
       "  padding: 0;\n",
       "  position: absolute;\n",
       "  width: 1px;\n",
       "}\n",
       "\n",
       "#sk-container-id-1 div.sk-dashed-wrapped {\n",
       "  border: 1px dashed var(--sklearn-color-line);\n",
       "  margin: 0 0.4em 0.5em 0.4em;\n",
       "  box-sizing: border-box;\n",
       "  padding-bottom: 0.4em;\n",
       "  background-color: var(--sklearn-color-background);\n",
       "}\n",
       "\n",
       "#sk-container-id-1 div.sk-container {\n",
       "  /* jupyter's `normalize.less` sets `[hidden] { display: none; }`\n",
       "     but bootstrap.min.css set `[hidden] { display: none !important; }`\n",
       "     so we also need the `!important` here to be able to override the\n",
       "     default hidden behavior on the sphinx rendered scikit-learn.org.\n",
       "     See: https://github.com/scikit-learn/scikit-learn/issues/21755 */\n",
       "  display: inline-block !important;\n",
       "  position: relative;\n",
       "}\n",
       "\n",
       "#sk-container-id-1 div.sk-text-repr-fallback {\n",
       "  display: none;\n",
       "}\n",
       "\n",
       "div.sk-parallel-item,\n",
       "div.sk-serial,\n",
       "div.sk-item {\n",
       "  /* draw centered vertical line to link estimators */\n",
       "  background-image: linear-gradient(var(--sklearn-color-text-on-default-background), var(--sklearn-color-text-on-default-background));\n",
       "  background-size: 2px 100%;\n",
       "  background-repeat: no-repeat;\n",
       "  background-position: center center;\n",
       "}\n",
       "\n",
       "/* Parallel-specific style estimator block */\n",
       "\n",
       "#sk-container-id-1 div.sk-parallel-item::after {\n",
       "  content: \"\";\n",
       "  width: 100%;\n",
       "  border-bottom: 2px solid var(--sklearn-color-text-on-default-background);\n",
       "  flex-grow: 1;\n",
       "}\n",
       "\n",
       "#sk-container-id-1 div.sk-parallel {\n",
       "  display: flex;\n",
       "  align-items: stretch;\n",
       "  justify-content: center;\n",
       "  background-color: var(--sklearn-color-background);\n",
       "  position: relative;\n",
       "}\n",
       "\n",
       "#sk-container-id-1 div.sk-parallel-item {\n",
       "  display: flex;\n",
       "  flex-direction: column;\n",
       "}\n",
       "\n",
       "#sk-container-id-1 div.sk-parallel-item:first-child::after {\n",
       "  align-self: flex-end;\n",
       "  width: 50%;\n",
       "}\n",
       "\n",
       "#sk-container-id-1 div.sk-parallel-item:last-child::after {\n",
       "  align-self: flex-start;\n",
       "  width: 50%;\n",
       "}\n",
       "\n",
       "#sk-container-id-1 div.sk-parallel-item:only-child::after {\n",
       "  width: 0;\n",
       "}\n",
       "\n",
       "/* Serial-specific style estimator block */\n",
       "\n",
       "#sk-container-id-1 div.sk-serial {\n",
       "  display: flex;\n",
       "  flex-direction: column;\n",
       "  align-items: center;\n",
       "  background-color: var(--sklearn-color-background);\n",
       "  padding-right: 1em;\n",
       "  padding-left: 1em;\n",
       "}\n",
       "\n",
       "\n",
       "/* Toggleable style: style used for estimator/Pipeline/ColumnTransformer box that is\n",
       "clickable and can be expanded/collapsed.\n",
       "- Pipeline and ColumnTransformer use this feature and define the default style\n",
       "- Estimators will overwrite some part of the style using the `sk-estimator` class\n",
       "*/\n",
       "\n",
       "/* Pipeline and ColumnTransformer style (default) */\n",
       "\n",
       "#sk-container-id-1 div.sk-toggleable {\n",
       "  /* Default theme specific background. It is overwritten whether we have a\n",
       "  specific estimator or a Pipeline/ColumnTransformer */\n",
       "  background-color: var(--sklearn-color-background);\n",
       "}\n",
       "\n",
       "/* Toggleable label */\n",
       "#sk-container-id-1 label.sk-toggleable__label {\n",
       "  cursor: pointer;\n",
       "  display: block;\n",
       "  width: 100%;\n",
       "  margin-bottom: 0;\n",
       "  padding: 0.5em;\n",
       "  box-sizing: border-box;\n",
       "  text-align: center;\n",
       "}\n",
       "\n",
       "#sk-container-id-1 label.sk-toggleable__label-arrow:before {\n",
       "  /* Arrow on the left of the label */\n",
       "  content: \"▸\";\n",
       "  float: left;\n",
       "  margin-right: 0.25em;\n",
       "  color: var(--sklearn-color-icon);\n",
       "}\n",
       "\n",
       "#sk-container-id-1 label.sk-toggleable__label-arrow:hover:before {\n",
       "  color: var(--sklearn-color-text);\n",
       "}\n",
       "\n",
       "/* Toggleable content - dropdown */\n",
       "\n",
       "#sk-container-id-1 div.sk-toggleable__content {\n",
       "  max-height: 0;\n",
       "  max-width: 0;\n",
       "  overflow: hidden;\n",
       "  text-align: left;\n",
       "  /* unfitted */\n",
       "  background-color: var(--sklearn-color-unfitted-level-0);\n",
       "}\n",
       "\n",
       "#sk-container-id-1 div.sk-toggleable__content.fitted {\n",
       "  /* fitted */\n",
       "  background-color: var(--sklearn-color-fitted-level-0);\n",
       "}\n",
       "\n",
       "#sk-container-id-1 div.sk-toggleable__content pre {\n",
       "  margin: 0.2em;\n",
       "  border-radius: 0.25em;\n",
       "  color: var(--sklearn-color-text);\n",
       "  /* unfitted */\n",
       "  background-color: var(--sklearn-color-unfitted-level-0);\n",
       "}\n",
       "\n",
       "#sk-container-id-1 div.sk-toggleable__content.fitted pre {\n",
       "  /* unfitted */\n",
       "  background-color: var(--sklearn-color-fitted-level-0);\n",
       "}\n",
       "\n",
       "#sk-container-id-1 input.sk-toggleable__control:checked~div.sk-toggleable__content {\n",
       "  /* Expand drop-down */\n",
       "  max-height: 200px;\n",
       "  max-width: 100%;\n",
       "  overflow: auto;\n",
       "}\n",
       "\n",
       "#sk-container-id-1 input.sk-toggleable__control:checked~label.sk-toggleable__label-arrow:before {\n",
       "  content: \"▾\";\n",
       "}\n",
       "\n",
       "/* Pipeline/ColumnTransformer-specific style */\n",
       "\n",
       "#sk-container-id-1 div.sk-label input.sk-toggleable__control:checked~label.sk-toggleable__label {\n",
       "  color: var(--sklearn-color-text);\n",
       "  background-color: var(--sklearn-color-unfitted-level-2);\n",
       "}\n",
       "\n",
       "#sk-container-id-1 div.sk-label.fitted input.sk-toggleable__control:checked~label.sk-toggleable__label {\n",
       "  background-color: var(--sklearn-color-fitted-level-2);\n",
       "}\n",
       "\n",
       "/* Estimator-specific style */\n",
       "\n",
       "/* Colorize estimator box */\n",
       "#sk-container-id-1 div.sk-estimator input.sk-toggleable__control:checked~label.sk-toggleable__label {\n",
       "  /* unfitted */\n",
       "  background-color: var(--sklearn-color-unfitted-level-2);\n",
       "}\n",
       "\n",
       "#sk-container-id-1 div.sk-estimator.fitted input.sk-toggleable__control:checked~label.sk-toggleable__label {\n",
       "  /* fitted */\n",
       "  background-color: var(--sklearn-color-fitted-level-2);\n",
       "}\n",
       "\n",
       "#sk-container-id-1 div.sk-label label.sk-toggleable__label,\n",
       "#sk-container-id-1 div.sk-label label {\n",
       "  /* The background is the default theme color */\n",
       "  color: var(--sklearn-color-text-on-default-background);\n",
       "}\n",
       "\n",
       "/* On hover, darken the color of the background */\n",
       "#sk-container-id-1 div.sk-label:hover label.sk-toggleable__label {\n",
       "  color: var(--sklearn-color-text);\n",
       "  background-color: var(--sklearn-color-unfitted-level-2);\n",
       "}\n",
       "\n",
       "/* Label box, darken color on hover, fitted */\n",
       "#sk-container-id-1 div.sk-label.fitted:hover label.sk-toggleable__label.fitted {\n",
       "  color: var(--sklearn-color-text);\n",
       "  background-color: var(--sklearn-color-fitted-level-2);\n",
       "}\n",
       "\n",
       "/* Estimator label */\n",
       "\n",
       "#sk-container-id-1 div.sk-label label {\n",
       "  font-family: monospace;\n",
       "  font-weight: bold;\n",
       "  display: inline-block;\n",
       "  line-height: 1.2em;\n",
       "}\n",
       "\n",
       "#sk-container-id-1 div.sk-label-container {\n",
       "  text-align: center;\n",
       "}\n",
       "\n",
       "/* Estimator-specific */\n",
       "#sk-container-id-1 div.sk-estimator {\n",
       "  font-family: monospace;\n",
       "  border: 1px dotted var(--sklearn-color-border-box);\n",
       "  border-radius: 0.25em;\n",
       "  box-sizing: border-box;\n",
       "  margin-bottom: 0.5em;\n",
       "  /* unfitted */\n",
       "  background-color: var(--sklearn-color-unfitted-level-0);\n",
       "}\n",
       "\n",
       "#sk-container-id-1 div.sk-estimator.fitted {\n",
       "  /* fitted */\n",
       "  background-color: var(--sklearn-color-fitted-level-0);\n",
       "}\n",
       "\n",
       "/* on hover */\n",
       "#sk-container-id-1 div.sk-estimator:hover {\n",
       "  /* unfitted */\n",
       "  background-color: var(--sklearn-color-unfitted-level-2);\n",
       "}\n",
       "\n",
       "#sk-container-id-1 div.sk-estimator.fitted:hover {\n",
       "  /* fitted */\n",
       "  background-color: var(--sklearn-color-fitted-level-2);\n",
       "}\n",
       "\n",
       "/* Specification for estimator info (e.g. \"i\" and \"?\") */\n",
       "\n",
       "/* Common style for \"i\" and \"?\" */\n",
       "\n",
       ".sk-estimator-doc-link,\n",
       "a:link.sk-estimator-doc-link,\n",
       "a:visited.sk-estimator-doc-link {\n",
       "  float: right;\n",
       "  font-size: smaller;\n",
       "  line-height: 1em;\n",
       "  font-family: monospace;\n",
       "  background-color: var(--sklearn-color-background);\n",
       "  border-radius: 1em;\n",
       "  height: 1em;\n",
       "  width: 1em;\n",
       "  text-decoration: none !important;\n",
       "  margin-left: 1ex;\n",
       "  /* unfitted */\n",
       "  border: var(--sklearn-color-unfitted-level-1) 1pt solid;\n",
       "  color: var(--sklearn-color-unfitted-level-1);\n",
       "}\n",
       "\n",
       ".sk-estimator-doc-link.fitted,\n",
       "a:link.sk-estimator-doc-link.fitted,\n",
       "a:visited.sk-estimator-doc-link.fitted {\n",
       "  /* fitted */\n",
       "  border: var(--sklearn-color-fitted-level-1) 1pt solid;\n",
       "  color: var(--sklearn-color-fitted-level-1);\n",
       "}\n",
       "\n",
       "/* On hover */\n",
       "div.sk-estimator:hover .sk-estimator-doc-link:hover,\n",
       ".sk-estimator-doc-link:hover,\n",
       "div.sk-label-container:hover .sk-estimator-doc-link:hover,\n",
       ".sk-estimator-doc-link:hover {\n",
       "  /* unfitted */\n",
       "  background-color: var(--sklearn-color-unfitted-level-3);\n",
       "  color: var(--sklearn-color-background);\n",
       "  text-decoration: none;\n",
       "}\n",
       "\n",
       "div.sk-estimator.fitted:hover .sk-estimator-doc-link.fitted:hover,\n",
       ".sk-estimator-doc-link.fitted:hover,\n",
       "div.sk-label-container:hover .sk-estimator-doc-link.fitted:hover,\n",
       ".sk-estimator-doc-link.fitted:hover {\n",
       "  /* fitted */\n",
       "  background-color: var(--sklearn-color-fitted-level-3);\n",
       "  color: var(--sklearn-color-background);\n",
       "  text-decoration: none;\n",
       "}\n",
       "\n",
       "/* Span, style for the box shown on hovering the info icon */\n",
       ".sk-estimator-doc-link span {\n",
       "  display: none;\n",
       "  z-index: 9999;\n",
       "  position: relative;\n",
       "  font-weight: normal;\n",
       "  right: .2ex;\n",
       "  padding: .5ex;\n",
       "  margin: .5ex;\n",
       "  width: min-content;\n",
       "  min-width: 20ex;\n",
       "  max-width: 50ex;\n",
       "  color: var(--sklearn-color-text);\n",
       "  box-shadow: 2pt 2pt 4pt #999;\n",
       "  /* unfitted */\n",
       "  background: var(--sklearn-color-unfitted-level-0);\n",
       "  border: .5pt solid var(--sklearn-color-unfitted-level-3);\n",
       "}\n",
       "\n",
       ".sk-estimator-doc-link.fitted span {\n",
       "  /* fitted */\n",
       "  background: var(--sklearn-color-fitted-level-0);\n",
       "  border: var(--sklearn-color-fitted-level-3);\n",
       "}\n",
       "\n",
       ".sk-estimator-doc-link:hover span {\n",
       "  display: block;\n",
       "}\n",
       "\n",
       "/* \"?\"-specific style due to the `<a>` HTML tag */\n",
       "\n",
       "#sk-container-id-1 a.estimator_doc_link {\n",
       "  float: right;\n",
       "  font-size: 1rem;\n",
       "  line-height: 1em;\n",
       "  font-family: monospace;\n",
       "  background-color: var(--sklearn-color-background);\n",
       "  border-radius: 1rem;\n",
       "  height: 1rem;\n",
       "  width: 1rem;\n",
       "  text-decoration: none;\n",
       "  /* unfitted */\n",
       "  color: var(--sklearn-color-unfitted-level-1);\n",
       "  border: var(--sklearn-color-unfitted-level-1) 1pt solid;\n",
       "}\n",
       "\n",
       "#sk-container-id-1 a.estimator_doc_link.fitted {\n",
       "  /* fitted */\n",
       "  border: var(--sklearn-color-fitted-level-1) 1pt solid;\n",
       "  color: var(--sklearn-color-fitted-level-1);\n",
       "}\n",
       "\n",
       "/* On hover */\n",
       "#sk-container-id-1 a.estimator_doc_link:hover {\n",
       "  /* unfitted */\n",
       "  background-color: var(--sklearn-color-unfitted-level-3);\n",
       "  color: var(--sklearn-color-background);\n",
       "  text-decoration: none;\n",
       "}\n",
       "\n",
       "#sk-container-id-1 a.estimator_doc_link.fitted:hover {\n",
       "  /* fitted */\n",
       "  background-color: var(--sklearn-color-fitted-level-3);\n",
       "}\n",
       "</style><div id=\"sk-container-id-1\" class=\"sk-top-container\"><div class=\"sk-text-repr-fallback\"><pre>KElbowVisualizer(ax=&lt;Axes: &gt;, estimator=KMeans(n_clusters=9), k=(1, 10))</pre><b>In a Jupyter environment, please rerun this cell to show the HTML representation or trust the notebook. <br />On GitHub, the HTML representation is unable to render, please try loading this page with nbviewer.org.</b></div><div class=\"sk-container\" hidden><div class=\"sk-item sk-dashed-wrapped\"><div class=\"sk-label-container\"><div class=\"sk-label fitted sk-toggleable\"><input class=\"sk-toggleable__control sk-hidden--visually\" id=\"sk-estimator-id-1\" type=\"checkbox\" ><label for=\"sk-estimator-id-1\" class=\"sk-toggleable__label fitted sk-toggleable__label-arrow fitted\">&nbsp;KElbowVisualizer<span class=\"sk-estimator-doc-link fitted\">i<span>Fitted</span></span></label><div class=\"sk-toggleable__content fitted\"><pre>KElbowVisualizer(ax=&lt;Axes: &gt;, estimator=KMeans(n_clusters=9), k=(1, 10))</pre></div> </div></div><div class=\"sk-parallel\"><div class=\"sk-parallel-item\"><div class=\"sk-item\"><div class=\"sk-label-container\"><div class=\"sk-label fitted sk-toggleable\"><input class=\"sk-toggleable__control sk-hidden--visually\" id=\"sk-estimator-id-2\" type=\"checkbox\" ><label for=\"sk-estimator-id-2\" class=\"sk-toggleable__label fitted sk-toggleable__label-arrow fitted\">estimator: KMeans</label><div class=\"sk-toggleable__content fitted\"><pre>KMeans(n_clusters=9)</pre></div> </div></div><div class=\"sk-serial\"><div class=\"sk-item\"><div class=\"sk-estimator fitted sk-toggleable\"><input class=\"sk-toggleable__control sk-hidden--visually\" id=\"sk-estimator-id-3\" type=\"checkbox\" ><label for=\"sk-estimator-id-3\" class=\"sk-toggleable__label fitted sk-toggleable__label-arrow fitted\">&nbsp;KMeans<a class=\"sk-estimator-doc-link fitted\" rel=\"noreferrer\" target=\"_blank\" href=\"https://scikit-learn.org/1.5/modules/generated/sklearn.cluster.KMeans.html\">?<span>Documentation for KMeans</span></a></label><div class=\"sk-toggleable__content fitted\"><pre>KMeans(n_clusters=9)</pre></div> </div></div></div></div></div></div></div></div></div>"
      ],
      "text/plain": [
       "KElbowVisualizer(ax=<Axes: >, estimator=KMeans(n_clusters=9), k=(1, 10))"
      ]
     },
     "execution_count": 29,
     "metadata": {},
     "output_type": "execute_result"
    },
    {
     "data": {
      "image/png": "[encoded data removed]",
      "text/plain": [
       "<Figure size 800x550 with 2 Axes>"
      ]
     },
     "metadata": {},
     "output_type": "display_data"
    }
   ],
   "source": [
    "model = KMeans() \n",
    "visualizer = KElbowVisualizer(model, k=(1,10))\n",
    "visualizer.fit(h_m_pct)"
   ]
  },
  {
   "cell_type": "code",
   "execution_count": 54,
   "metadata": {},
   "outputs": [],
   "source": [
    "k = 3\n",
    "model = KMeans(n_clusters = k, random_state = 10)\n",
    "model.fit(h_m_pct)\n",
    "h_m_pct['cluster'] = model.fit_predict(h_m_pct).astype(str)"
   ]
  },
  {
   "cell_type": "code",
   "execution_count": 31,
   "metadata": {},
   "outputs": [
    {
     "data": {
      "application/vnd.plotly.v1+json": {
       "config": {
        "plotlyServerURL": "https://plot.ly"
       },
       "data": [
        {
         "hovertemplate": "cluster=0<br>08시=%{x}<br>18시=%{y}<extra></extra>",
         "legendgroup": "0",
         "marker": {
          "color": "#636efa",
          "symbol": "circle"
         },
         "mode": "markers",
         "name": "0",
         "orientation": "v",
         "showlegend": true,
         "type": "scatter",
         "x": [
          0.026587244468060822,
          0.03994369712266379,
          0.0556670317537487,
          0.015444343748965117,
          0.040359108360749435,
          0.023060166807948743,
          0.03677220709424912,
          0.012198353512577882,
          0.01994790660593742,
          0.017141351811594485,
          0.019219185827767243,
          0.011709652743468498,
          0.029837912907116994
         ],
         "xaxis": "x",
         "y": [
          0.13264387749584736,
          0.15035034089535593,
          0.18753776085825008,
          0.18858415845137474,
          0.16451207327176032,
          0.18703172566241325,
          0.2207009422030095,
          0.2401562391803606,
          0.20918174956127286,
          0.20778240064147593,
          0.18513549706616927,
          0.20087894726325953,
          0.11888212814709899
         ],
         "yaxis": "y"
        },
        {
         "hovertemplate": "cluster=1<br>08시=%{x}<br>18시=%{y}<extra></extra>",
         "legendgroup": "1",
         "marker": {
          "color": "#EF553B",
          "symbol": "circle"
         },
         "mode": "markers",
         "name": "1",
         "orientation": "v",
         "showlegend": true,
         "type": "scatter",
         "x": [
          0.10984725704696764,
          0.1090645023781151,
          0.16496351581331165,
          0.15454371138482065,
          0.10588669463188796,
          0.12757294564840346,
          0.09231708471676736,
          0.16821832302721196,
          0.15050677724076258,
          0.12692395000435036,
          0.22074423336490637,
          0.10248823385107962,
          0.16775771745424883,
          0.09313943952220977,
          0.164261167926722,
          0.15021773338787806,
          0.11664418450634047,
          0.12343504032515304,
          0.14883580137048844,
          0.1680198488581817,
          0.11843681020163452,
          0.11803160564424647,
          0.11900693077229037
         ],
         "xaxis": "x",
         "y": [
          0.06721189274663052,
          0.12895752359695456,
          0.06690477598266228,
          0.06662889403936832,
          0.11179753546708486,
          0.07721074243260118,
          0.10227605194353803,
          0.051227626793519526,
          0.07342885349810513,
          0.06904588979832482,
          0.04842787292131558,
          0.08742125429523843,
          0.05414999390471822,
          0.08869886882452536,
          0.05191189254324522,
          0.04424467956525377,
          0.06606719337327321,
          0.06966604027435988,
          0.04786722936784792,
          0.04900400715291123,
          0.08708531757588661,
          0.07642379834793225,
          0.06649728199956702
         ],
         "yaxis": "y"
        },
        {
         "hovertemplate": "cluster=2<br>08시=%{x}<br>18시=%{y}<extra></extra>",
         "legendgroup": "2",
         "marker": {
          "color": "#00cc96",
          "symbol": "circle"
         },
         "mode": "markers",
         "name": "2",
         "orientation": "v",
         "showlegend": true,
         "type": "scatter",
         "x": [
          0.08512636866280336,
          0.026771560410191478,
          0.08166433091546531,
          0.06888711105683001,
          0.08637056935451755,
          0.05385711512956922,
          0.04416366379296416,
          0.07652874633578616,
          0.09136475170844759,
          0.05952626521237651,
          0.0769374377819392,
          0.07431017950729173,
          0.07836171370986951,
          0.06148339578270416,
          0.0418652094391751
         ],
         "xaxis": "x",
         "y": [
          0.07875982272949135,
          0.11486839235604406,
          0.16748770204469432,
          0.1329608030276116,
          0.08300025741599991,
          0.13106117798404196,
          0.08939501300885841,
          0.1603190993393171,
          0.08199134507382677,
          0.09393029708840345,
          0.10249944681847117,
          0.07095097346710649,
          0.17283598878011952,
          0.11731697923625656,
          0.09476076672769725
         ],
         "yaxis": "y"
        }
       ],
       "layout": {
        "height": 400,
        "legend": {
         "title": {
          "text": "cluster"
         },
         "tracegroupgap": 0
        },
        "template": {
         "data": {
          "bar": [
           {
            "error_x": {
             "color": "#2a3f5f"
            },
            "error_y": {
             "color": "#2a3f5f"
            },
            "marker": {
             "line": {
              "color": "#E5ECF6",
              "width": 0.5
             },
             "pattern": {
              "fillmode": "overlay",
              "size": 10,
              "solidity": 0.2
             }
            },
            "type": "bar"
           }
          ],
          "barpolar": [
           {
            "marker": {
             "line": {
              "color": "#E5ECF6",
              "width": 0.5
             },
             "pattern": {
              "fillmode": "overlay",
              "size": 10,
              "solidity": 0.2
             }
            },
            "type": "barpolar"
           }
          ],
          "carpet": [
           {
            "aaxis": {
             "endlinecolor": "#2a3f5f",
             "gridcolor": "white",
             "linecolor": "white",
             "minorgridcolor": "white",
             "startlinecolor": "#2a3f5f"
            },
            "baxis": {
             "endlinecolor": "#2a3f5f",
             "gridcolor": "white",
             "linecolor": "white",
             "minorgridcolor": "white",
             "startlinecolor": "#2a3f5f"
            },
            "type": "carpet"
           }
          ],
          "choropleth": [
           {
            "colorbar": {
             "outlinewidth": 0,
             "ticks": ""
            },
            "type": "choropleth"
           }
          ],
          "contour": [
           {
            "colorbar": {
             "outlinewidth": 0,
             "ticks": ""
            },
            "colorscale": [
             [
              0,
              "#0d0887"
             ],
             [
              0.1111111111111111,
              "#46039f"
             ],
             [
              0.2222222222222222,
              "#7201a8"
             ],
             [
              0.3333333333333333,
              "#9c179e"
             ],
             [
              0.4444444444444444,
              "#bd3786"
             ],
             [
              0.5555555555555556,
              "#d8576b"
             ],
             [
              0.6666666666666666,
              "#ed7953"
             ],
             [
              0.7777777777777778,
              "#fb9f3a"
             ],
             [
              0.8888888888888888,
              "#fdca26"
             ],
             [
              1,
              "#f0f921"
             ]
            ],
            "type": "contour"
           }
          ],
          "contourcarpet": [
           {
            "colorbar": {
             "outlinewidth": 0,
             "ticks": ""
            },
            "type": "contourcarpet"
           }
          ],
          "heatmap": [
           {
            "colorbar": {
             "outlinewidth": 0,
             "ticks": ""
            },
            "colorscale": [
             [
              0,
              "#0d0887"
             ],
             [
              0.1111111111111111,
              "#46039f"
             ],
             [
              0.2222222222222222,
              "#7201a8"
             ],
             [
              0.3333333333333333,
              "#9c179e"
             ],
             [
              0.4444444444444444,
              "#bd3786"
             ],
             [
              0.5555555555555556,
              "#d8576b"
             ],
             [
              0.6666666666666666,
              "#ed7953"
             ],
             [
              0.7777777777777778,
              "#fb9f3a"
             ],
             [
              0.8888888888888888,
              "#fdca26"
             ],
             [
              1,
              "#f0f921"
             ]
            ],
            "type": "heatmap"
           }
          ],
          "heatmapgl": [
           {
            "colorbar": {
             "outlinewidth": 0,
             "ticks": ""
            },
            "colorscale": [
             [
              0,
              "#0d0887"
             ],
             [
              0.1111111111111111,
              "#46039f"
             ],
             [
              0.2222222222222222,
              "#7201a8"
             ],
             [
              0.3333333333333333,
              "#9c179e"
             ],
             [
              0.4444444444444444,
              "#bd3786"
             ],
             [
              0.5555555555555556,
              "#d8576b"
             ],
             [
              0.6666666666666666,
              "#ed7953"
             ],
             [
              0.7777777777777778,
              "#fb9f3a"
             ],
             [
              0.8888888888888888,
              "#fdca26"
             ],
             [
              1,
              "#f0f921"
             ]
            ],
            "type": "heatmapgl"
           }
          ],
          "histogram": [
           {
            "marker": {
             "pattern": {
              "fillmode": "overlay",
              "size": 10,
              "solidity": 0.2
             }
            },
            "type": "histogram"
           }
          ],
          "histogram2d": [
           {
            "colorbar": {
             "outlinewidth": 0,
             "ticks": ""
            },
            "colorscale": [
             [
              0,
              "#0d0887"
             ],
             [
              0.1111111111111111,
              "#46039f"
             ],
             [
              0.2222222222222222,
              "#7201a8"
             ],
             [
              0.3333333333333333,
              "#9c179e"
             ],
             [
              0.4444444444444444,
              "#bd3786"
             ],
             [
              0.5555555555555556,
              "#d8576b"
             ],
             [
              0.6666666666666666,
              "#ed7953"
             ],
             [
              0.7777777777777778,
              "#fb9f3a"
             ],
             [
              0.8888888888888888,
              "#fdca26"
             ],
             [
              1,
              "#f0f921"
             ]
            ],
            "type": "histogram2d"
           }
          ],
          "histogram2dcontour": [
           {
            "colorbar": {
             "outlinewidth": 0,
             "ticks": ""
            },
            "colorscale": [
             [
              0,
              "#0d0887"
             ],
             [
              0.1111111111111111,
              "#46039f"
             ],
             [
              0.2222222222222222,
              "#7201a8"
             ],
             [
              0.3333333333333333,
              "#9c179e"
             ],
             [
              0.4444444444444444,
              "#bd3786"
             ],
             [
              0.5555555555555556,
              "#d8576b"
             ],
             [
              0.6666666666666666,
              "#ed7953"
             ],
             [
              0.7777777777777778,
              "#fb9f3a"
             ],
             [
              0.8888888888888888,
              "#fdca26"
             ],
             [
              1,
              "#f0f921"
             ]
            ],
            "type": "histogram2dcontour"
           }
          ],
          "mesh3d": [
           {
            "colorbar": {
             "outlinewidth": 0,
             "ticks": ""
            },
            "type": "mesh3d"
           }
          ],
          "parcoords": [
           {
            "line": {
             "colorbar": {
              "outlinewidth": 0,
              "ticks": ""
             }
            },
            "type": "parcoords"
           }
          ],
          "pie": [
           {
            "automargin": true,
            "type": "pie"
           }
          ],
          "scatter": [
           {
            "fillpattern": {
             "fillmode": "overlay",
             "size": 10,
             "solidity": 0.2
            },
            "type": "scatter"
           }
          ],
          "scatter3d": [
           {
            "line": {
             "colorbar": {
              "outlinewidth": 0,
              "ticks": ""
             }
            },
            "marker": {
             "colorbar": {
              "outlinewidth": 0,
              "ticks": ""
             }
            },
            "type": "scatter3d"
           }
          ],
          "scattercarpet": [
           {
            "marker": {
             "colorbar": {
              "outlinewidth": 0,
              "ticks": ""
             }
            },
            "type": "scattercarpet"
           }
          ],
          "scattergeo": [
           {
            "marker": {
             "colorbar": {
              "outlinewidth": 0,
              "ticks": ""
             }
            },
            "type": "scattergeo"
           }
          ],
          "scattergl": [
           {
            "marker": {
             "colorbar": {
              "outlinewidth": 0,
              "ticks": ""
             }
            },
            "type": "scattergl"
           }
          ],
          "scattermapbox": [
           {
            "marker": {
             "colorbar": {
              "outlinewidth": 0,
              "ticks": ""
             }
            },
            "type": "scattermapbox"
           }
          ],
          "scatterpolar": [
           {
            "marker": {
             "colorbar": {
              "outlinewidth": 0,
              "ticks": ""
             }
            },
            "type": "scatterpolar"
           }
          ],
          "scatterpolargl": [
           {
            "marker": {
             "colorbar": {
              "outlinewidth": 0,
              "ticks": ""
             }
            },
            "type": "scatterpolargl"
           }
          ],
          "scatterternary": [
           {
            "marker": {
             "colorbar": {
              "outlinewidth": 0,
              "ticks": ""
             }
            },
            "type": "scatterternary"
           }
          ],
          "surface": [
           {
            "colorbar": {
             "outlinewidth": 0,
             "ticks": ""
            },
            "colorscale": [
             [
              0,
              "#0d0887"
             ],
             [
              0.1111111111111111,
              "#46039f"
             ],
             [
              0.2222222222222222,
              "#7201a8"
             ],
             [
              0.3333333333333333,
              "#9c179e"
             ],
             [
              0.4444444444444444,
              "#bd3786"
             ],
             [
              0.5555555555555556,
              "#d8576b"
             ],
             [
              0.6666666666666666,
              "#ed7953"
             ],
             [
              0.7777777777777778,
              "#fb9f3a"
             ],
             [
              0.8888888888888888,
              "#fdca26"
             ],
             [
              1,
              "#f0f921"
             ]
            ],
            "type": "surface"
           }
          ],
          "table": [
           {
            "cells": {
             "fill": {
              "color": "#EBF0F8"
             },
             "line": {
              "color": "white"
             }
            },
            "header": {
             "fill": {
              "color": "#C8D4E3"
             },
             "line": {
              "color": "white"
             }
            },
            "type": "table"
           }
          ]
         },
         "layout": {
          "annotationdefaults": {
           "arrowcolor": "#2a3f5f",
           "arrowhead": 0,
           "arrowwidth": 1
          },
          "autotypenumbers": "strict",
          "coloraxis": {
           "colorbar": {
            "outlinewidth": 0,
            "ticks": ""
           }
          },
          "colorscale": {
           "diverging": [
            [
             0,
             "#8e0152"
            ],
            [
             0.1,
             "#c51b7d"
            ],
            [
             0.2,
             "#de77ae"
            ],
            [
             0.3,
             "#f1b6da"
            ],
            [
             0.4,
             "#fde0ef"
            ],
            [
             0.5,
             "#f7f7f7"
            ],
            [
             0.6,
             "#e6f5d0"
            ],
            [
             0.7,
             "#b8e186"
            ],
            [
             0.8,
             "#7fbc41"
            ],
            [
             0.9,
             "#4d9221"
            ],
            [
             1,
             "#276419"
            ]
           ],
           "sequential": [
            [
             0,
             "#0d0887"
            ],
            [
             0.1111111111111111,
             "#46039f"
            ],
            [
             0.2222222222222222,
             "#7201a8"
            ],
            [
             0.3333333333333333,
             "#9c179e"
            ],
            [
             0.4444444444444444,
             "#bd3786"
            ],
            [
             0.5555555555555556,
             "#d8576b"
            ],
            [
             0.6666666666666666,
             "#ed7953"
            ],
            [
             0.7777777777777778,
             "#fb9f3a"
            ],
            [
             0.8888888888888888,
             "#fdca26"
            ],
            [
             1,
             "#f0f921"
            ]
           ],
           "sequentialminus": [
            [
             0,
             "#0d0887"
            ],
            [
             0.1111111111111111,
             "#46039f"
            ],
            [
             0.2222222222222222,
             "#7201a8"
            ],
            [
             0.3333333333333333,
             "#9c179e"
            ],
            [
             0.4444444444444444,
             "#bd3786"
            ],
            [
             0.5555555555555556,
             "#d8576b"
            ],
            [
             0.6666666666666666,
             "#ed7953"
            ],
            [
             0.7777777777777778,
             "#fb9f3a"
            ],
            [
             0.8888888888888888,
             "#fdca26"
            ],
            [
             1,
             "#f0f921"
            ]
           ]
          },
          "colorway": [
           "#636efa",
           "#EF553B",
           "#00cc96",
           "#ab63fa",
           "#FFA15A",
           "#19d3f3",
           "#FF6692",
           "#B6E880",
           "#FF97FF",
           "#FECB52"
          ],
          "font": {
           "color": "#2a3f5f"
          },
          "geo": {
           "bgcolor": "white",
           "lakecolor": "white",
           "landcolor": "#E5ECF6",
           "showlakes": true,
           "showland": true,
           "subunitcolor": "white"
          },
          "hoverlabel": {
           "align": "left"
          },
          "hovermode": "closest",
          "mapbox": {
           "style": "light"
          },
          "paper_bgcolor": "white",
          "plot_bgcolor": "#E5ECF6",
          "polar": {
           "angularaxis": {
            "gridcolor": "white",
            "linecolor": "white",
            "ticks": ""
           },
           "bgcolor": "#E5ECF6",
           "radialaxis": {
            "gridcolor": "white",
            "linecolor": "white",
            "ticks": ""
           }
          },
          "scene": {
           "xaxis": {
            "backgroundcolor": "#E5ECF6",
            "gridcolor": "white",
            "gridwidth": 2,
            "linecolor": "white",
            "showbackground": true,
            "ticks": "",
            "zerolinecolor": "white"
           },
           "yaxis": {
            "backgroundcolor": "#E5ECF6",
            "gridcolor": "white",
            "gridwidth": 2,
            "linecolor": "white",
            "showbackground": true,
            "ticks": "",
            "zerolinecolor": "white"
           },
           "zaxis": {
            "backgroundcolor": "#E5ECF6",
            "gridcolor": "white",
            "gridwidth": 2,
            "linecolor": "white",
            "showbackground": true,
            "ticks": "",
            "zerolinecolor": "white"
           }
          },
          "shapedefaults": {
           "line": {
            "color": "#2a3f5f"
           }
          },
          "ternary": {
           "aaxis": {
            "gridcolor": "white",
            "linecolor": "white",
            "ticks": ""
           },
           "baxis": {
            "gridcolor": "white",
            "linecolor": "white",
            "ticks": ""
           },
           "bgcolor": "#E5ECF6",
           "caxis": {
            "gridcolor": "white",
            "linecolor": "white",
            "ticks": ""
           }
          },
          "title": {
           "x": 0.05
          },
          "xaxis": {
           "automargin": true,
           "gridcolor": "white",
           "linecolor": "white",
           "ticks": "",
           "title": {
            "standoff": 15
           },
           "zerolinecolor": "white",
           "zerolinewidth": 2
          },
          "yaxis": {
           "automargin": true,
           "gridcolor": "white",
           "linecolor": "white",
           "ticks": "",
           "title": {
            "standoff": 15
           },
           "zerolinecolor": "white",
           "zerolinewidth": 2
          }
         }
        },
        "title": {
         "text": "시간대별 승차 인원 클러스터링"
        },
        "width": 800,
        "xaxis": {
         "anchor": "y",
         "domain": [
          0,
          1
         ],
         "title": {
          "text": "08시"
         }
        },
        "yaxis": {
         "anchor": "x",
         "domain": [
          0,
          1
         ],
         "title": {
          "text": "18시"
         }
        }
       }
      }
     },
     "metadata": {},
     "output_type": "display_data"
    }
   ],
   "source": [
    "fig = px.scatter(data_frame = h_m_pct[['08시', '18시', 'cluster']].reset_index(), \n",
    "                 x = '08시',\n",
    "                 y = '18시',\n",
    "                 color = 'cluster',\n",
    "                 title = '시간대별 승차 인원 클러스터링',\n",
    "                 width = 800,\n",
    "                 height = 400\n",
    "                 )\n",
    "fig.show()"
   ]
  },
  {
   "cell_type": "code",
   "execution_count": 32,
   "metadata": {},
   "outputs": [
    {
     "name": "stdout",
     "output_type": "stream",
     "text": [
      "cluster 0\n",
      "['강남', '교대', '뚝섬', '삼성', '서초', '선릉', '성수', '시청', '역삼', '을지로3가', '을지로4가', '을지로입구', '한양대']\n",
      "cluster 1\n",
      "['강변', '구로디지털단지', '구의', '낙성대', '당산', '대림', '도림천', '봉천', '상왕십리', '서울대입구', '신답', '신당', '신대방', '신도림', '신림', '신정네거리', '신천', '아현', '양천구청', '용답', '용두', '잠실나루', '잠실새내']\n",
      "cluster 2\n",
      "['건대입구', '동대문역사문화공원', '문래', '방배', '사당', '신설동', '신촌', '영등포구청', '왕십리', '이대', '잠실', '종합운동장', '충정로', '합정', '홍대입구']\n"
     ]
    }
   ],
   "source": [
    "for i in range(k):\n",
    "    print(f'cluster {i}')\n",
    "    print(list(h_m_pct.query(f'cluster ==\"{i}\"').index))"
   ]
  },
  {
   "cell_type": "markdown",
   "metadata": {},
   "source": [
    "[5] 분석결과를 지도로 시각화하기"
   ]
  },
  {
   "cell_type": "code",
   "execution_count": 67,
   "metadata": {},
   "outputs": [],
   "source": [
    "seoul = pd.read_csv('서울시 역사마스터 정보.csv', encoding='cp949')\n"
   ]
  },
  {
   "cell_type": "code",
   "execution_count": 69,
   "metadata": {},
   "outputs": [
    {
     "data": {
      "text/html": [
       "<div>\n",
       "<style scoped>\n",
       "    .dataframe tbody tr th:only-of-type {\n",
       "        vertical-align: middle;\n",
       "    }\n",
       "\n",
       "    .dataframe tbody tr th {\n",
       "        vertical-align: top;\n",
       "    }\n",
       "\n",
       "    .dataframe thead th {\n",
       "        text-align: right;\n",
       "    }\n",
       "</style>\n",
       "<table border=\"1\" class=\"dataframe\">\n",
       "  <thead>\n",
       "    <tr style=\"text-align: right;\">\n",
       "      <th></th>\n",
       "      <th>역사_ID</th>\n",
       "      <th>역사명</th>\n",
       "      <th>호선</th>\n",
       "      <th>위도</th>\n",
       "      <th>경도</th>\n",
       "    </tr>\n",
       "  </thead>\n",
       "  <tbody>\n",
       "    <tr>\n",
       "      <th>0</th>\n",
       "      <td>9996</td>\n",
       "      <td>미사</td>\n",
       "      <td>5호선</td>\n",
       "      <td>37.560927</td>\n",
       "      <td>127.193877</td>\n",
       "    </tr>\n",
       "    <tr>\n",
       "      <th>1</th>\n",
       "      <td>9995</td>\n",
       "      <td>강일</td>\n",
       "      <td>5호선</td>\n",
       "      <td>37.557490</td>\n",
       "      <td>127.175930</td>\n",
       "    </tr>\n",
       "    <tr>\n",
       "      <th>2</th>\n",
       "      <td>4929</td>\n",
       "      <td>김포공항</td>\n",
       "      <td>김포골드라인</td>\n",
       "      <td>37.562360</td>\n",
       "      <td>126.801868</td>\n",
       "    </tr>\n",
       "    <tr>\n",
       "      <th>3</th>\n",
       "      <td>4928</td>\n",
       "      <td>고촌</td>\n",
       "      <td>김포골드라인</td>\n",
       "      <td>37.601243</td>\n",
       "      <td>126.770345</td>\n",
       "    </tr>\n",
       "    <tr>\n",
       "      <th>4</th>\n",
       "      <td>4927</td>\n",
       "      <td>풍무</td>\n",
       "      <td>김포골드라인</td>\n",
       "      <td>37.612488</td>\n",
       "      <td>126.732387</td>\n",
       "    </tr>\n",
       "  </tbody>\n",
       "</table>\n",
       "</div>"
      ],
      "text/plain": [
       "   역사_ID   역사명      호선         위도          경도\n",
       "0   9996    미사     5호선  37.560927  127.193877\n",
       "1   9995    강일     5호선  37.557490  127.175930\n",
       "2   4929  김포공항  김포골드라인  37.562360  126.801868\n",
       "3   4928    고촌  김포골드라인  37.601243  126.770345\n",
       "4   4927    풍무  김포골드라인  37.612488  126.732387"
      ]
     },
     "execution_count": 69,
     "metadata": {},
     "output_type": "execute_result"
    }
   ],
   "source": [
    "seoul.head()"
   ]
  },
  {
   "cell_type": "code",
   "execution_count": 70,
   "metadata": {},
   "outputs": [
    {
     "data": {
      "text/html": [
       "<div>\n",
       "<style scoped>\n",
       "    .dataframe tbody tr th:only-of-type {\n",
       "        vertical-align: middle;\n",
       "    }\n",
       "\n",
       "    .dataframe tbody tr th {\n",
       "        vertical-align: top;\n",
       "    }\n",
       "\n",
       "    .dataframe thead th {\n",
       "        text-align: right;\n",
       "    }\n",
       "</style>\n",
       "<table border=\"1\" class=\"dataframe\">\n",
       "  <thead>\n",
       "    <tr style=\"text-align: right;\">\n",
       "      <th></th>\n",
       "      <th>역사_ID</th>\n",
       "      <th>지하철역</th>\n",
       "      <th>호선</th>\n",
       "      <th>위도</th>\n",
       "      <th>경도</th>\n",
       "    </tr>\n",
       "  </thead>\n",
       "  <tbody>\n",
       "    <tr>\n",
       "      <th>708</th>\n",
       "      <td>250</td>\n",
       "      <td>용두</td>\n",
       "      <td>2호선</td>\n",
       "      <td>37.574028</td>\n",
       "      <td>127.038091</td>\n",
       "    </tr>\n",
       "    <tr>\n",
       "      <th>709</th>\n",
       "      <td>249</td>\n",
       "      <td>신정네거리</td>\n",
       "      <td>2호선</td>\n",
       "      <td>37.520074</td>\n",
       "      <td>126.852912</td>\n",
       "    </tr>\n",
       "    <tr>\n",
       "      <th>710</th>\n",
       "      <td>248</td>\n",
       "      <td>양천구청</td>\n",
       "      <td>2호선</td>\n",
       "      <td>37.512398</td>\n",
       "      <td>126.865819</td>\n",
       "    </tr>\n",
       "    <tr>\n",
       "      <th>711</th>\n",
       "      <td>247</td>\n",
       "      <td>도림천</td>\n",
       "      <td>2호선</td>\n",
       "      <td>37.514287</td>\n",
       "      <td>126.882768</td>\n",
       "    </tr>\n",
       "    <tr>\n",
       "      <th>712</th>\n",
       "      <td>246</td>\n",
       "      <td>신설동</td>\n",
       "      <td>2호선</td>\n",
       "      <td>37.574747</td>\n",
       "      <td>127.024932</td>\n",
       "    </tr>\n",
       "    <tr>\n",
       "      <th>713</th>\n",
       "      <td>245</td>\n",
       "      <td>신답</td>\n",
       "      <td>2호선</td>\n",
       "      <td>37.570040</td>\n",
       "      <td>127.046481</td>\n",
       "    </tr>\n",
       "    <tr>\n",
       "      <th>714</th>\n",
       "      <td>244</td>\n",
       "      <td>용답</td>\n",
       "      <td>2호선</td>\n",
       "      <td>37.561904</td>\n",
       "      <td>127.050899</td>\n",
       "    </tr>\n",
       "    <tr>\n",
       "      <th>715</th>\n",
       "      <td>243</td>\n",
       "      <td>충정로</td>\n",
       "      <td>2호선</td>\n",
       "      <td>37.559704</td>\n",
       "      <td>126.964378</td>\n",
       "    </tr>\n",
       "    <tr>\n",
       "      <th>716</th>\n",
       "      <td>242</td>\n",
       "      <td>아현</td>\n",
       "      <td>2호선</td>\n",
       "      <td>37.557345</td>\n",
       "      <td>126.956141</td>\n",
       "    </tr>\n",
       "    <tr>\n",
       "      <th>717</th>\n",
       "      <td>241</td>\n",
       "      <td>이대</td>\n",
       "      <td>2호선</td>\n",
       "      <td>37.556733</td>\n",
       "      <td>126.946013</td>\n",
       "    </tr>\n",
       "    <tr>\n",
       "      <th>718</th>\n",
       "      <td>240</td>\n",
       "      <td>신촌</td>\n",
       "      <td>2호선</td>\n",
       "      <td>37.555131</td>\n",
       "      <td>126.936926</td>\n",
       "    </tr>\n",
       "    <tr>\n",
       "      <th>719</th>\n",
       "      <td>239</td>\n",
       "      <td>홍대입구</td>\n",
       "      <td>2호선</td>\n",
       "      <td>37.556790</td>\n",
       "      <td>126.923708</td>\n",
       "    </tr>\n",
       "    <tr>\n",
       "      <th>720</th>\n",
       "      <td>238</td>\n",
       "      <td>합정</td>\n",
       "      <td>2호선</td>\n",
       "      <td>37.549457</td>\n",
       "      <td>126.913808</td>\n",
       "    </tr>\n",
       "    <tr>\n",
       "      <th>721</th>\n",
       "      <td>237</td>\n",
       "      <td>당산</td>\n",
       "      <td>2호선</td>\n",
       "      <td>37.534946</td>\n",
       "      <td>126.902767</td>\n",
       "    </tr>\n",
       "    <tr>\n",
       "      <th>722</th>\n",
       "      <td>236</td>\n",
       "      <td>영등포구청</td>\n",
       "      <td>2호선</td>\n",
       "      <td>37.525706</td>\n",
       "      <td>126.896610</td>\n",
       "    </tr>\n",
       "    <tr>\n",
       "      <th>723</th>\n",
       "      <td>235</td>\n",
       "      <td>문래</td>\n",
       "      <td>2호선</td>\n",
       "      <td>37.517933</td>\n",
       "      <td>126.894760</td>\n",
       "    </tr>\n",
       "    <tr>\n",
       "      <th>724</th>\n",
       "      <td>234</td>\n",
       "      <td>신도림</td>\n",
       "      <td>2호선</td>\n",
       "      <td>37.508961</td>\n",
       "      <td>126.891084</td>\n",
       "    </tr>\n",
       "    <tr>\n",
       "      <th>725</th>\n",
       "      <td>233</td>\n",
       "      <td>대림</td>\n",
       "      <td>2호선</td>\n",
       "      <td>37.493243</td>\n",
       "      <td>126.894932</td>\n",
       "    </tr>\n",
       "    <tr>\n",
       "      <th>726</th>\n",
       "      <td>232</td>\n",
       "      <td>구로디지털단지</td>\n",
       "      <td>2호선</td>\n",
       "      <td>37.485266</td>\n",
       "      <td>126.901401</td>\n",
       "    </tr>\n",
       "    <tr>\n",
       "      <th>727</th>\n",
       "      <td>231</td>\n",
       "      <td>신대방</td>\n",
       "      <td>2호선</td>\n",
       "      <td>37.487462</td>\n",
       "      <td>126.913149</td>\n",
       "    </tr>\n",
       "    <tr>\n",
       "      <th>728</th>\n",
       "      <td>230</td>\n",
       "      <td>신림</td>\n",
       "      <td>2호선</td>\n",
       "      <td>37.484201</td>\n",
       "      <td>126.929715</td>\n",
       "    </tr>\n",
       "    <tr>\n",
       "      <th>729</th>\n",
       "      <td>229</td>\n",
       "      <td>봉천</td>\n",
       "      <td>2호선</td>\n",
       "      <td>37.482362</td>\n",
       "      <td>126.941892</td>\n",
       "    </tr>\n",
       "    <tr>\n",
       "      <th>730</th>\n",
       "      <td>228</td>\n",
       "      <td>서울대입구</td>\n",
       "      <td>2호선</td>\n",
       "      <td>37.481247</td>\n",
       "      <td>126.952739</td>\n",
       "    </tr>\n",
       "    <tr>\n",
       "      <th>731</th>\n",
       "      <td>227</td>\n",
       "      <td>낙성대</td>\n",
       "      <td>2호선</td>\n",
       "      <td>37.476930</td>\n",
       "      <td>126.963693</td>\n",
       "    </tr>\n",
       "    <tr>\n",
       "      <th>732</th>\n",
       "      <td>226</td>\n",
       "      <td>사당</td>\n",
       "      <td>2호선</td>\n",
       "      <td>37.476538</td>\n",
       "      <td>126.981544</td>\n",
       "    </tr>\n",
       "    <tr>\n",
       "      <th>733</th>\n",
       "      <td>225</td>\n",
       "      <td>방배</td>\n",
       "      <td>2호선</td>\n",
       "      <td>37.481426</td>\n",
       "      <td>126.997596</td>\n",
       "    </tr>\n",
       "    <tr>\n",
       "      <th>734</th>\n",
       "      <td>224</td>\n",
       "      <td>서초</td>\n",
       "      <td>2호선</td>\n",
       "      <td>37.491897</td>\n",
       "      <td>127.007917</td>\n",
       "    </tr>\n",
       "    <tr>\n",
       "      <th>735</th>\n",
       "      <td>223</td>\n",
       "      <td>교대</td>\n",
       "      <td>2호선</td>\n",
       "      <td>37.493961</td>\n",
       "      <td>127.014667</td>\n",
       "    </tr>\n",
       "    <tr>\n",
       "      <th>736</th>\n",
       "      <td>222</td>\n",
       "      <td>강남</td>\n",
       "      <td>2호선</td>\n",
       "      <td>37.497990</td>\n",
       "      <td>127.027912</td>\n",
       "    </tr>\n",
       "    <tr>\n",
       "      <th>737</th>\n",
       "      <td>221</td>\n",
       "      <td>역삼</td>\n",
       "      <td>2호선</td>\n",
       "      <td>37.500622</td>\n",
       "      <td>127.036456</td>\n",
       "    </tr>\n",
       "    <tr>\n",
       "      <th>738</th>\n",
       "      <td>220</td>\n",
       "      <td>선릉</td>\n",
       "      <td>2호선</td>\n",
       "      <td>37.504286</td>\n",
       "      <td>127.048203</td>\n",
       "    </tr>\n",
       "    <tr>\n",
       "      <th>739</th>\n",
       "      <td>219</td>\n",
       "      <td>삼성</td>\n",
       "      <td>2호선</td>\n",
       "      <td>37.508844</td>\n",
       "      <td>127.063160</td>\n",
       "    </tr>\n",
       "    <tr>\n",
       "      <th>740</th>\n",
       "      <td>218</td>\n",
       "      <td>종합운동장</td>\n",
       "      <td>2호선</td>\n",
       "      <td>37.511022</td>\n",
       "      <td>127.073704</td>\n",
       "    </tr>\n",
       "    <tr>\n",
       "      <th>741</th>\n",
       "      <td>217</td>\n",
       "      <td>잠실새내</td>\n",
       "      <td>2호선</td>\n",
       "      <td>37.511687</td>\n",
       "      <td>127.086162</td>\n",
       "    </tr>\n",
       "    <tr>\n",
       "      <th>742</th>\n",
       "      <td>216</td>\n",
       "      <td>잠실</td>\n",
       "      <td>2호선</td>\n",
       "      <td>37.513262</td>\n",
       "      <td>127.100159</td>\n",
       "    </tr>\n",
       "    <tr>\n",
       "      <th>743</th>\n",
       "      <td>215</td>\n",
       "      <td>잠실나루</td>\n",
       "      <td>2호선</td>\n",
       "      <td>37.520733</td>\n",
       "      <td>127.103790</td>\n",
       "    </tr>\n",
       "    <tr>\n",
       "      <th>744</th>\n",
       "      <td>214</td>\n",
       "      <td>강변</td>\n",
       "      <td>2호선</td>\n",
       "      <td>37.535095</td>\n",
       "      <td>127.094681</td>\n",
       "    </tr>\n",
       "    <tr>\n",
       "      <th>745</th>\n",
       "      <td>213</td>\n",
       "      <td>구의</td>\n",
       "      <td>2호선</td>\n",
       "      <td>37.537077</td>\n",
       "      <td>127.085916</td>\n",
       "    </tr>\n",
       "    <tr>\n",
       "      <th>746</th>\n",
       "      <td>212</td>\n",
       "      <td>건대입구</td>\n",
       "      <td>2호선</td>\n",
       "      <td>37.540373</td>\n",
       "      <td>127.069191</td>\n",
       "    </tr>\n",
       "    <tr>\n",
       "      <th>747</th>\n",
       "      <td>211</td>\n",
       "      <td>성수</td>\n",
       "      <td>2호선</td>\n",
       "      <td>37.544581</td>\n",
       "      <td>127.055961</td>\n",
       "    </tr>\n",
       "    <tr>\n",
       "      <th>748</th>\n",
       "      <td>210</td>\n",
       "      <td>뚝섬</td>\n",
       "      <td>2호선</td>\n",
       "      <td>37.547184</td>\n",
       "      <td>127.047367</td>\n",
       "    </tr>\n",
       "    <tr>\n",
       "      <th>749</th>\n",
       "      <td>209</td>\n",
       "      <td>한양대</td>\n",
       "      <td>2호선</td>\n",
       "      <td>37.555273</td>\n",
       "      <td>127.043655</td>\n",
       "    </tr>\n",
       "    <tr>\n",
       "      <th>750</th>\n",
       "      <td>208</td>\n",
       "      <td>왕십리</td>\n",
       "      <td>2호선</td>\n",
       "      <td>37.561238</td>\n",
       "      <td>127.036954</td>\n",
       "    </tr>\n",
       "    <tr>\n",
       "      <th>751</th>\n",
       "      <td>207</td>\n",
       "      <td>상왕십리</td>\n",
       "      <td>2호선</td>\n",
       "      <td>37.564354</td>\n",
       "      <td>127.029354</td>\n",
       "    </tr>\n",
       "    <tr>\n",
       "      <th>752</th>\n",
       "      <td>206</td>\n",
       "      <td>신당</td>\n",
       "      <td>2호선</td>\n",
       "      <td>37.565640</td>\n",
       "      <td>127.019614</td>\n",
       "    </tr>\n",
       "    <tr>\n",
       "      <th>753</th>\n",
       "      <td>205</td>\n",
       "      <td>동대문역사문화공원</td>\n",
       "      <td>2호선</td>\n",
       "      <td>37.565613</td>\n",
       "      <td>127.009054</td>\n",
       "    </tr>\n",
       "    <tr>\n",
       "      <th>754</th>\n",
       "      <td>204</td>\n",
       "      <td>을지로4가</td>\n",
       "      <td>2호선</td>\n",
       "      <td>37.566595</td>\n",
       "      <td>126.997817</td>\n",
       "    </tr>\n",
       "    <tr>\n",
       "      <th>755</th>\n",
       "      <td>203</td>\n",
       "      <td>을지로3가</td>\n",
       "      <td>2호선</td>\n",
       "      <td>37.566306</td>\n",
       "      <td>126.991696</td>\n",
       "    </tr>\n",
       "    <tr>\n",
       "      <th>756</th>\n",
       "      <td>202</td>\n",
       "      <td>을지로입구</td>\n",
       "      <td>2호선</td>\n",
       "      <td>37.566014</td>\n",
       "      <td>126.982618</td>\n",
       "    </tr>\n",
       "    <tr>\n",
       "      <th>757</th>\n",
       "      <td>201</td>\n",
       "      <td>시청</td>\n",
       "      <td>2호선</td>\n",
       "      <td>37.563588</td>\n",
       "      <td>126.975411</td>\n",
       "    </tr>\n",
       "  </tbody>\n",
       "</table>\n",
       "</div>"
      ],
      "text/plain": [
       "     역사_ID       지하철역   호선         위도          경도\n",
       "708    250         용두  2호선  37.574028  127.038091\n",
       "709    249      신정네거리  2호선  37.520074  126.852912\n",
       "710    248       양천구청  2호선  37.512398  126.865819\n",
       "711    247        도림천  2호선  37.514287  126.882768\n",
       "712    246        신설동  2호선  37.574747  127.024932\n",
       "713    245         신답  2호선  37.570040  127.046481\n",
       "714    244         용답  2호선  37.561904  127.050899\n",
       "715    243        충정로  2호선  37.559704  126.964378\n",
       "716    242         아현  2호선  37.557345  126.956141\n",
       "717    241         이대  2호선  37.556733  126.946013\n",
       "718    240         신촌  2호선  37.555131  126.936926\n",
       "719    239       홍대입구  2호선  37.556790  126.923708\n",
       "720    238         합정  2호선  37.549457  126.913808\n",
       "721    237         당산  2호선  37.534946  126.902767\n",
       "722    236      영등포구청  2호선  37.525706  126.896610\n",
       "723    235         문래  2호선  37.517933  126.894760\n",
       "724    234        신도림  2호선  37.508961  126.891084\n",
       "725    233         대림  2호선  37.493243  126.894932\n",
       "726    232    구로디지털단지  2호선  37.485266  126.901401\n",
       "727    231        신대방  2호선  37.487462  126.913149\n",
       "728    230         신림  2호선  37.484201  126.929715\n",
       "729    229         봉천  2호선  37.482362  126.941892\n",
       "730    228      서울대입구  2호선  37.481247  126.952739\n",
       "731    227        낙성대  2호선  37.476930  126.963693\n",
       "732    226         사당  2호선  37.476538  126.981544\n",
       "733    225         방배  2호선  37.481426  126.997596\n",
       "734    224         서초  2호선  37.491897  127.007917\n",
       "735    223         교대  2호선  37.493961  127.014667\n",
       "736    222         강남  2호선  37.497990  127.027912\n",
       "737    221         역삼  2호선  37.500622  127.036456\n",
       "738    220         선릉  2호선  37.504286  127.048203\n",
       "739    219         삼성  2호선  37.508844  127.063160\n",
       "740    218      종합운동장  2호선  37.511022  127.073704\n",
       "741    217       잠실새내  2호선  37.511687  127.086162\n",
       "742    216         잠실  2호선  37.513262  127.100159\n",
       "743    215       잠실나루  2호선  37.520733  127.103790\n",
       "744    214         강변  2호선  37.535095  127.094681\n",
       "745    213         구의  2호선  37.537077  127.085916\n",
       "746    212       건대입구  2호선  37.540373  127.069191\n",
       "747    211         성수  2호선  37.544581  127.055961\n",
       "748    210         뚝섬  2호선  37.547184  127.047367\n",
       "749    209        한양대  2호선  37.555273  127.043655\n",
       "750    208        왕십리  2호선  37.561238  127.036954\n",
       "751    207       상왕십리  2호선  37.564354  127.029354\n",
       "752    206         신당  2호선  37.565640  127.019614\n",
       "753    205  동대문역사문화공원  2호선  37.565613  127.009054\n",
       "754    204      을지로4가  2호선  37.566595  126.997817\n",
       "755    203      을지로3가  2호선  37.566306  126.991696\n",
       "756    202      을지로입구  2호선  37.566014  126.982618\n",
       "757    201         시청  2호선  37.563588  126.975411"
      ]
     },
     "execution_count": 70,
     "metadata": {},
     "output_type": "execute_result"
    }
   ],
   "source": [
    "seoul = seoul.query('호선 == \"2호선\"')\n",
    "seoul['역사명'] = [i[0] for i in seoul['역사명'].str.split('(')] \n",
    "seoul.rename({'역사명':'지하철역'}, axis=1, inplace=True)\n",
    "seoul"
   ]
  },
  {
   "cell_type": "code",
   "execution_count": 78,
   "metadata": {},
   "outputs": [],
   "source": [
    "h_m_merge = h_m.reset_index()[['지하철역','08시','18시']]\n",
    "seoul_m = seoul[['지하철역', '위도','경도']]\n",
    "h_m_seoul = pd.merge(h_m_merge, seoul_m, on='지하철역')"
   ]
  },
  {
   "cell_type": "code",
   "execution_count": 79,
   "metadata": {},
   "outputs": [
    {
     "data": {
      "text/html": [
       "<div>\n",
       "<style scoped>\n",
       "    .dataframe tbody tr th:only-of-type {\n",
       "        vertical-align: middle;\n",
       "    }\n",
       "\n",
       "    .dataframe tbody tr th {\n",
       "        vertical-align: top;\n",
       "    }\n",
       "\n",
       "    .dataframe thead th {\n",
       "        text-align: right;\n",
       "    }\n",
       "</style>\n",
       "<table border=\"1\" class=\"dataframe\">\n",
       "  <thead>\n",
       "    <tr style=\"text-align: right;\">\n",
       "      <th></th>\n",
       "      <th>지하철역</th>\n",
       "      <th>04시</th>\n",
       "      <th>05시</th>\n",
       "      <th>06시</th>\n",
       "      <th>07시</th>\n",
       "      <th>08시</th>\n",
       "      <th>09시</th>\n",
       "      <th>10시</th>\n",
       "      <th>11시</th>\n",
       "      <th>12시</th>\n",
       "      <th>...</th>\n",
       "      <th>20시</th>\n",
       "      <th>21시</th>\n",
       "      <th>22시</th>\n",
       "      <th>23시</th>\n",
       "      <th>00시</th>\n",
       "      <th>01시</th>\n",
       "      <th>02시</th>\n",
       "      <th>03시</th>\n",
       "      <th>위도</th>\n",
       "      <th>경도</th>\n",
       "    </tr>\n",
       "  </thead>\n",
       "  <tbody>\n",
       "    <tr>\n",
       "      <th>0</th>\n",
       "      <td>강남</td>\n",
       "      <td>222.186441</td>\n",
       "      <td>12597.932203</td>\n",
       "      <td>21894.932203</td>\n",
       "      <td>43830.788136</td>\n",
       "      <td>69857.940678</td>\n",
       "      <td>58999.203390</td>\n",
       "      <td>58628.796610</td>\n",
       "      <td>78245.466102</td>\n",
       "      <td>99324.288136</td>\n",
       "      <td>...</td>\n",
       "      <td>189324.423729</td>\n",
       "      <td>229434.000000</td>\n",
       "      <td>227080.644068</td>\n",
       "      <td>97754.957627</td>\n",
       "      <td>15753.161017</td>\n",
       "      <td>51.652542</td>\n",
       "      <td>6.355932</td>\n",
       "      <td>0.355932</td>\n",
       "      <td>37.497990</td>\n",
       "      <td>127.027912</td>\n",
       "    </tr>\n",
       "    <tr>\n",
       "      <th>1</th>\n",
       "      <td>강변</td>\n",
       "      <td>31.974576</td>\n",
       "      <td>9415.906780</td>\n",
       "      <td>28910.915254</td>\n",
       "      <td>88145.491525</td>\n",
       "      <td>129231.483051</td>\n",
       "      <td>94970.305085</td>\n",
       "      <td>75147.296610</td>\n",
       "      <td>70067.762712</td>\n",
       "      <td>67398.805085</td>\n",
       "      <td>...</td>\n",
       "      <td>51619.805085</td>\n",
       "      <td>44474.059322</td>\n",
       "      <td>31915.135593</td>\n",
       "      <td>12612.144068</td>\n",
       "      <td>1627.245763</td>\n",
       "      <td>14.398305</td>\n",
       "      <td>0.686441</td>\n",
       "      <td>0.000000</td>\n",
       "      <td>37.535095</td>\n",
       "      <td>127.094681</td>\n",
       "    </tr>\n",
       "    <tr>\n",
       "      <th>2</th>\n",
       "      <td>건대입구</td>\n",
       "      <td>348.906780</td>\n",
       "      <td>18662.449153</td>\n",
       "      <td>24858.101695</td>\n",
       "      <td>59249.966102</td>\n",
       "      <td>100996.771186</td>\n",
       "      <td>67139.313559</td>\n",
       "      <td>41233.550847</td>\n",
       "      <td>40207.415254</td>\n",
       "      <td>47175.466102</td>\n",
       "      <td>...</td>\n",
       "      <td>75310.203390</td>\n",
       "      <td>86403.669492</td>\n",
       "      <td>86538.703390</td>\n",
       "      <td>50725.762712</td>\n",
       "      <td>7747.949153</td>\n",
       "      <td>38.118644</td>\n",
       "      <td>2.381356</td>\n",
       "      <td>0.161017</td>\n",
       "      <td>37.540373</td>\n",
       "      <td>127.069191</td>\n",
       "    </tr>\n",
       "    <tr>\n",
       "      <th>3</th>\n",
       "      <td>교대</td>\n",
       "      <td>22.067797</td>\n",
       "      <td>2860.025424</td>\n",
       "      <td>13100.415254</td>\n",
       "      <td>27154.483051</td>\n",
       "      <td>39192.050847</td>\n",
       "      <td>32250.228814</td>\n",
       "      <td>30804.711864</td>\n",
       "      <td>37257.830508</td>\n",
       "      <td>39999.627119</td>\n",
       "      <td>...</td>\n",
       "      <td>58660.677966</td>\n",
       "      <td>65036.220339</td>\n",
       "      <td>59694.152542</td>\n",
       "      <td>21246.711864</td>\n",
       "      <td>3600.635593</td>\n",
       "      <td>10.008475</td>\n",
       "      <td>0.855932</td>\n",
       "      <td>0.025424</td>\n",
       "      <td>37.493961</td>\n",
       "      <td>127.014667</td>\n",
       "    </tr>\n",
       "    <tr>\n",
       "      <th>4</th>\n",
       "      <td>구로디지털단지</td>\n",
       "      <td>254.686441</td>\n",
       "      <td>40167.881356</td>\n",
       "      <td>54779.059322</td>\n",
       "      <td>144634.474576</td>\n",
       "      <td>188797.635593</td>\n",
       "      <td>118961.101695</td>\n",
       "      <td>72675.067797</td>\n",
       "      <td>65223.262712</td>\n",
       "      <td>69915.237288</td>\n",
       "      <td>...</td>\n",
       "      <td>75902.940678</td>\n",
       "      <td>65967.118644</td>\n",
       "      <td>51993.059322</td>\n",
       "      <td>23896.406780</td>\n",
       "      <td>3451.474576</td>\n",
       "      <td>16.500000</td>\n",
       "      <td>0.881356</td>\n",
       "      <td>0.067797</td>\n",
       "      <td>37.485266</td>\n",
       "      <td>126.901401</td>\n",
       "    </tr>\n",
       "  </tbody>\n",
       "</table>\n",
       "<p>5 rows × 27 columns</p>\n",
       "</div>"
      ],
      "text/plain": [
       "      지하철역         04시           05시           06시            07시  \\\n",
       "0       강남  222.186441  12597.932203  21894.932203   43830.788136   \n",
       "1       강변   31.974576   9415.906780  28910.915254   88145.491525   \n",
       "2     건대입구  348.906780  18662.449153  24858.101695   59249.966102   \n",
       "3       교대   22.067797   2860.025424  13100.415254   27154.483051   \n",
       "4  구로디지털단지  254.686441  40167.881356  54779.059322  144634.474576   \n",
       "\n",
       "             08시            09시           10시           11시           12시  \\\n",
       "0   69857.940678   58999.203390  58628.796610  78245.466102  99324.288136   \n",
       "1  129231.483051   94970.305085  75147.296610  70067.762712  67398.805085   \n",
       "2  100996.771186   67139.313559  41233.550847  40207.415254  47175.466102   \n",
       "3   39192.050847   32250.228814  30804.711864  37257.830508  39999.627119   \n",
       "4  188797.635593  118961.101695  72675.067797  65223.262712  69915.237288   \n",
       "\n",
       "   ...            20시            21시            22시           23시  \\\n",
       "0  ...  189324.423729  229434.000000  227080.644068  97754.957627   \n",
       "1  ...   51619.805085   44474.059322   31915.135593  12612.144068   \n",
       "2  ...   75310.203390   86403.669492   86538.703390  50725.762712   \n",
       "3  ...   58660.677966   65036.220339   59694.152542  21246.711864   \n",
       "4  ...   75902.940678   65967.118644   51993.059322  23896.406780   \n",
       "\n",
       "            00시        01시       02시       03시         위도          경도  \n",
       "0  15753.161017  51.652542  6.355932  0.355932  37.497990  127.027912  \n",
       "1   1627.245763  14.398305  0.686441  0.000000  37.535095  127.094681  \n",
       "2   7747.949153  38.118644  2.381356  0.161017  37.540373  127.069191  \n",
       "3   3600.635593  10.008475  0.855932  0.025424  37.493961  127.014667  \n",
       "4   3451.474576  16.500000  0.881356  0.067797  37.485266  126.901401  \n",
       "\n",
       "[5 rows x 27 columns]"
      ]
     },
     "execution_count": 79,
     "metadata": {},
     "output_type": "execute_result"
    }
   ],
   "source": [
    "seoul_h_m = h_m.reset_index().merge(seoul[['지하철역','위도','경도']], on='지하철역')\n",
    "seoul_h_m.head()"
   ]
  },
  {
   "cell_type": "code",
   "execution_count": 80,
   "metadata": {},
   "outputs": [],
   "source": [
    "import folium\n",
    "from folium import plugins"
   ]
  },
  {
   "cell_type": "code",
   "execution_count": 81,
   "metadata": {},
   "outputs": [],
   "source": [
    "center = [37.541, 126.986]"
   ]
  },
  {
   "cell_type": "code",
   "execution_count": 82,
   "metadata": {},
   "outputs": [
    {
     "data": {
      "text/html": [
       "<div style=\"width:100%;\"><div style=\"position:relative;width:100%;height:0;padding-bottom:60%;\"><span style=\"color:#565656\">Make this Notebook Trusted to load map: File -> Trust Notebook</span><iframe srcdoc=\"&lt;!DOCTYPE html&gt;\n",
       "&lt;html&gt;\n",
       "&lt;head&gt;\n",
       "    \n",
       "    &lt;meta http-equiv=&quot;content-type&quot; content=&quot;text/html; charset=UTF-8&quot; /&gt;\n",
       "    \n",
       "        &lt;script&gt;\n",
       "            L_NO_TOUCH = false;\n",
       "            L_DISABLE_3D = false;\n",
       "        &lt;/script&gt;\n",
       "    \n",
       "    &lt;style&gt;html, body {width: 100%;height: 100%;margin: 0;padding: 0;}&lt;/style&gt;\n",
       "    &lt;style&gt;#map {position:absolute;top:0;bottom:0;right:0;left:0;}&lt;/style&gt;\n",
       "    &lt;script src=&quot;https://cdn.jsdelivr.net/npm/leaflet@1.9.3/dist/leaflet.js&quot;&gt;&lt;/script&gt;\n",
       "    &lt;script src=&quot;https://code.jquery.com/jquery-3.7.1.min.js&quot;&gt;&lt;/script&gt;\n",
       "    &lt;script src=&quot;https://cdn.jsdelivr.net/npm/bootstrap@5.2.2/dist/js/bootstrap.bundle.min.js&quot;&gt;&lt;/script&gt;\n",
       "    &lt;script src=&quot;https://cdnjs.cloudflare.com/ajax/libs/Leaflet.awesome-markers/2.0.2/leaflet.awesome-markers.js&quot;&gt;&lt;/script&gt;\n",
       "    &lt;link rel=&quot;stylesheet&quot; href=&quot;https://cdn.jsdelivr.net/npm/leaflet@1.9.3/dist/leaflet.css&quot;/&gt;\n",
       "    &lt;link rel=&quot;stylesheet&quot; href=&quot;https://cdn.jsdelivr.net/npm/bootstrap@5.2.2/dist/css/bootstrap.min.css&quot;/&gt;\n",
       "    &lt;link rel=&quot;stylesheet&quot; href=&quot;https://netdna.bootstrapcdn.com/bootstrap/3.0.0/css/bootstrap-glyphicons.css&quot;/&gt;\n",
       "    &lt;link rel=&quot;stylesheet&quot; href=&quot;https://cdn.jsdelivr.net/npm/@fortawesome/fontawesome-free@6.2.0/css/all.min.css&quot;/&gt;\n",
       "    &lt;link rel=&quot;stylesheet&quot; href=&quot;https://cdnjs.cloudflare.com/ajax/libs/Leaflet.awesome-markers/2.0.2/leaflet.awesome-markers.css&quot;/&gt;\n",
       "    &lt;link rel=&quot;stylesheet&quot; href=&quot;https://cdn.jsdelivr.net/gh/python-visualization/folium/folium/templates/leaflet.awesome.rotate.min.css&quot;/&gt;\n",
       "    \n",
       "            &lt;meta name=&quot;viewport&quot; content=&quot;width=device-width,\n",
       "                initial-scale=1.0, maximum-scale=1.0, user-scalable=no&quot; /&gt;\n",
       "            &lt;style&gt;\n",
       "                #map_240627e3ac9c724707f3f3e8efd9f563 {\n",
       "                    position: relative;\n",
       "                    width: 100.0%;\n",
       "                    height: 100.0%;\n",
       "                    left: 0.0%;\n",
       "                    top: 0.0%;\n",
       "                }\n",
       "                .leaflet-container { font-size: 1rem; }\n",
       "            &lt;/style&gt;\n",
       "        \n",
       "    &lt;script src=&quot;https://cdn.jsdelivr.net/gh/python-visualization/folium@main/folium/templates/leaflet_heat.min.js&quot;&gt;&lt;/script&gt;\n",
       "&lt;/head&gt;\n",
       "&lt;body&gt;\n",
       "    \n",
       "    \n",
       "            &lt;div class=&quot;folium-map&quot; id=&quot;map_240627e3ac9c724707f3f3e8efd9f563&quot; &gt;&lt;/div&gt;\n",
       "        \n",
       "&lt;/body&gt;\n",
       "&lt;script&gt;\n",
       "    \n",
       "    \n",
       "            var map_240627e3ac9c724707f3f3e8efd9f563 = L.map(\n",
       "                &quot;map_240627e3ac9c724707f3f3e8efd9f563&quot;,\n",
       "                {\n",
       "                    center: [37.541, 126.986],\n",
       "                    crs: L.CRS.EPSG3857,\n",
       "                    zoom: 12,\n",
       "                    zoomControl: true,\n",
       "                    preferCanvas: false,\n",
       "                }\n",
       "            );\n",
       "\n",
       "            \n",
       "\n",
       "        \n",
       "    \n",
       "            var tile_layer_79cbc952d8304f2b094e0f80ba68e71b = L.tileLayer(\n",
       "                &quot;https://tile.openstreetmap.org/{z}/{x}/{y}.png&quot;,\n",
       "                {&quot;attribution&quot;: &quot;\\u0026copy; \\u003ca href=\\&quot;https://www.openstreetmap.org/copyright\\&quot;\\u003eOpenStreetMap\\u003c/a\\u003e contributors&quot;, &quot;detectRetina&quot;: false, &quot;maxNativeZoom&quot;: 19, &quot;maxZoom&quot;: 19, &quot;minZoom&quot;: 0, &quot;noWrap&quot;: false, &quot;opacity&quot;: 1, &quot;subdomains&quot;: &quot;abc&quot;, &quot;tms&quot;: false}\n",
       "            );\n",
       "        \n",
       "    \n",
       "            tile_layer_79cbc952d8304f2b094e0f80ba68e71b.addTo(map_240627e3ac9c724707f3f3e8efd9f563);\n",
       "        \n",
       "    \n",
       "            var heat_map_be6bf3a825a46607fbc95b690071c9d1 = L.heatLayer(\n",
       "                [[37.49799, 127.027912, 69857.94067796611], [37.535095, 127.094681, 129231.48305084746], [37.540373, 127.069191, 100996.77118644067], [37.493961, 127.014667, 39192.05084745763], [37.485266, 126.901401, 188797.63559322033], [37.537077, 127.085916, 113254.17796610169], [37.47693, 126.963693, 130158.03389830509], [37.534946, 126.902767, 61367.22881355932], [37.493243, 126.894932, 102202.87288135593], [37.514287, 126.882768, 3115.262711864407], [37.565613, 127.009054, 12471.847457627118], [37.547184, 127.047367, 30782.5], [37.517933, 126.89476, 46859.0], [37.481426, 126.997596, 37035.17796610169], [37.482362, 126.941892, 116414.22881355933], [37.476538, 126.981544, 101966.7372881356], [37.508844, 127.06316, 24361.771186440677], [37.564354, 127.029354, 57512.99152542373], [37.481247, 126.952739, 184523.55084745763], [37.491897, 127.007917, 25545.22033898305], [37.504286, 127.048203, 35296.94915254237], [37.544581, 127.055961, 32695.889830508473], [37.563588, 126.975411, 8428.830508474577], [37.57004, 127.046481, 9572.889830508475], [37.56564, 127.019614, 43420.76271186441], [37.487462, 126.913149, 132458.11864406778], [37.508961, 126.891084, 150246.78813559323], [37.484201, 126.929715, 313232.0084745763], [37.574747, 127.024932, 6111.635593220339], [37.520074, 126.852912, 43815.50847457627], [37.555131, 126.936926, 55361.76271186441], [37.557345, 126.956141, 37008.32203389831], [37.512398, 126.865819, 29642.79661016949], [37.500622, 127.036456, 26364.898305084746], [37.525706, 126.89661, 47267.042372881355], [37.561238, 127.036954, 48192.94915254237], [37.561904, 127.050899, 13316.677966101695], [37.574028, 127.038091, 7995.5847457627115], [37.566306, 126.991696, 10530.72033898305], [37.566595, 126.997817, 7025.1016949152545], [37.566014, 126.982618, 15619.677966101695], [37.556733, 126.946013, 30801.525423728814], [37.513262, 127.100159, 179606.94915254237], [37.520733, 127.10379, 53683.96610169492], [37.511687, 127.086162, 79987.56842105264], [37.511022, 127.073704, 28007.881355932204], [37.559704, 126.964378, 23767.771186440677], [37.555273, 127.043655, 8931.915254237289], [37.549457, 126.913808, 58120.754237288136], [37.55679, 126.923708, 86135.28813559322]],\n",
       "                {&quot;blur&quot;: 15, &quot;maxZoom&quot;: 18, &quot;minOpacity&quot;: 0.5, &quot;radius&quot;: 25}\n",
       "            );\n",
       "        \n",
       "    \n",
       "            heat_map_be6bf3a825a46607fbc95b690071c9d1.addTo(map_240627e3ac9c724707f3f3e8efd9f563);\n",
       "        \n",
       "&lt;/script&gt;\n",
       "&lt;/html&gt;\" style=\"position:absolute;width:100%;height:100%;left:0;top:0;border:none !important;\" allowfullscreen webkitallowfullscreen mozallowfullscreen></iframe></div></div>"
      ],
      "text/plain": [
       "<folium.folium.Map at 0x206e6232ff0>"
      ]
     },
     "execution_count": 82,
     "metadata": {},
     "output_type": "execute_result"
    }
   ],
   "source": [
    "m = folium.Map(location=center, zoom_start=12)\n",
    "m.add_child(plugins.HeatMap(zip(h_m_seoul['위도'], h_m_seoul['경도'], h_m_seoul['08시'])))\n",
    "m"
   ]
  }
 ],
 "metadata": {
  "kernelspec": {
   "display_name": "Python 3",
   "language": "python",
   "name": "python3"
  },
  "language_info": {
   "codemirror_mode": {
    "name": "ipython",
    "version": 3
   },
   "file_extension": ".py",
   "mimetype": "text/x-python",
   "name": "python",
   "nbconvert_exporter": "python",
   "pygments_lexer": "ipython3",
   "version": "3.12.4"
  }
 },
 "nbformat": 4,
 "nbformat_minor": 2
}
